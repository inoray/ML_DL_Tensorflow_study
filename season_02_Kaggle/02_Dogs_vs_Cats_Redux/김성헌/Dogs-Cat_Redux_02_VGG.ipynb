{
 "cells": [
  {
   "cell_type": "markdown",
   "metadata": {},
   "source": [
    "# Dogs vs. Cats Redux: Kernels Edition\n",
    "\n",
    "## 2. 모델구성 및 학습"
   ]
  },
  {
   "cell_type": "code",
   "execution_count": 1,
   "metadata": {},
   "outputs": [
    {
     "name": "stderr",
     "output_type": "stream",
     "text": [
      "/home/shkim/anaconda3/lib/python3.6/site-packages/h5py/__init__.py:36: FutureWarning: Conversion of the second argument of issubdtype from `float` to `np.floating` is deprecated. In future, it will be treated as `np.float64 == np.dtype(float).type`.\n",
      "  from ._conv import register_converters as _register_converters\n"
     ]
    }
   ],
   "source": [
    "import os\n",
    "import matplotlib.pyplot as plt\n",
    "import tensorflow as tf\n",
    "import numpy as np\n",
    "from sklearn.model_selection import train_test_split\n",
    "import time\n",
    "import re\n",
    "\n",
    "# 구현모듈\n",
    "import data\n",
    "import model\n",
    "import train"
   ]
  },
  {
   "cell_type": "markdown",
   "metadata": {},
   "source": [
    "### 2.1 학습 데이터 생성 함수"
   ]
  },
  {
   "cell_type": "code",
   "execution_count": 2,
   "metadata": {},
   "outputs": [],
   "source": [
    "def getFiles(dir, word):\n",
    "    files =   [dir+i for i in os.listdir(dir) if word in i]\n",
    "    files.sort(key=lambda var:[int(x) if x.isdigit() else x for x in re.findall(r'[^0-9]|[0-9]+', var)])\n",
    "    return files"
   ]
  },
  {
   "cell_type": "code",
   "execution_count": 3,
   "metadata": {},
   "outputs": [],
   "source": [
    "def getDogCatData(image_dir, test_size=0.3):\n",
    "    dog_files =  getFiles(image_dir, 'dog')\n",
    "    cat_files =  getFiles(image_dir, 'cat')\n",
    "    print(\"dog_files: \", len(dog_files))\n",
    "    print(\"cat_files: \", len(cat_files))\n",
    "    \n",
    "    #dog_files = dog_files[:200]\n",
    "    #cat_files = cat_files[:200]\n",
    "\n",
    "    dog_cat_files = dog_files + cat_files\n",
    "\n",
    "    label_dog = [0 for i in range(len(dog_files))]\n",
    "    label_cat = [1 for i in range(len(cat_files))]\n",
    "    label_one_hot = np.eye(2)[label_dog + label_cat]\n",
    "\n",
    "    return train_test_split (dog_cat_files, label_one_hot, test_size=test_size, random_state=42)"
   ]
  },
  {
   "cell_type": "markdown",
   "metadata": {},
   "source": [
    "### 2.2 학습데이터와 valid 데이터 분리"
   ]
  },
  {
   "cell_type": "code",
   "execution_count": 4,
   "metadata": {},
   "outputs": [
    {
     "name": "stdout",
     "output_type": "stream",
     "text": [
      "dog_files:  12500\n",
      "cat_files:  12500\n",
      "train:  17500\n",
      "valid:  7500\n"
     ]
    }
   ],
   "source": [
    "DATA_DIR = \"../data/\"\n",
    "TRAIN_DIR = DATA_DIR + \"train_resize/\"\n",
    "\n",
    "x_train, x_valid, y_train, y_valid = getDogCatData (TRAIN_DIR)\n",
    "\n",
    "print(\"train: \", len(x_train))\n",
    "print(\"valid: \", len(x_valid))"
   ]
  },
  {
   "cell_type": "code",
   "execution_count": 5,
   "metadata": {},
   "outputs": [],
   "source": [
    "learning_rate = 0.0001\n",
    "epochs = 50\n",
    "batch_size =16"
   ]
  },
  {
   "cell_type": "markdown",
   "metadata": {},
   "source": [
    "### 2.3 dataset 생성"
   ]
  },
  {
   "cell_type": "code",
   "execution_count": 6,
   "metadata": {},
   "outputs": [],
   "source": [
    "# dataset 생성\n",
    "train_dataset = data.Dataset_image([x_train, y_train], batch_size = batch_size)\n",
    "valid_dataset = data.Dataset_image([x_valid, y_valid], batch_size = batch_size)"
   ]
  },
  {
   "cell_type": "code",
   "execution_count": null,
   "metadata": {},
   "outputs": [
    {
     "name": "stdout",
     "output_type": "stream",
     "text": [
      "WARNING:tensorflow:From /home/shkim/anaconda3/lib/python3.6/site-packages/tensorflow/contrib/learn/python/learn/datasets/base.py:198: retry (from tensorflow.contrib.learn.python.learn.datasets.base) is deprecated and will be removed in a future version.\n",
      "Instructions for updating:\n",
      "Use the retry module or similar alternatives.\n"
     ]
    }
   ],
   "source": [
    "sess = tf.Session(config=tf.ConfigProto(gpu_options=tf.GPUOptions(allow_growth =True)))\n",
    "model = model.Vgg(sess, \"model\")\n",
    "model.build_net(image_shape=[150, 150, 3], class_count=2)"
   ]
  },
  {
   "cell_type": "markdown",
   "metadata": {},
   "source": [
    "### 2.4 학습"
   ]
  },
  {
   "cell_type": "code",
   "execution_count": null,
   "metadata": {
    "scrolled": false
   },
   "outputs": [
    {
     "name": "stdout",
     "output_type": "stream",
     "text": [
      "train_count:  17500 total_batch_train:  1094\n",
      "valid_count:  7500 total_batch_valid:  469\n",
      "Learning started. It takes sometime.\n"
     ]
    }
   ],
   "source": [
    "train.train (model, train_dataset, valid_dataset, learning_rate, epochs)"
   ]
  },
  {
   "cell_type": "markdown",
   "metadata": {},
   "source": [
    "### 2.5 평가"
   ]
  },
  {
   "cell_type": "code",
   "execution_count": null,
   "metadata": {},
   "outputs": [],
   "source": [
    "train.eval (model, train_dataset)"
   ]
  },
  {
   "cell_type": "code",
   "execution_count": null,
   "metadata": {},
   "outputs": [],
   "source": [
    "train.eval (model, valid_dataset)"
   ]
  }
 ],
 "metadata": {
  "anaconda-cloud": {},
  "kernelspec": {
   "display_name": "Python 3",
   "language": "python",
   "name": "python3"
  },
  "language_info": {
   "codemirror_mode": {
    "name": "ipython",
    "version": 3
   },
   "file_extension": ".py",
   "mimetype": "text/x-python",
   "name": "python",
   "nbconvert_exporter": "python",
   "pygments_lexer": "ipython3",
   "version": "3.6.4"
  }
 },
 "nbformat": 4,
 "nbformat_minor": 2
}
