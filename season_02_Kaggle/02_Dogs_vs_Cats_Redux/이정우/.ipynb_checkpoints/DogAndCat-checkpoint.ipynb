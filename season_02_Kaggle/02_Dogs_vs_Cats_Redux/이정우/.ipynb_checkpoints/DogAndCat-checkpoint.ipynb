{
 "cells": [
  {
   "cell_type": "markdown",
   "metadata": {
    "colab_type": "text",
    "id": "0cU-iLax-1p_"
   },
   "source": [
    "# Dogs vs. Cats Problem\n",
    "해당 데이터를 다루는 방법을 다시 알아본다."
   ]
  },
  {
   "cell_type": "code",
   "execution_count": 0,
   "metadata": {
    "colab": {
     "autoexec": {
      "startup": false,
      "wait_interval": 0
     }
    },
    "colab_type": "code",
    "collapsed": true,
    "id": "HV56I6Rr-5eH"
   },
   "outputs": [],
   "source": [
    "!pip install -U -q PyDrive\n",
    "\n",
    "from pydrive.auth import GoogleAuth\n",
    "from pydrive.drive import GoogleDrive\n",
    "from google.colab import auth\n",
    "from oauth2client.client import GoogleCredentials\n",
    "from google.colab import files"
   ]
  },
  {
   "cell_type": "code",
   "execution_count": 0,
   "metadata": {
    "colab": {
     "autoexec": {
      "startup": false,
      "wait_interval": 0
     }
    },
    "colab_type": "code",
    "collapsed": true,
    "id": "rAx0GY4P7BJp"
   },
   "outputs": [],
   "source": [
    "\n",
    "# 1. Authenticate and create the PyDrive client.# 1. Au \n",
    "auth.authenticate_user()\n",
    "gauth = GoogleAuth()\n",
    "gauth.credentials = GoogleCredentials.get_application_default()\n",
    "drive = GoogleDrive(gauth)"
   ]
  },
  {
   "cell_type": "code",
   "execution_count": 0,
   "metadata": {
    "colab": {
     "autoexec": {
      "startup": false,
      "wait_interval": 0
     }
    },
    "colab_type": "code",
    "collapsed": true,
    "id": "YHgQcVMG7JJx"
   },
   "outputs": [],
   "source": [
    "#2. Get the file\n",
    "downloaded = drive.CreateFile({'id':'18hMnaJ4eE5LUPb8-LxScfCSycVaxLHhj'}) # replace the id with id of file you want to access\n",
    "downloaded.GetContentFile('train.zip')\n",
    "downloaded = drive.CreateFile({'id':'1aux5F8RDelyDYFiGcUnLlSgPTriiXSQp'}) # replace the id with id of file you want to access\n",
    "downloaded.GetContentFile('test.zip')"
   ]
  },
  {
   "cell_type": "code",
   "execution_count": 0,
   "metadata": {
    "colab": {
     "autoexec": {
      "startup": false,
      "wait_interval": 0
     }
    },
    "colab_type": "code",
    "collapsed": true,
    "id": "GpW9rHQE8Jhv"
   },
   "outputs": [],
   "source": [
    "import zipfile\n",
    "import os, os.path"
   ]
  },
  {
   "cell_type": "code",
   "execution_count": 0,
   "metadata": {
    "colab": {
     "autoexec": {
      "startup": false,
      "wait_interval": 0
     }
    },
    "colab_type": "code",
    "collapsed": true,
    "id": "8rdbtc_v8Jz_"
   },
   "outputs": [],
   "source": [
    "DataPath = './data'"
   ]
  },
  {
   "cell_type": "code",
   "execution_count": 0,
   "metadata": {
    "colab": {
     "autoexec": {
      "startup": false,
      "wait_interval": 0
     }
    },
    "colab_type": "code",
    "collapsed": true,
    "id": "EkAPcWfj8J7m"
   },
   "outputs": [],
   "source": [
    "def ExtractZip(zipPath, dataPath, dataType, dataNum):\n",
    "    # 해당 폴더가 존재하는지 확인\n",
    "    doExtract = True\n",
    "    targetPath = dataPath + \"/\" + dataType\n",
    "    if os.path.isdir(targetPath):\n",
    "        numFile = len(os.listdir(targetPath))\n",
    "        if numFile == dataNum:\n",
    "            doExtract = False\n",
    "    \n",
    "    if doExtract == True:\n",
    "        objZip = zipfile.ZipFile(zipPath)\n",
    "        objZip.extractall(dataPath)\n",
    "        print(\"[%s] is extracted to [%s](%d).\" %(zipPath, targetPath, len(os.listdir(targetPath))))\n",
    "    else:\n",
    "        print(\"[%s] is already extracted to [%s](%d).\" %(zipPath, targetPath, len(os.listdir(targetPath))))"
   ]
  },
  {
   "cell_type": "code",
   "execution_count": 8,
   "metadata": {
    "colab": {
     "autoexec": {
      "startup": false,
      "wait_interval": 0
     },
     "base_uri": "https://localhost:8080/",
     "height": 35
    },
    "colab_type": "code",
    "executionInfo": {
     "elapsed": 10044,
     "status": "ok",
     "timestamp": 1527144972503,
     "user": {
      "displayName": "이정우",
      "photoUrl": "//lh6.googleusercontent.com/-wXOdgscsjpQ/AAAAAAAAAAI/AAAAAAAAAAA/8Jj6Lxj_1HY/s50-c-k-no/photo.jpg",
      "userId": "110137727768933860067"
     },
     "user_tz": -540
    },
    "id": "MtJnf6O18KDX",
    "outputId": "29edccdd-15ef-47da-abf7-a93d47685bf1"
   },
   "outputs": [
    {
     "name": "stdout",
     "output_type": "stream",
     "text": [
      "[./train.zip] is extracted to [./data/train](25000).\n"
     ]
    }
   ],
   "source": [
    "ExtractZip('./train.zip', DataPath, \"train\", 25000)"
   ]
  },
  {
   "cell_type": "code",
   "execution_count": 9,
   "metadata": {
    "colab": {
     "autoexec": {
      "startup": false,
      "wait_interval": 0
     },
     "base_uri": "https://localhost:8080/",
     "height": 35
    },
    "colab_type": "code",
    "executionInfo": {
     "elapsed": 5276,
     "status": "ok",
     "timestamp": 1527144978686,
     "user": {
      "displayName": "이정우",
      "photoUrl": "//lh6.googleusercontent.com/-wXOdgscsjpQ/AAAAAAAAAAI/AAAAAAAAAAA/8Jj6Lxj_1HY/s50-c-k-no/photo.jpg",
      "userId": "110137727768933860067"
     },
     "user_tz": -540
    },
    "id": "qk5z0IVO8KL0",
    "outputId": "61d47635-9cdc-41b3-b689-c0b45f558c49"
   },
   "outputs": [
    {
     "name": "stdout",
     "output_type": "stream",
     "text": [
      "[./test.zip] is extracted to [./data/test](12500).\n"
     ]
    }
   ],
   "source": [
    "ExtractZip('./test.zip', DataPath, \"test\", 12500)"
   ]
  },
  {
   "cell_type": "code",
   "execution_count": 0,
   "metadata": {
    "colab": {
     "autoexec": {
      "startup": false,
      "wait_interval": 0
     }
    },
    "colab_type": "code",
    "collapsed": true,
    "id": "WhKkmqpSCk3x"
   },
   "outputs": [],
   "source": [
    "from IPython.display import Image"
   ]
  },
  {
   "cell_type": "code",
   "execution_count": 11,
   "metadata": {
    "colab": {
     "autoexec": {
      "startup": false,
      "wait_interval": 0
     },
     "base_uri": "https://localhost:8080/",
     "height": 413
    },
    "colab_type": "code",
    "executionInfo": {
     "elapsed": 817,
     "status": "ok",
     "timestamp": 1527144982254,
     "user": {
      "displayName": "이정우",
      "photoUrl": "//lh6.googleusercontent.com/-wXOdgscsjpQ/AAAAAAAAAAI/AAAAAAAAAAA/8Jj6Lxj_1HY/s50-c-k-no/photo.jpg",
      "userId": "110137727768933860067"
     },
     "user_tz": -540
    },
    "id": "v8zp6R7sCwE_",
    "outputId": "cb93b691-dec0-46c5-ea53-716c619d0f44"
   },
   "outputs": [
    {
     "data": {
      "image/jpeg": "[encoded data removed]",
      "text/plain": [
       "<IPython.core.display.Image object>"
      ]
     },
     "execution_count": 11,
     "metadata": {
      "tags": []
     },
     "output_type": "execute_result"
    }
   ],
   "source": [
    "Image('./data/train/cat.2.jpg')"
   ]
  },
  {
   "cell_type": "code",
   "execution_count": 12,
   "metadata": {
    "colab": {
     "autoexec": {
      "startup": false,
      "wait_interval": 0
     },
     "base_uri": "https://localhost:8080/",
     "height": 392
    },
    "colab_type": "code",
    "executionInfo": {
     "elapsed": 849,
     "status": "ok",
     "timestamp": 1527144984272,
     "user": {
      "displayName": "이정우",
      "photoUrl": "//lh6.googleusercontent.com/-wXOdgscsjpQ/AAAAAAAAAAI/AAAAAAAAAAA/8Jj6Lxj_1HY/s50-c-k-no/photo.jpg",
      "userId": "110137727768933860067"
     },
     "user_tz": -540
    },
    "id": "O3WaZnJdCyX-",
    "outputId": "2a24cec7-7eea-4c50-b261-392d99d5324c"
   },
   "outputs": [
    {
     "data": {
      "image/jpeg": "[encoded data removed]",
      "text/plain": [
       "<IPython.core.display.Image object>"
      ]
     },
     "execution_count": 12,
     "metadata": {
      "tags": []
     },
     "output_type": "execute_result"
    }
   ],
   "source": [
    "Image('./data/train/dog.0.jpg')"
   ]
  },
  {
   "cell_type": "code",
   "execution_count": 14,
   "metadata": {
    "colab": {
     "autoexec": {
      "startup": false,
      "wait_interval": 0
     },
     "base_uri": "https://localhost:8080/",
     "height": 35
    },
    "colab_type": "code",
    "executionInfo": {
     "elapsed": 1730,
     "status": "ok",
     "timestamp": 1527130415519,
     "user": {
      "displayName": "이정우",
      "photoUrl": "//lh6.googleusercontent.com/-wXOdgscsjpQ/AAAAAAAAAAI/AAAAAAAAAAA/8Jj6Lxj_1HY/s50-c-k-no/photo.jpg",
      "userId": "110137727768933860067"
     },
     "user_tz": -540
    },
    "id": "_gkyzHEZDBXv",
    "outputId": "7466abf4-841b-45d9-a442-f82f7087d380"
   },
   "outputs": [
    {
     "name": "stdout",
     "output_type": "stream",
     "text": [
      "\u001b[0m\u001b[01;34mdata\u001b[0m/  \u001b[01;34mdatalab\u001b[0m/  test.zip  train.zip\r\n"
     ]
    }
   ],
   "source": [
    "ls"
   ]
  },
  {
   "cell_type": "code",
   "execution_count": 15,
   "metadata": {
    "colab": {
     "autoexec": {
      "startup": false,
      "wait_interval": 0
     },
     "base_uri": "https://localhost:8080/",
     "height": 35
    },
    "colab_type": "code",
    "executionInfo": {
     "elapsed": 837,
     "status": "ok",
     "timestamp": 1527130436690,
     "user": {
      "displayName": "이정우",
      "photoUrl": "//lh6.googleusercontent.com/-wXOdgscsjpQ/AAAAAAAAAAI/AAAAAAAAAAA/8Jj6Lxj_1HY/s50-c-k-no/photo.jpg",
      "userId": "110137727768933860067"
     },
     "user_tz": -540
    },
    "id": "ept7BsSgENqB",
    "outputId": "aeeb2366-65af-41e2-d2d0-b882b4849792"
   },
   "outputs": [
    {
     "name": "stdout",
     "output_type": "stream",
     "text": [
      "/content/data\n"
     ]
    }
   ],
   "source": [
    "cd data"
   ]
  },
  {
   "cell_type": "code",
   "execution_count": 16,
   "metadata": {
    "colab": {
     "autoexec": {
      "startup": false,
      "wait_interval": 0
     },
     "base_uri": "https://localhost:8080/",
     "height": 35
    },
    "colab_type": "code",
    "executionInfo": {
     "elapsed": 1739,
     "status": "ok",
     "timestamp": 1527130442883,
     "user": {
      "displayName": "이정우",
      "photoUrl": "//lh6.googleusercontent.com/-wXOdgscsjpQ/AAAAAAAAAAI/AAAAAAAAAAA/8Jj6Lxj_1HY/s50-c-k-no/photo.jpg",
      "userId": "110137727768933860067"
     },
     "user_tz": -540
    },
    "id": "RfLivYpuETDE",
    "outputId": "3637427d-7e12-4b7c-e662-28f2d75d9403"
   },
   "outputs": [
    {
     "name": "stdout",
     "output_type": "stream",
     "text": [
      "\u001b[0m\u001b[01;34mtest\u001b[0m/  \u001b[01;34mtrain\u001b[0m/\r\n"
     ]
    }
   ],
   "source": [
    "ls"
   ]
  },
  {
   "cell_type": "code",
   "execution_count": 0,
   "metadata": {
    "colab": {
     "autoexec": {
      "startup": false,
      "wait_interval": 0
     }
    },
    "colab_type": "code",
    "collapsed": true,
    "id": "c2kRXxtuEUV9"
   },
   "outputs": [],
   "source": []
  }
 ],
 "metadata": {
  "accelerator": "GPU",
  "colab": {
   "default_view": {},
   "name": "DogAndCat.ipynb",
   "provenance": [],
   "version": "0.3.2",
   "views": {}
  },
  "kernelspec": {
   "display_name": "Python 3",
   "language": "python",
   "name": "python3"
  },
  "language_info": {
   "codemirror_mode": {
    "name": "ipython",
    "version": 3
   },
   "file_extension": ".py",
   "mimetype": "text/x-python",
   "name": "python",
   "nbconvert_exporter": "python",
   "pygments_lexer": "ipython3",
   "version": "3.6.3"
  }
 },
 "nbformat": 4,
 "nbformat_minor": 1
}
