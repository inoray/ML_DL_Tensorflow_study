{
 "cells": [
  {
   "cell_type": "code",
   "execution_count": 1,
   "metadata": {},
   "outputs": [
    {
     "name": "stderr",
     "output_type": "stream",
     "text": [
      "/home/shkim/anaconda3/lib/python3.6/site-packages/h5py/__init__.py:36: FutureWarning: Conversion of the second argument of issubdtype from `float` to `np.floating` is deprecated. In future, it will be treated as `np.float64 == np.dtype(float).type`.\n",
      "  from ._conv import register_converters as _register_converters\n"
     ]
    }
   ],
   "source": [
    "import os\n",
    "import matplotlib.pyplot as plt\n",
    "import tensorflow as tf\n",
    "from IPython.display import display, Image, HTML\n",
    "import numpy as np\n",
    "import time\n",
    "import model_vgg\n",
    "import pandas as pd\n",
    "import re"
   ]
  },
  {
   "cell_type": "code",
   "execution_count": 2,
   "metadata": {},
   "outputs": [
    {
     "name": "stdout",
     "output_type": "stream",
     "text": [
      "test_images:  12500\n",
      "['../data/test_resize/1.jpg', '../data/test_resize/2.jpg', '../data/test_resize/3.jpg', '../data/test_resize/4.jpg', '../data/test_resize/5.jpg', '../data/test_resize/6.jpg', '../data/test_resize/7.jpg', '../data/test_resize/8.jpg', '../data/test_resize/9.jpg', '../data/test_resize/10.jpg']\n"
     ]
    }
   ],
   "source": [
    "DATA_DIR = \"../data/\"\n",
    "TEST_DIR = DATA_DIR + \"test_resize/\"\n",
    "\n",
    "test_images =  [TEST_DIR+i for i in os.listdir(TEST_DIR)]\n",
    "\n",
    "print(\"test_images: \", len(test_images))\n",
    "\n",
    "test_images.sort(key=lambda var:[int(x) if x.isdigit() else x for x in re.findall(r'[^0-9]|[0-9]+', var)])\n",
    "print(test_images[:10])"
   ]
  },
  {
   "cell_type": "code",
   "execution_count": 3,
   "metadata": {},
   "outputs": [
    {
     "name": "stdout",
     "output_type": "stream",
     "text": [
      "WARNING:tensorflow:From /home/shkim/anaconda3/lib/python3.6/site-packages/tensorflow/contrib/learn/python/learn/datasets/base.py:198: retry (from tensorflow.contrib.learn.python.learn.datasets.base) is deprecated and will be removed in a future version.\n",
      "Instructions for updating:\n",
      "Use the retry module or similar alternatives.\n"
     ]
    }
   ],
   "source": [
    "sess = tf.Session()\n",
    "model = model_vgg.Model_Vgg19(sess, \"model\")\n",
    "model.build_net(150)"
   ]
  },
  {
   "cell_type": "code",
   "execution_count": 4,
   "metadata": {},
   "outputs": [],
   "source": [
    "batch_size = 20\n",
    "\n",
    "sess.run(tf.global_variables_initializer())\n",
    "saver = tf.train.Saver()"
   ]
  },
  {
   "cell_type": "code",
   "execution_count": 5,
   "metadata": {},
   "outputs": [
    {
     "name": "stdout",
     "output_type": "stream",
     "text": [
      "INFO:tensorflow:Restoring parameters from ./model/model.ckpt\n"
     ]
    }
   ],
   "source": [
    "ckpt_path = saver.restore(sess, \"./model/model.ckpt\")"
   ]
  },
  {
   "cell_type": "code",
   "execution_count": 6,
   "metadata": {},
   "outputs": [
    {
     "name": "stdout",
     "output_type": "stream",
     "text": [
      "--- 84.83 seconds ---\n"
     ]
    }
   ],
   "source": [
    "#test_images = test_images[:100]\n",
    "\n",
    "start_time = time.time()\n",
    "\n",
    "test_count = len(test_images)\n",
    "total_batch = int(test_count / batch_size)\n",
    "\n",
    "probability_list = []\n",
    "for i in range(total_batch):\n",
    "    batch_files, batch_x_image = model_vgg.getBatchData_x(test_images, batch_size, i)\n",
    "    batch_p = model.probability(batch_x_image)\n",
    "    probability_list.extend(batch_p)\n",
    "    #print(batch_files)\n",
    "    #print(batch_p)\n",
    "    #df.append({\"filename\": batch_files, \"dog\": batch_p[:, 0], \"cat\": batch_p[:, 1]}, ignore_index=True)\n",
    "    #df.append({\"filename\": batch_files}, ignore_index=True)\n",
    "\n",
    "    \n",
    "print(\"--- %.2f seconds ---\" %(time.time() - start_time))"
   ]
  },
  {
   "cell_type": "code",
   "execution_count": 7,
   "metadata": {},
   "outputs": [],
   "source": [
    "hp = np.array(probability_list)\n",
    "df = pd.DataFrame({\"id\": range(1, len(probability_list) + 1), \"label\": hp[:, 0]})\n",
    "df.to_csv('submission.csv', index=False)"
   ]
  }
 ],
 "metadata": {
  "kernelspec": {
   "display_name": "Python 3",
   "language": "python",
   "name": "python3"
  },
  "language_info": {
   "codemirror_mode": {
    "name": "ipython",
    "version": 3
   },
   "file_extension": ".py",
   "mimetype": "text/x-python",
   "name": "python",
   "nbconvert_exporter": "python",
   "pygments_lexer": "ipython3",
   "version": "3.6.4"
  }
 },
 "nbformat": 4,
 "nbformat_minor": 2
}
