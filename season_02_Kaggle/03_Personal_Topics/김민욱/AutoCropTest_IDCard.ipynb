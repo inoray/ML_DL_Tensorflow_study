{
  "nbformat": 4,
  "nbformat_minor": 0,
  "metadata": {
    "colab": {
      "name": "AutoCropTest_IDCard.ipynb",
      "version": "0.3.2",
      "views": {},
      "default_view": {},
      "provenance": []
    },
    "kernelspec": {
      "name": "python3",
      "display_name": "Python 3"
    },
    "accelerator": "GPU"
  },
  "cells": [
    {
      "metadata": {
        "id": "A9VKPhkdrqSd",
        "colab_type": "text"
      },
      "cell_type": "markdown",
      "source": [
        "## Load Test Data"
      ]
    },
    {
      "metadata": {
        "id": "5enm4EAOr5BF",
        "colab_type": "code",
        "colab": {
          "autoexec": {
            "startup": false,
            "wait_interval": 0
          }
        }
      },
      "cell_type": "code",
      "source": [
        "!pip install -U -q PyDrive\n",
        "\n",
        "from pydrive.auth import GoogleAuth\n",
        "from pydrive.drive import GoogleDrive\n",
        "from google.colab import auth\n",
        "from oauth2client.client import GoogleCredentials\n",
        "from google.colab import files\n",
        "\n",
        "# 1. Authenticate and create the PyDrive client.\n",
        "auth.authenticate_user()\n",
        "gauth = GoogleAuth()\n",
        "gauth.credentials = GoogleCredentials.get_application_default()\n",
        "drive = GoogleDrive(gauth)"
      ],
      "execution_count": 0,
      "outputs": []
    },
    {
      "metadata": {
        "id": "i3bcDh0vsALE",
        "colab_type": "code",
        "colab": {
          "autoexec": {
            "startup": false,
            "wait_interval": 0
          }
        }
      },
      "cell_type": "code",
      "source": [
        "# 2. Get the file\n",
        "downloaded = drive.CreateFile({'id':'1ogfj2zpzP_kxkJDCbctDHHzVICDtbUiM'}) # replace the id with id of file you want to access\n",
        "downloaded.GetContentFile('data_.zip')"
      ],
      "execution_count": 0,
      "outputs": []
    },
    {
      "metadata": {
        "id": "bzInFoNC8kS3",
        "colab_type": "text"
      },
      "cell_type": "markdown",
      "source": [
        "## Zip File Extraction"
      ]
    },
    {
      "metadata": {
        "id": "p8IOBP6558gw",
        "colab_type": "code",
        "colab": {
          "autoexec": {
            "startup": false,
            "wait_interval": 0
          }
        }
      },
      "cell_type": "code",
      "source": [
        "import zipfile\n",
        "import os, os.path"
      ],
      "execution_count": 0,
      "outputs": []
    },
    {
      "metadata": {
        "id": "BnUTANxS8pR3",
        "colab_type": "code",
        "colab": {
          "autoexec": {
            "startup": false,
            "wait_interval": 0
          }
        }
      },
      "cell_type": "code",
      "source": [
        "DataPath = './data'"
      ],
      "execution_count": 0,
      "outputs": []
    },
    {
      "metadata": {
        "id": "mxeoBfWv8s_-",
        "colab_type": "code",
        "colab": {
          "autoexec": {
            "startup": false,
            "wait_interval": 0
          }
        }
      },
      "cell_type": "code",
      "source": [
        "objZip = zipfile.ZipFile('./data_.zip')\n",
        "objZip.extractall(DataPath)"
      ],
      "execution_count": 0,
      "outputs": []
    },
    {
      "metadata": {
        "id": "NlV3iil885MO",
        "colab_type": "code",
        "colab": {
          "autoexec": {
            "startup": false,
            "wait_interval": 0
          }
        }
      },
      "cell_type": "code",
      "source": [
        "from IPython.display import Image"
      ],
      "execution_count": 0,
      "outputs": []
    },
    {
      "metadata": {
        "id": "y4TTtmL39oZX",
        "colab_type": "code",
        "colab": {
          "autoexec": {
            "startup": false,
            "wait_interval": 0
          },
          "base_uri": "https://localhost:8080/",
          "height": 134
        },
        "outputId": "7c6c9d72-6c1d-4adf-9227-52a41f45a777",
        "executionInfo": {
          "status": "ok",
          "timestamp": 1531788478552,
          "user_tz": -540,
          "elapsed": 914,
          "user": {
            "displayName": "김민욱",
            "photoUrl": "https://lh3.googleusercontent.com/a/default-user=s128",
            "userId": "108006258518439830382"
          }
        }
      },
      "cell_type": "code",
      "source": [
        "Image('./data/AutoCrop/Origin_irfanview/20180711_134445.jpg')"
      ],
      "execution_count": 7,
      "outputs": [
        {
          "output_type": "execute_result",
          "data": {
            "image/jpeg": "[encoded data removed]",
            "text/plain": [
              "<IPython.core.display.Image object>"
            ]
          },
          "metadata": {
            "tags": []
          },
          "execution_count": 7
        }
      ]
    },
    {
      "metadata": {
        "id": "ILfDyw8liIFN",
        "colab_type": "text"
      },
      "cell_type": "markdown",
      "source": [
        "## Install Pytorch 4.0"
      ]
    },
    {
      "metadata": {
        "id": "MRjDKaaVhy-J",
        "colab_type": "code",
        "colab": {
          "autoexec": {
            "startup": false,
            "wait_interval": 0
          },
          "base_uri": "https://localhost:8080/",
          "height": 53
        },
        "outputId": "3da286e6-84ca-411d-ed0f-1756bd7cba69",
        "executionInfo": {
          "status": "ok",
          "timestamp": 1531791757316,
          "user_tz": -540,
          "elapsed": 3226,
          "user": {
            "displayName": "김민욱",
            "photoUrl": "https://lh3.googleusercontent.com/a/default-user=s128",
            "userId": "108006258518439830382"
          }
        }
      },
      "cell_type": "code",
      "source": [
        "# torch 0.4 install for torch.no_grad()\n",
        "from os import path\n",
        "from wheel.pep425tags import get_abbr_impl, get_impl_ver, get_abi_tag\n",
        "platform = '{}{}-{}'.format(get_abbr_impl(), get_impl_ver(), get_abi_tag())\n",
        "\n",
        "accelerator = 'cu80' if path.exists('/opt/bin/nvidia-smi') else 'cpu'\n",
        "\n",
        "!pip install -q http://download.pytorch.org/whl/{accelerator}/torch-0.4.0-{platform}-linux_x86_64.whl torchvision\n",
        "import torch\n",
        "print(torch.__version__)\n",
        "print(torch.cuda.is_available())\n",
        "\n",
        "# !pip3 install http://download.pytorch.org/whl/cu80/torch-0.3.0.post4-cp36-cp36m-linux_x86_64.whl\n",
        "# !pip3 install torchvision"
      ],
      "execution_count": 1,
      "outputs": [
        {
          "output_type": "stream",
          "text": [
            "0.4.0\n",
            "True\n"
          ],
          "name": "stdout"
        }
      ]
    },
    {
      "metadata": {
        "id": "R8V2sRin59qj",
        "colab_type": "text"
      },
      "cell_type": "markdown",
      "source": [
        "## Region Data Load using pandas\n"
      ]
    },
    {
      "metadata": {
        "id": "sZOFxBHviKwu",
        "colab_type": "code",
        "colab": {
          "autoexec": {
            "startup": false,
            "wait_interval": 0
          }
        }
      },
      "cell_type": "code",
      "source": [
        "data_root = \"./data/AutoCrop/\""
      ],
      "execution_count": 0,
      "outputs": []
    },
    {
      "metadata": {
        "id": "ckdG7ZHm6Bo7",
        "colab_type": "code",
        "colab": {
          "autoexec": {
            "startup": false,
            "wait_interval": 0
          }
        }
      },
      "cell_type": "code",
      "source": [
        "import pandas as pd"
      ],
      "execution_count": 0,
      "outputs": []
    },
    {
      "metadata": {
        "id": "uDGc1Q0b6Dgy",
        "colab_type": "code",
        "colab": {
          "autoexec": {
            "startup": false,
            "wait_interval": 0
          }
        }
      },
      "cell_type": "code",
      "source": [
        "train_data = pd.read_csv(data_root + 'Train.txt', sep=\"\\t\", header=None)"
      ],
      "execution_count": 0,
      "outputs": []
    },
    {
      "metadata": {
        "id": "FizqSOwF6F07",
        "colab_type": "code",
        "colab": {
          "autoexec": {
            "startup": false,
            "wait_interval": 0
          }
        }
      },
      "cell_type": "code",
      "source": [
        "train_data.columns = [\"filename\", \"LTx\", \"LTy\", \"RTx\", \"RTy\",\"RBx\", \"RBy\", \"LBx\", \"LBy\"]"
      ],
      "execution_count": 0,
      "outputs": []
    },
    {
      "metadata": {
        "id": "esR3Q3s96Htr",
        "colab_type": "code",
        "colab": {
          "autoexec": {
            "startup": false,
            "wait_interval": 0
          },
          "base_uri": "https://localhost:8080/",
          "height": 204
        },
        "outputId": "bc26bf23-8607-4b25-fc3d-80c21d514265",
        "executionInfo": {
          "status": "ok",
          "timestamp": 1531791792112,
          "user_tz": -540,
          "elapsed": 867,
          "user": {
            "displayName": "김민욱",
            "photoUrl": "https://lh3.googleusercontent.com/a/default-user=s128",
            "userId": "108006258518439830382"
          }
        }
      },
      "cell_type": "code",
      "source": [
        "train_data.head()"
      ],
      "execution_count": 5,
      "outputs": [
        {
          "output_type": "execute_result",
          "data": {
            "text/html": [
              "<div>\n",
              "<style scoped>\n",
              "    .dataframe tbody tr th:only-of-type {\n",
              "        vertical-align: middle;\n",
              "    }\n",
              "\n",
              "    .dataframe tbody tr th {\n",
              "        vertical-align: top;\n",
              "    }\n",
              "\n",
              "    .dataframe thead th {\n",
              "        text-align: right;\n",
              "    }\n",
              "</style>\n",
              "<table border=\"1\" class=\"dataframe\">\n",
              "  <thead>\n",
              "    <tr style=\"text-align: right;\">\n",
              "      <th></th>\n",
              "      <th>filename</th>\n",
              "      <th>LTx</th>\n",
              "      <th>LTy</th>\n",
              "      <th>RTx</th>\n",
              "      <th>RTy</th>\n",
              "      <th>RBx</th>\n",
              "      <th>RBy</th>\n",
              "      <th>LBx</th>\n",
              "      <th>LBy</th>\n",
              "    </tr>\n",
              "  </thead>\n",
              "  <tbody>\n",
              "    <tr>\n",
              "      <th>0</th>\n",
              "      <td>/Origin_irfanview180/20180711_134450_180.jpg</td>\n",
              "      <td>1532</td>\n",
              "      <td>500</td>\n",
              "      <td>2965</td>\n",
              "      <td>931</td>\n",
              "      <td>2675</td>\n",
              "      <td>1753</td>\n",
              "      <td>1352</td>\n",
              "      <td>1332</td>\n",
              "    </tr>\n",
              "    <tr>\n",
              "      <th>1</th>\n",
              "      <td>/Origin_irfanview180/20180711_134459_180.jpg</td>\n",
              "      <td>1422</td>\n",
              "      <td>891</td>\n",
              "      <td>2013</td>\n",
              "      <td>320</td>\n",
              "      <td>2935</td>\n",
              "      <td>1412</td>\n",
              "      <td>2274</td>\n",
              "      <td>1903</td>\n",
              "    </tr>\n",
              "    <tr>\n",
              "      <th>2</th>\n",
              "      <td>/Origin_irfanview180/20180711_134502_180.jpg</td>\n",
              "      <td>1643</td>\n",
              "      <td>571</td>\n",
              "      <td>2424</td>\n",
              "      <td>400</td>\n",
              "      <td>2605</td>\n",
              "      <td>1833</td>\n",
              "      <td>1803</td>\n",
              "      <td>1873</td>\n",
              "    </tr>\n",
              "    <tr>\n",
              "      <th>3</th>\n",
              "      <td>/Origin_irfanview180/20180711_134512_180.jpg</td>\n",
              "      <td>761</td>\n",
              "      <td>1252</td>\n",
              "      <td>1843</td>\n",
              "      <td>400</td>\n",
              "      <td>2404</td>\n",
              "      <td>1092</td>\n",
              "      <td>1262</td>\n",
              "      <td>1983</td>\n",
              "    </tr>\n",
              "    <tr>\n",
              "      <th>4</th>\n",
              "      <td>/Origin_irfanview180/20180711_134517_180.jpg</td>\n",
              "      <td>621</td>\n",
              "      <td>1142</td>\n",
              "      <td>1973</td>\n",
              "      <td>621</td>\n",
              "      <td>2334</td>\n",
              "      <td>1472</td>\n",
              "      <td>931</td>\n",
              "      <td>2043</td>\n",
              "    </tr>\n",
              "  </tbody>\n",
              "</table>\n",
              "</div>"
            ],
            "text/plain": [
              "                                       filename   LTx   LTy   RTx  RTy   RBx  \\\n",
              "0  /Origin_irfanview180/20180711_134450_180.jpg  1532   500  2965  931  2675   \n",
              "1  /Origin_irfanview180/20180711_134459_180.jpg  1422   891  2013  320  2935   \n",
              "2  /Origin_irfanview180/20180711_134502_180.jpg  1643   571  2424  400  2605   \n",
              "3  /Origin_irfanview180/20180711_134512_180.jpg   761  1252  1843  400  2404   \n",
              "4  /Origin_irfanview180/20180711_134517_180.jpg   621  1142  1973  621  2334   \n",
              "\n",
              "    RBy   LBx   LBy  \n",
              "0  1753  1352  1332  \n",
              "1  1412  2274  1903  \n",
              "2  1833  1803  1873  \n",
              "3  1092  1262  1983  \n",
              "4  1472   931  2043  "
            ]
          },
          "metadata": {
            "tags": []
          },
          "execution_count": 5
        }
      ]
    },
    {
      "metadata": {
        "id": "xxqzpyBu6I_K",
        "colab_type": "code",
        "colab": {
          "autoexec": {
            "startup": false,
            "wait_interval": 0
          },
          "base_uri": "https://localhost:8080/",
          "height": 204
        },
        "outputId": "35268792-6b10-48b7-eb89-bbce8529f197",
        "executionInfo": {
          "status": "ok",
          "timestamp": 1531791793089,
          "user_tz": -540,
          "elapsed": 910,
          "user": {
            "displayName": "김민욱",
            "photoUrl": "https://lh3.googleusercontent.com/a/default-user=s128",
            "userId": "108006258518439830382"
          }
        }
      },
      "cell_type": "code",
      "source": [
        "train_data.tail()"
      ],
      "execution_count": 6,
      "outputs": [
        {
          "output_type": "execute_result",
          "data": {
            "text/html": [
              "<div>\n",
              "<style scoped>\n",
              "    .dataframe tbody tr th:only-of-type {\n",
              "        vertical-align: middle;\n",
              "    }\n",
              "\n",
              "    .dataframe tbody tr th {\n",
              "        vertical-align: top;\n",
              "    }\n",
              "\n",
              "    .dataframe thead th {\n",
              "        text-align: right;\n",
              "    }\n",
              "</style>\n",
              "<table border=\"1\" class=\"dataframe\">\n",
              "  <thead>\n",
              "    <tr style=\"text-align: right;\">\n",
              "      <th></th>\n",
              "      <th>filename</th>\n",
              "      <th>LTx</th>\n",
              "      <th>LTy</th>\n",
              "      <th>RTx</th>\n",
              "      <th>RTy</th>\n",
              "      <th>RBx</th>\n",
              "      <th>RBy</th>\n",
              "      <th>LBx</th>\n",
              "      <th>LBy</th>\n",
              "    </tr>\n",
              "  </thead>\n",
              "  <tbody>\n",
              "    <tr>\n",
              "      <th>445</th>\n",
              "      <td>/Origin_irfanview/20180712_100825.jpg</td>\n",
              "      <td>601</td>\n",
              "      <td>300</td>\n",
              "      <td>3286</td>\n",
              "      <td>210</td>\n",
              "      <td>3376</td>\n",
              "      <td>2003</td>\n",
              "      <td>410</td>\n",
              "      <td>1953</td>\n",
              "    </tr>\n",
              "    <tr>\n",
              "      <th>446</th>\n",
              "      <td>/Origin_irfanview/20180712_100833.jpg</td>\n",
              "      <td>521</td>\n",
              "      <td>230</td>\n",
              "      <td>3506</td>\n",
              "      <td>70</td>\n",
              "      <td>3737</td>\n",
              "      <td>2013</td>\n",
              "      <td>390</td>\n",
              "      <td>2124</td>\n",
              "    </tr>\n",
              "    <tr>\n",
              "      <th>447</th>\n",
              "      <td>/Origin_irfanview/20180712_100836.jpg</td>\n",
              "      <td>611</td>\n",
              "      <td>270</td>\n",
              "      <td>3466</td>\n",
              "      <td>-10</td>\n",
              "      <td>3777</td>\n",
              "      <td>1813</td>\n",
              "      <td>581</td>\n",
              "      <td>2094</td>\n",
              "    </tr>\n",
              "    <tr>\n",
              "      <th>448</th>\n",
              "      <td>/Origin_irfanview/20180712_100842.jpg</td>\n",
              "      <td>561</td>\n",
              "      <td>170</td>\n",
              "      <td>3486</td>\n",
              "      <td>120</td>\n",
              "      <td>3617</td>\n",
              "      <td>2043</td>\n",
              "      <td>350</td>\n",
              "      <td>1983</td>\n",
              "    </tr>\n",
              "    <tr>\n",
              "      <th>449</th>\n",
              "      <td>/Origin_irfanview/20180712_100849.jpg</td>\n",
              "      <td>500</td>\n",
              "      <td>120</td>\n",
              "      <td>3446</td>\n",
              "      <td>70</td>\n",
              "      <td>3647</td>\n",
              "      <td>2013</td>\n",
              "      <td>150</td>\n",
              "      <td>1953</td>\n",
              "    </tr>\n",
              "  </tbody>\n",
              "</table>\n",
              "</div>"
            ],
            "text/plain": [
              "                                  filename  LTx  LTy   RTx  RTy   RBx   RBy  \\\n",
              "445  /Origin_irfanview/20180712_100825.jpg  601  300  3286  210  3376  2003   \n",
              "446  /Origin_irfanview/20180712_100833.jpg  521  230  3506   70  3737  2013   \n",
              "447  /Origin_irfanview/20180712_100836.jpg  611  270  3466  -10  3777  1813   \n",
              "448  /Origin_irfanview/20180712_100842.jpg  561  170  3486  120  3617  2043   \n",
              "449  /Origin_irfanview/20180712_100849.jpg  500  120  3446   70  3647  2013   \n",
              "\n",
              "     LBx   LBy  \n",
              "445  410  1953  \n",
              "446  390  2124  \n",
              "447  581  2094  \n",
              "448  350  1983  \n",
              "449  150  1953  "
            ]
          },
          "metadata": {
            "tags": []
          },
          "execution_count": 6
        }
      ]
    },
    {
      "metadata": {
        "id": "bUUtCJJYqRmb",
        "colab_type": "code",
        "colab": {
          "autoexec": {
            "startup": false,
            "wait_interval": 0
          }
        }
      },
      "cell_type": "code",
      "source": [
        "valid_data = pd.read_csv(data_root + 'Valid.txt', sep=\"\\t\", header=None)"
      ],
      "execution_count": 0,
      "outputs": []
    },
    {
      "metadata": {
        "id": "ZLQD14gmqoMq",
        "colab_type": "code",
        "colab": {
          "autoexec": {
            "startup": false,
            "wait_interval": 0
          }
        }
      },
      "cell_type": "code",
      "source": [
        "valid_data.columns = [\"filename\", \"LTx\", \"LTy\", \"RTx\", \"RTy\",\"RBx\", \"RBy\", \"LBx\", \"LBy\"]"
      ],
      "execution_count": 0,
      "outputs": []
    },
    {
      "metadata": {
        "id": "VbLaKUPWqsoz",
        "colab_type": "code",
        "colab": {
          "autoexec": {
            "startup": false,
            "wait_interval": 0
          },
          "base_uri": "https://localhost:8080/",
          "height": 204
        },
        "outputId": "a5dc7889-f6ae-410e-ade6-b30a094b90ca",
        "executionInfo": {
          "status": "ok",
          "timestamp": 1531791795914,
          "user_tz": -540,
          "elapsed": 854,
          "user": {
            "displayName": "김민욱",
            "photoUrl": "https://lh3.googleusercontent.com/a/default-user=s128",
            "userId": "108006258518439830382"
          }
        }
      },
      "cell_type": "code",
      "source": [
        "valid_data.head()"
      ],
      "execution_count": 9,
      "outputs": [
        {
          "output_type": "execute_result",
          "data": {
            "text/html": [
              "<div>\n",
              "<style scoped>\n",
              "    .dataframe tbody tr th:only-of-type {\n",
              "        vertical-align: middle;\n",
              "    }\n",
              "\n",
              "    .dataframe tbody tr th {\n",
              "        vertical-align: top;\n",
              "    }\n",
              "\n",
              "    .dataframe thead th {\n",
              "        text-align: right;\n",
              "    }\n",
              "</style>\n",
              "<table border=\"1\" class=\"dataframe\">\n",
              "  <thead>\n",
              "    <tr style=\"text-align: right;\">\n",
              "      <th></th>\n",
              "      <th>filename</th>\n",
              "      <th>LTx</th>\n",
              "      <th>LTy</th>\n",
              "      <th>RTx</th>\n",
              "      <th>RTy</th>\n",
              "      <th>RBx</th>\n",
              "      <th>RBy</th>\n",
              "      <th>LBx</th>\n",
              "      <th>LBy</th>\n",
              "    </tr>\n",
              "  </thead>\n",
              "  <tbody>\n",
              "    <tr>\n",
              "      <th>0</th>\n",
              "      <td>/Origin_irfanview180/20180711_134445_180.jpg</td>\n",
              "      <td>1392</td>\n",
              "      <td>731</td>\n",
              "      <td>2905</td>\n",
              "      <td>701</td>\n",
              "      <td>2875</td>\n",
              "      <td>1583</td>\n",
              "      <td>1482</td>\n",
              "      <td>1583</td>\n",
              "    </tr>\n",
              "    <tr>\n",
              "      <th>1</th>\n",
              "      <td>/Origin_irfanview180/20180711_134526_180.jpg</td>\n",
              "      <td>1312</td>\n",
              "      <td>190</td>\n",
              "      <td>2865</td>\n",
              "      <td>911</td>\n",
              "      <td>2434</td>\n",
              "      <td>1913</td>\n",
              "      <td>811</td>\n",
              "      <td>1162</td>\n",
              "    </tr>\n",
              "    <tr>\n",
              "      <th>2</th>\n",
              "      <td>/Origin_irfanview180/20180711_134530_180.jpg</td>\n",
              "      <td>1052</td>\n",
              "      <td>791</td>\n",
              "      <td>2043</td>\n",
              "      <td>390</td>\n",
              "      <td>2715</td>\n",
              "      <td>1903</td>\n",
              "      <td>1753</td>\n",
              "      <td>2394</td>\n",
              "    </tr>\n",
              "    <tr>\n",
              "      <th>3</th>\n",
              "      <td>/Origin_irfanview180/20180711_134615_180.jpg</td>\n",
              "      <td>1402</td>\n",
              "      <td>410</td>\n",
              "      <td>2474</td>\n",
              "      <td>120</td>\n",
              "      <td>2885</td>\n",
              "      <td>2003</td>\n",
              "      <td>1803</td>\n",
              "      <td>2124</td>\n",
              "    </tr>\n",
              "    <tr>\n",
              "      <th>4</th>\n",
              "      <td>/Origin_irfanview180/20180711_134648_180.jpg</td>\n",
              "      <td>1292</td>\n",
              "      <td>280</td>\n",
              "      <td>2434</td>\n",
              "      <td>0</td>\n",
              "      <td>2795</td>\n",
              "      <td>2033</td>\n",
              "      <td>1623</td>\n",
              "      <td>2124</td>\n",
              "    </tr>\n",
              "  </tbody>\n",
              "</table>\n",
              "</div>"
            ],
            "text/plain": [
              "                                       filename   LTx  LTy   RTx  RTy   RBx  \\\n",
              "0  /Origin_irfanview180/20180711_134445_180.jpg  1392  731  2905  701  2875   \n",
              "1  /Origin_irfanview180/20180711_134526_180.jpg  1312  190  2865  911  2434   \n",
              "2  /Origin_irfanview180/20180711_134530_180.jpg  1052  791  2043  390  2715   \n",
              "3  /Origin_irfanview180/20180711_134615_180.jpg  1402  410  2474  120  2885   \n",
              "4  /Origin_irfanview180/20180711_134648_180.jpg  1292  280  2434    0  2795   \n",
              "\n",
              "    RBy   LBx   LBy  \n",
              "0  1583  1482  1583  \n",
              "1  1913   811  1162  \n",
              "2  1903  1753  2394  \n",
              "3  2003  1803  2124  \n",
              "4  2033  1623  2124  "
            ]
          },
          "metadata": {
            "tags": []
          },
          "execution_count": 9
        }
      ]
    },
    {
      "metadata": {
        "id": "FbgLh4LgqsUa",
        "colab_type": "code",
        "colab": {
          "autoexec": {
            "startup": false,
            "wait_interval": 0
          },
          "base_uri": "https://localhost:8080/",
          "height": 204
        },
        "outputId": "17dff234-e8bf-4c6b-e6a0-08d19fcf700c",
        "executionInfo": {
          "status": "ok",
          "timestamp": 1531791796816,
          "user_tz": -540,
          "elapsed": 832,
          "user": {
            "displayName": "김민욱",
            "photoUrl": "https://lh3.googleusercontent.com/a/default-user=s128",
            "userId": "108006258518439830382"
          }
        }
      },
      "cell_type": "code",
      "source": [
        "valid_data.tail()"
      ],
      "execution_count": 10,
      "outputs": [
        {
          "output_type": "execute_result",
          "data": {
            "text/html": [
              "<div>\n",
              "<style scoped>\n",
              "    .dataframe tbody tr th:only-of-type {\n",
              "        vertical-align: middle;\n",
              "    }\n",
              "\n",
              "    .dataframe tbody tr th {\n",
              "        vertical-align: top;\n",
              "    }\n",
              "\n",
              "    .dataframe thead th {\n",
              "        text-align: right;\n",
              "    }\n",
              "</style>\n",
              "<table border=\"1\" class=\"dataframe\">\n",
              "  <thead>\n",
              "    <tr style=\"text-align: right;\">\n",
              "      <th></th>\n",
              "      <th>filename</th>\n",
              "      <th>LTx</th>\n",
              "      <th>LTy</th>\n",
              "      <th>RTx</th>\n",
              "      <th>RTy</th>\n",
              "      <th>RBx</th>\n",
              "      <th>RBy</th>\n",
              "      <th>LBx</th>\n",
              "      <th>LBy</th>\n",
              "    </tr>\n",
              "  </thead>\n",
              "  <tbody>\n",
              "    <tr>\n",
              "      <th>195</th>\n",
              "      <td>/Origin_irfanview/20180712_100732.jpg</td>\n",
              "      <td>661</td>\n",
              "      <td>641</td>\n",
              "      <td>2925</td>\n",
              "      <td>200</td>\n",
              "      <td>3556</td>\n",
              "      <td>1312</td>\n",
              "      <td>701</td>\n",
              "      <td>1963</td>\n",
              "    </tr>\n",
              "    <tr>\n",
              "      <th>196</th>\n",
              "      <td>/Origin_irfanview/20180712_100805.jpg</td>\n",
              "      <td>931</td>\n",
              "      <td>591</td>\n",
              "      <td>3096</td>\n",
              "      <td>130</td>\n",
              "      <td>3476</td>\n",
              "      <td>1472</td>\n",
              "      <td>1072</td>\n",
              "      <td>1933</td>\n",
              "    </tr>\n",
              "    <tr>\n",
              "      <th>197</th>\n",
              "      <td>/Origin_irfanview/20180712_100821.jpg</td>\n",
              "      <td>781</td>\n",
              "      <td>651</td>\n",
              "      <td>2855</td>\n",
              "      <td>90</td>\n",
              "      <td>3346</td>\n",
              "      <td>1312</td>\n",
              "      <td>1011</td>\n",
              "      <td>1973</td>\n",
              "    </tr>\n",
              "    <tr>\n",
              "      <th>198</th>\n",
              "      <td>/Origin_irfanview/20180712_100828.jpg</td>\n",
              "      <td>631</td>\n",
              "      <td>140</td>\n",
              "      <td>3697</td>\n",
              "      <td>90</td>\n",
              "      <td>3837</td>\n",
              "      <td>2124</td>\n",
              "      <td>440</td>\n",
              "      <td>2064</td>\n",
              "    </tr>\n",
              "    <tr>\n",
              "      <th>199</th>\n",
              "      <td>/Origin_irfanview/20180712_100846.jpg</td>\n",
              "      <td>591</td>\n",
              "      <td>150</td>\n",
              "      <td>3406</td>\n",
              "      <td>150</td>\n",
              "      <td>3586</td>\n",
              "      <td>1943</td>\n",
              "      <td>290</td>\n",
              "      <td>1883</td>\n",
              "    </tr>\n",
              "  </tbody>\n",
              "</table>\n",
              "</div>"
            ],
            "text/plain": [
              "                                  filename  LTx  LTy   RTx  RTy   RBx   RBy  \\\n",
              "195  /Origin_irfanview/20180712_100732.jpg  661  641  2925  200  3556  1312   \n",
              "196  /Origin_irfanview/20180712_100805.jpg  931  591  3096  130  3476  1472   \n",
              "197  /Origin_irfanview/20180712_100821.jpg  781  651  2855   90  3346  1312   \n",
              "198  /Origin_irfanview/20180712_100828.jpg  631  140  3697   90  3837  2124   \n",
              "199  /Origin_irfanview/20180712_100846.jpg  591  150  3406  150  3586  1943   \n",
              "\n",
              "      LBx   LBy  \n",
              "195   701  1963  \n",
              "196  1072  1933  \n",
              "197  1011  1973  \n",
              "198   440  2064  \n",
              "199   290  1883  "
            ]
          },
          "metadata": {
            "tags": []
          },
          "execution_count": 10
        }
      ]
    },
    {
      "metadata": {
        "id": "fn91pPyL6RXL",
        "colab_type": "text"
      },
      "cell_type": "markdown",
      "source": [
        "## Image Load using PILOW"
      ]
    },
    {
      "metadata": {
        "id": "09H9Yr4f6Ntq",
        "colab_type": "code",
        "colab": {
          "autoexec": {
            "startup": false,
            "wait_interval": 0
          }
        }
      },
      "cell_type": "code",
      "source": [
        "from PIL import Image\n",
        "\n",
        "def pil_loader(path):\n",
        "    # open path as file to avoid ResourceWarning (https://github.com/python-pillow/Pillow/issues/835)\n",
        "    with open(path, 'rb') as f:\n",
        "        img = Image.open(f)\n",
        "        return img.convert('RGB')\n",
        "\n",
        "\n",
        "def accimage_loader(path):\n",
        "    import accimage\n",
        "    try:\n",
        "        return accimage.Image(path)\n",
        "    except IOError:\n",
        "        # Potentially a decoding problem, fall back to PIL.Image\n",
        "        return pil_loader(path)\n",
        "\n",
        "\n",
        "def default_loader(path):\n",
        "    from torchvision import get_image_backend\n",
        "    if get_image_backend() == 'accimage':\n",
        "        return accimage_loader(path)\n",
        "    else:\n",
        "        return pil_loader(path)"
      ],
      "execution_count": 0,
      "outputs": []
    },
    {
      "metadata": {
        "id": "uPVx8op66V_T",
        "colab_type": "code",
        "colab": {
          "autoexec": {
            "startup": false,
            "wait_interval": 0
          }
        }
      },
      "cell_type": "code",
      "source": [
        "image = default_loader(data_root+train_data['filename'][0])"
      ],
      "execution_count": 0,
      "outputs": []
    },
    {
      "metadata": {
        "id": "aV_vLdEN6Xib",
        "colab_type": "code",
        "colab": {
          "autoexec": {
            "startup": false,
            "wait_interval": 0
          },
          "base_uri": "https://localhost:8080/",
          "height": 134
        },
        "outputId": "974caf78-fa45-42b3-bce1-ca1313f035dd",
        "executionInfo": {
          "status": "ok",
          "timestamp": 1531791799620,
          "user_tz": -540,
          "elapsed": 1033,
          "user": {
            "displayName": "김민욱",
            "photoUrl": "https://lh3.googleusercontent.com/a/default-user=s128",
            "userId": "108006258518439830382"
          }
        }
      },
      "cell_type": "code",
      "source": [
        "image"
      ],
      "execution_count": 13,
      "outputs": [
        {
          "output_type": "execute_result",
          "data": {
            "image/png": "[encoded data removed]",
            "text/plain": [
              "<PIL.Image.Image image mode=RGB size=208x117 at 0x7F394DDACF60>"
            ]
          },
          "metadata": {
            "tags": []
          },
          "execution_count": 13
        }
      ]
    },
    {
      "metadata": {
        "id": "i73seWbI7rFD",
        "colab_type": "text"
      },
      "cell_type": "markdown",
      "source": [
        "## PreProcess Image Data"
      ]
    },
    {
      "metadata": {
        "id": "Mu-aS4xA7qV6",
        "colab_type": "code",
        "colab": {
          "autoexec": {
            "startup": false,
            "wait_interval": 0
          }
        }
      },
      "cell_type": "code",
      "source": [
        "import numpy as np\n",
        "import torch\n",
        "\n",
        "import collections\n",
        "\n",
        "try:\n",
        "    import accimage\n",
        "except ImportError:\n",
        "    accimage = None\n",
        "    \n",
        "def _is_pil_image(img):\n",
        "    if accimage is not None:\n",
        "        return isinstance(img, (Image.Image, accimage.Image))\n",
        "    else:\n",
        "        return isinstance(img, Image.Image)\n",
        "\n",
        "\n",
        "def _is_tensor_image(img):\n",
        "    return torch.is_tensor(img) and img.ndimension() == 3\n",
        "\n",
        "\n",
        "def _is_numpy_image(img):\n",
        "    return isinstance(img, np.ndarray) and (img.ndim in {2, 3})\n",
        "\n",
        "def to_tensor(pic):\n",
        "    \"\"\"Convert a ``PIL Image`` or ``numpy.ndarray`` to tensor.\n",
        "    See ``ToTensor`` for more details.\n",
        "    Args:\n",
        "        pic (PIL Image or numpy.ndarray): Image to be converted to tensor.\n",
        "    Returns:\n",
        "        Tensor: Converted image.\n",
        "    \"\"\"\n",
        "    if not(_is_pil_image(pic) or _is_numpy_image(pic)):\n",
        "        raise TypeError('pic should be PIL Image or ndarray. Got {}'.format(type(pic)))\n",
        "\n",
        "    if isinstance(pic, np.ndarray):\n",
        "        # handle numpy array\n",
        "        img = torch.from_numpy(pic.transpose((2, 0, 1)))\n",
        "        # backward compatibility\n",
        "        if isinstance(img, torch.ByteTensor):\n",
        "            return img.float().div(255)\n",
        "        else:\n",
        "            return img\n",
        "\n",
        "    if accimage is not None and isinstance(pic, accimage.Image):\n",
        "        nppic = np.zeros([pic.channels, pic.height, pic.width], dtype=np.float32)\n",
        "        pic.copyto(nppic)\n",
        "        return torch.from_numpy(nppic)\n",
        "\n",
        "    # handle PIL Image\n",
        "    if pic.mode == 'I':\n",
        "        img = torch.from_numpy(np.array(pic, np.int32, copy=False))\n",
        "    elif pic.mode == 'I;16':\n",
        "        img = torch.from_numpy(np.array(pic, np.int16, copy=False))\n",
        "    elif pic.mode == 'F':\n",
        "        img = torch.from_numpy(np.array(pic, np.float32, copy=False))\n",
        "    elif pic.mode == '1':\n",
        "        img = 255 * torch.from_numpy(np.array(pic, np.uint8, copy=False))\n",
        "    else:\n",
        "        img = torch.ByteTensor(torch.ByteStorage.from_buffer(pic.tobytes()))\n",
        "    # PIL image mode: L, P, I, F, RGB, YCbCr, RGBA, CMYK\n",
        "    if pic.mode == 'YCbCr':\n",
        "        nchannel = 3\n",
        "    elif pic.mode == 'I;16':\n",
        "        nchannel = 1\n",
        "    else:\n",
        "        nchannel = len(pic.mode)\n",
        "    img = img.view(pic.size[1], pic.size[0], nchannel)\n",
        "    # put it from HWC to CHW format\n",
        "    # yikes, this transpose takes 80% of the loading time/CPU\n",
        "    img = img.transpose(0, 1).transpose(0, 2).contiguous()\n",
        "    if isinstance(img, torch.ByteTensor):\n",
        "        return img.float().div(255)\n",
        "    else:\n",
        "        return img"
      ],
      "execution_count": 0,
      "outputs": []
    },
    {
      "metadata": {
        "id": "YAO7lHeM7ojD",
        "colab_type": "code",
        "colab": {
          "autoexec": {
            "startup": false,
            "wait_interval": 0
          }
        }
      },
      "cell_type": "code",
      "source": [
        "image_tensor = to_tensor(image)"
      ],
      "execution_count": 0,
      "outputs": []
    },
    {
      "metadata": {
        "id": "VI6ZQcBZ7yjL",
        "colab_type": "code",
        "colab": {
          "autoexec": {
            "startup": false,
            "wait_interval": 0
          },
          "base_uri": "https://localhost:8080/",
          "height": 35
        },
        "outputId": "07f16d83-54bd-4a18-a5b4-4cdec439285b",
        "executionInfo": {
          "status": "ok",
          "timestamp": 1531791805325,
          "user_tz": -540,
          "elapsed": 2917,
          "user": {
            "displayName": "김민욱",
            "photoUrl": "https://lh3.googleusercontent.com/a/default-user=s128",
            "userId": "108006258518439830382"
          }
        }
      },
      "cell_type": "code",
      "source": [
        "image_tensor.type()"
      ],
      "execution_count": 16,
      "outputs": [
        {
          "output_type": "execute_result",
          "data": {
            "text/plain": [
              "'torch.FloatTensor'"
            ]
          },
          "metadata": {
            "tags": []
          },
          "execution_count": 16
        }
      ]
    },
    {
      "metadata": {
        "id": "IslfgQUB7zpj",
        "colab_type": "code",
        "colab": {
          "autoexec": {
            "startup": false,
            "wait_interval": 0
          },
          "base_uri": "https://localhost:8080/",
          "height": 35
        },
        "outputId": "434c5558-d6ca-4e6c-eaff-bc6cac4370ad",
        "executionInfo": {
          "status": "ok",
          "timestamp": 1531791806867,
          "user_tz": -540,
          "elapsed": 1467,
          "user": {
            "displayName": "김민욱",
            "photoUrl": "https://lh3.googleusercontent.com/a/default-user=s128",
            "userId": "108006258518439830382"
          }
        }
      },
      "cell_type": "code",
      "source": [
        "image_tensor.size()"
      ],
      "execution_count": 17,
      "outputs": [
        {
          "output_type": "execute_result",
          "data": {
            "text/plain": [
              "torch.Size([3, 117, 208])"
            ]
          },
          "metadata": {
            "tags": []
          },
          "execution_count": 17
        }
      ]
    },
    {
      "metadata": {
        "id": "2dRs9VdA72ir",
        "colab_type": "text"
      },
      "cell_type": "markdown",
      "source": [
        "## Design Dataset"
      ]
    },
    {
      "metadata": {
        "id": "Akkh3aWr70yj",
        "colab_type": "code",
        "colab": {
          "autoexec": {
            "startup": false,
            "wait_interval": 0
          }
        }
      },
      "cell_type": "code",
      "source": [
        "import torch\n",
        "from torch.utils.data import Dataset, DataLoader"
      ],
      "execution_count": 0,
      "outputs": []
    },
    {
      "metadata": {
        "id": "1ohKx9VNAjjq",
        "colab_type": "code",
        "colab": {
          "autoexec": {
            "startup": false,
            "wait_interval": 0
          }
        }
      },
      "cell_type": "code",
      "source": [
        "resize_ratio = 5 / 100"
      ],
      "execution_count": 0,
      "outputs": []
    },
    {
      "metadata": {
        "id": "5gI_S4eI76kz",
        "colab_type": "code",
        "colab": {
          "autoexec": {
            "startup": false,
            "wait_interval": 0
          }
        }
      },
      "cell_type": "code",
      "source": [
        "class AutoCropDataSet(Dataset):\n",
        "    \n",
        "    def __init__(self, data):\n",
        "        self.input_data = []\n",
        "        self.target_data = []\n",
        "        \n",
        "        # Load All Data\n",
        "        print(\"image data loading...\")\n",
        "        for index, row in data.iterrows():\n",
        "            filename = data_root + row['filename']\n",
        "            image = default_loader(filename)\n",
        "            image_tensor = to_tensor(image)\n",
        "            self.input_data.append(image_tensor)\n",
        "             \n",
        "            target_tensor = torch.tensor([[ float(row['LTx']*resize_ratio), float(row['LTy']*resize_ratio), float(row['RTx']*resize_ratio), float(row['RTy']*resize_ratio),  \n",
        "                                            float(row['RBx']*resize_ratio), float(row['RBy']*resize_ratio), float(row['LBx']*resize_ratio), float(row['LBy']*resize_ratio) ]])             \n",
        "            self.target_data.append(target_tensor)\n",
        "        \n",
        "        print(\"[{}] data is loaded!\".format(len(self.input_data)))\n",
        "        \n",
        "    def __getitem__(self, index):\n",
        "        return self.input_data[index], self.target_data[index]\n",
        "                                          \n",
        "    def __len__(self):\n",
        "        return len(self.input_data)"
      ],
      "execution_count": 0,
      "outputs": []
    },
    {
      "metadata": {
        "id": "upgcJURX78cz",
        "colab_type": "code",
        "colab": {
          "autoexec": {
            "startup": false,
            "wait_interval": 0
          },
          "base_uri": "https://localhost:8080/",
          "height": 53
        },
        "outputId": "0f2861d9-dd90-48a0-aec8-270533dd6ed6",
        "executionInfo": {
          "status": "ok",
          "timestamp": 1531791812394,
          "user_tz": -540,
          "elapsed": 1754,
          "user": {
            "displayName": "김민욱",
            "photoUrl": "https://lh3.googleusercontent.com/a/default-user=s128",
            "userId": "108006258518439830382"
          }
        }
      },
      "cell_type": "code",
      "source": [
        "train_dataset = AutoCropDataSet(train_data)\n",
        "train_loader = DataLoader(dataset=train_dataset, batch_size=20, shuffle=True)"
      ],
      "execution_count": 21,
      "outputs": [
        {
          "output_type": "stream",
          "text": [
            "image data loading...\n",
            "[450] data is loaded!\n"
          ],
          "name": "stdout"
        }
      ]
    },
    {
      "metadata": {
        "id": "oTmX6KXfsyTy",
        "colab_type": "code",
        "colab": {
          "autoexec": {
            "startup": false,
            "wait_interval": 0
          },
          "base_uri": "https://localhost:8080/",
          "height": 53
        },
        "outputId": "43e71a25-5f41-4d0e-9a4a-13c566eb507b",
        "executionInfo": {
          "status": "ok",
          "timestamp": 1531791813603,
          "user_tz": -540,
          "elapsed": 1196,
          "user": {
            "displayName": "김민욱",
            "photoUrl": "https://lh3.googleusercontent.com/a/default-user=s128",
            "userId": "108006258518439830382"
          }
        }
      },
      "cell_type": "code",
      "source": [
        "valid_dataset = AutoCropDataSet(valid_data)\n",
        "valid_loader = DataLoader(dataset=valid_dataset, batch_size=20, shuffle=True)"
      ],
      "execution_count": 22,
      "outputs": [
        {
          "output_type": "stream",
          "text": [
            "image data loading...\n",
            "[200] data is loaded!\n"
          ],
          "name": "stdout"
        }
      ]
    },
    {
      "metadata": {
        "id": "c71fdadQ8DPK",
        "colab_type": "text"
      },
      "cell_type": "markdown",
      "source": [
        "## Design Model"
      ]
    },
    {
      "metadata": {
        "id": "sJ4NO4sd8AV7",
        "colab_type": "code",
        "colab": {
          "autoexec": {
            "startup": false,
            "wait_interval": 0
          }
        }
      },
      "cell_type": "code",
      "source": [
        "import numpy as np\n",
        "import torch\n",
        "import torch.nn.functional as F"
      ],
      "execution_count": 0,
      "outputs": []
    },
    {
      "metadata": {
        "id": "ci4YJNYE8F4D",
        "colab_type": "code",
        "colab": {
          "autoexec": {
            "startup": false,
            "wait_interval": 0
          }
        }
      },
      "cell_type": "code",
      "source": [
        "class InceptionA(torch.nn.Module):\n",
        "    def __init__(self, in_channels):\n",
        "        super(InceptionA, self).__init__()\n",
        "        \n",
        "        self.branch_pool = torch.nn.Conv2d(in_channels, 24, kernel_size=1)\n",
        "        self.branch1x1 = torch.nn.Conv2d(in_channels, 16, kernel_size=1)\n",
        "        \n",
        "        self.branch5x5_1 = torch.nn.Conv2d(in_channels, 16, kernel_size=1)\n",
        "        self.branch5x5_2 = torch.nn.Conv2d(16, 24, kernel_size=5, padding=2)\n",
        "        \n",
        "        self.branch3x3_1 = torch.nn.Conv2d(in_channels, 16, kernel_size=1)\n",
        "        self.branch3x3_2 = torch.nn.Conv2d(16, 24, kernel_size=3, padding=1)\n",
        "        self.branch3x3_3 = torch.nn.Conv2d(24, 24, kernel_size=3, padding=1)\n",
        "    \n",
        "    def forward(self, x):\n",
        "        \n",
        "        # print(\"x = \", x.size())\n",
        "        \n",
        "        branch_pool = F.avg_pool2d(x, kernel_size=3, stride=1, padding=1)\n",
        "        branch_pool = self.branch_pool(branch_pool)\n",
        "        # print(\"branch_pool = \", branch_pool.size())\n",
        "        \n",
        "        \n",
        "        branch1x1 = self.branch1x1(x)\n",
        "        # print(\"branch1x1 = \", branch1x1.size())\n",
        "        \n",
        "        branch5x5 = self.branch5x5_1(x)\n",
        "        branch5x5 = self.branch5x5_2(branch5x5)\n",
        "        # print(\"branch5x5 = \", branch5x5.size())\n",
        "        \n",
        "        branch3x3 = self.branch3x3_1(x)\n",
        "        branch3x3 = self.branch3x3_2(branch3x3)\n",
        "        branch3x3 = self.branch3x3_3(branch3x3)\n",
        "        # print(\"branch3x3 = \", branch3x3.size())\n",
        "        \n",
        "        outputs = [branch_pool, branch1x1, branch5x5, branch3x3]\n",
        "       \n",
        "        ret_value = torch.cat(outputs, 1)\n",
        "        \n",
        "        # print(\"ret_value = \", ret_value.size())\n",
        "        \n",
        "        return ret_value"
      ],
      "execution_count": 0,
      "outputs": []
    },
    {
      "metadata": {
        "id": "v31xUdAT8Hdj",
        "colab_type": "code",
        "colab": {
          "autoexec": {
            "startup": false,
            "wait_interval": 0
          }
        }
      },
      "cell_type": "code",
      "source": [
        "class Model(torch.nn.Module):\n",
        "    def __init__(self):\n",
        "        super(Model, self).__init__()\n",
        "        \n",
        "        ## 3 = rgb 3 channel\n",
        "        self.conv1 = torch.nn.Conv2d( 3, 10, kernel_size=5)\n",
        "        self.conv2 = torch.nn.Conv2d(88, 20, kernel_size=5)\n",
        "        \n",
        "        self.incept1 = InceptionA(in_channels=10)\n",
        "        self.incept2 = InceptionA(in_channels=20)\n",
        "        \n",
        "        self.mp = torch.nn.MaxPool2d(2)\n",
        "        self.fc = torch.nn.Linear(112112, 8)\n",
        "        \n",
        "    def forward(self, x):\n",
        "        in_size = x.size(0)\n",
        "        \n",
        "        x = F.relu(self.mp(self.conv1(x)))\n",
        "        x = self.incept1(x)\n",
        "        x = F.relu(self.mp(self.conv2(x)))\n",
        "        x = self.incept2(x)\n",
        "        x = x.view(in_size, -1)\n",
        "        x = self.fc(x)\n",
        "        \n",
        "        return x # F.log_softmax(x)"
      ],
      "execution_count": 0,
      "outputs": []
    },
    {
      "metadata": {
        "id": "IPOMWb_K8Jc8",
        "colab_type": "code",
        "colab": {
          "autoexec": {
            "startup": false,
            "wait_interval": 0
          }
        }
      },
      "cell_type": "code",
      "source": [
        "use_cuda = torch.cuda.is_available()\n",
        "device = torch.device('cuda' if use_cuda else 'cpu')"
      ],
      "execution_count": 0,
      "outputs": []
    },
    {
      "metadata": {
        "id": "-vWaL1uK8Kzr",
        "colab_type": "code",
        "colab": {
          "autoexec": {
            "startup": false,
            "wait_interval": 0
          }
        }
      },
      "cell_type": "code",
      "source": [
        "model = Model()\n",
        "model = model.to(device)"
      ],
      "execution_count": 0,
      "outputs": []
    },
    {
      "metadata": {
        "id": "o2RqQpbf8PCj",
        "colab_type": "text"
      },
      "cell_type": "markdown",
      "source": [
        "## Define criterion & optimizer"
      ]
    },
    {
      "metadata": {
        "id": "FXAPBFvz8MCT",
        "colab_type": "code",
        "colab": {
          "autoexec": {
            "startup": false,
            "wait_interval": 0
          }
        }
      },
      "cell_type": "code",
      "source": [
        "criterion = torch.nn.MSELoss(size_average=False)\n",
        "optimizer = torch.optim.Adam(model.parameters(), lr=0.001, weight_decay=1e-5 )"
      ],
      "execution_count": 0,
      "outputs": []
    },
    {
      "metadata": {
        "id": "CR4C2jSf8U47",
        "colab_type": "text"
      },
      "cell_type": "markdown",
      "source": [
        "## Training"
      ]
    },
    {
      "metadata": {
        "id": "CfiIjOHN8Qij",
        "colab_type": "code",
        "colab": {
          "autoexec": {
            "startup": false,
            "wait_interval": 0
          }
        }
      },
      "cell_type": "code",
      "source": [
        "def train(epoch):\n",
        "    model.train()\n",
        "    \n",
        "    total_loss = 0.0\n",
        "    for batch_idx, (data, target) in  enumerate(train_loader):\n",
        "    \n",
        "        data, target = data.to(device), target.to(device)\n",
        "        \n",
        "        # init optimizer\n",
        "        optimizer.zero_grad()\n",
        "\n",
        "        # Go Forward\n",
        "        target_pred = model(data)\n",
        "\n",
        "        # Calc loss\n",
        "        target = target.view(-1, 8)\n",
        "        loss = criterion(target_pred, target)\n",
        "\n",
        "        # loss backward\n",
        "        loss.backward()\n",
        "\n",
        "        # update weight\n",
        "        optimizer.step()\n",
        "\n",
        "        if batch_idx % 10 == 0:\n",
        "            print('Train Epoch: {} [{}/{} ({:.0f}%)]\\tLoss: {:.6f}'.format(\n",
        "                epoch, batch_idx * len(data), len(train_loader.dataset),\n",
        "                100. * batch_idx / len(train_loader), loss.item()))\n",
        "        \n",
        "        total_loss += loss.item()\n",
        "    print(\"\")\n",
        "    print(epoch, total_loss)\n",
        "    print(\"\")"
      ],
      "execution_count": 0,
      "outputs": []
    },
    {
      "metadata": {
        "id": "gPRmezkctTDy",
        "colab_type": "code",
        "colab": {
          "autoexec": {
            "startup": false,
            "wait_interval": 0
          }
        }
      },
      "cell_type": "code",
      "source": [
        "def test(epoch):\n",
        "    with torch.no_grad():\n",
        "\n",
        "      model.eval()\n",
        "\n",
        "      total_loss = 0.0\n",
        "      for batch_idx, (data, target) in  enumerate(valid_loader):\n",
        "\n",
        "          data, target = data.to(device), target.to(device)\n",
        "\n",
        "          # init optimizer\n",
        "          # optimizer.zero_grad()\n",
        "\n",
        "          # Go Forward\n",
        "          target_pred = model(data)\n",
        "\n",
        "          # Calc loss\n",
        "          target = target.view(-1, 8)\n",
        "          loss = criterion(target_pred, target)\n",
        "\n",
        "          if batch_idx % 10 == 0:\n",
        "              print('Test Epoch: {} [{}/{} ({:.0f}%)]\\tLoss: {:.6f}'.format(\n",
        "                  epoch, batch_idx * len(data), len(valid_loader.dataset),\n",
        "                  100. * batch_idx / len(valid_loader), loss.item()))\n",
        "\n",
        "          total_loss += loss.item()\n",
        "      print(\"\")\n",
        "      print(epoch, total_loss)\n",
        "      print(\"\")"
      ],
      "execution_count": 0,
      "outputs": []
    },
    {
      "metadata": {
        "id": "0Caq7xvU8XS7",
        "colab_type": "code",
        "colab": {
          "autoexec": {
            "startup": false,
            "wait_interval": 0
          },
          "base_uri": "https://localhost:8080/",
          "height": 17837
        },
        "outputId": "92544f96-0bad-4f91-86a6-7e58c02a471d",
        "executionInfo": {
          "status": "ok",
          "timestamp": 1531792016485,
          "user_tz": -540,
          "elapsed": 189852,
          "user": {
            "displayName": "김민욱",
            "photoUrl": "https://lh3.googleusercontent.com/a/default-user=s128",
            "userId": "108006258518439830382"
          }
        }
      },
      "cell_type": "code",
      "source": [
        "for epoch in range(1, 100):\n",
        "    train(epoch)\n",
        "    test(epoch)"
      ],
      "execution_count": 31,
      "outputs": [
        {
          "output_type": "stream",
          "text": [
            "Train Epoch: 1 [0/450 (0%)]\tLoss: 1394746.875000\n",
            "Train Epoch: 1 [200/450 (43%)]\tLoss: 134764.250000\n",
            "Train Epoch: 1 [400/450 (87%)]\tLoss: 102662.171875\n",
            "\n",
            "1 6437815.4609375\n",
            "\n",
            "Test Epoch: 1 [0/200 (0%)]\tLoss: 113902.445312\n",
            "\n",
            "1 1014933.4765625\n",
            "\n",
            "Train Epoch: 2 [0/450 (0%)]\tLoss: 83422.492188\n",
            "Train Epoch: 2 [200/450 (43%)]\tLoss: 107149.523438\n",
            "Train Epoch: 2 [400/450 (87%)]\tLoss: 92346.453125\n",
            "\n",
            "2 2122505.234375\n",
            "\n",
            "Test Epoch: 2 [0/200 (0%)]\tLoss: 114633.976562\n",
            "\n",
            "2 860277.421875\n",
            "\n",
            "Train Epoch: 3 [0/450 (0%)]\tLoss: 93193.601562\n",
            "Train Epoch: 3 [200/450 (43%)]\tLoss: 126908.515625\n",
            "Train Epoch: 3 [400/450 (87%)]\tLoss: 122248.421875\n",
            "\n",
            "3 1987076.390625\n",
            "\n",
            "Test Epoch: 3 [0/200 (0%)]\tLoss: 93044.734375\n",
            "\n",
            "3 877465.9140625\n",
            "\n",
            "Train Epoch: 4 [0/450 (0%)]\tLoss: 77099.187500\n",
            "Train Epoch: 4 [200/450 (43%)]\tLoss: 93500.546875\n",
            "Train Epoch: 4 [400/450 (87%)]\tLoss: 95719.968750\n",
            "\n",
            "4 1937144.328125\n",
            "\n",
            "Test Epoch: 4 [0/200 (0%)]\tLoss: 88307.234375\n",
            "\n",
            "4 851748.17578125\n",
            "\n",
            "Train Epoch: 5 [0/450 (0%)]\tLoss: 83082.718750\n",
            "Train Epoch: 5 [200/450 (43%)]\tLoss: 67045.328125\n",
            "Train Epoch: 5 [400/450 (87%)]\tLoss: 78324.601562\n",
            "\n",
            "5 1905862.65625\n",
            "\n",
            "Test Epoch: 5 [0/200 (0%)]\tLoss: 65179.167969\n",
            "\n",
            "5 825141.24609375\n",
            "\n",
            "Train Epoch: 6 [0/450 (0%)]\tLoss: 66463.281250\n",
            "Train Epoch: 6 [200/450 (43%)]\tLoss: 78771.468750\n",
            "Train Epoch: 6 [400/450 (87%)]\tLoss: 64199.027344\n",
            "\n",
            "6 1793945.16796875\n",
            "\n",
            "Test Epoch: 6 [0/200 (0%)]\tLoss: 83360.812500\n",
            "\n",
            "6 699479.4765625\n",
            "\n",
            "Train Epoch: 7 [0/450 (0%)]\tLoss: 83199.140625\n",
            "Train Epoch: 7 [200/450 (43%)]\tLoss: 55956.179688\n",
            "Train Epoch: 7 [400/450 (87%)]\tLoss: 22872.890625\n",
            "\n",
            "7 1209619.37109375\n",
            "\n",
            "Test Epoch: 7 [0/200 (0%)]\tLoss: 47101.109375\n",
            "\n",
            "7 410019.826171875\n",
            "\n",
            "Train Epoch: 8 [0/450 (0%)]\tLoss: 42808.433594\n",
            "Train Epoch: 8 [200/450 (43%)]\tLoss: 47136.062500\n",
            "Train Epoch: 8 [400/450 (87%)]\tLoss: 41429.960938\n",
            "\n",
            "8 759034.5048828125\n",
            "\n",
            "Test Epoch: 8 [0/200 (0%)]\tLoss: 43124.625000\n",
            "\n",
            "8 393479.6640625\n",
            "\n",
            "Train Epoch: 9 [0/450 (0%)]\tLoss: 38948.964844\n",
            "Train Epoch: 9 [200/450 (43%)]\tLoss: 22216.902344\n",
            "Train Epoch: 9 [400/450 (87%)]\tLoss: 18284.031250\n",
            "\n",
            "9 613646.1962890625\n",
            "\n",
            "Test Epoch: 9 [0/200 (0%)]\tLoss: 31055.562500\n",
            "\n",
            "9 278820.810546875\n",
            "\n",
            "Train Epoch: 10 [0/450 (0%)]\tLoss: 24485.962891\n",
            "Train Epoch: 10 [200/450 (43%)]\tLoss: 33924.347656\n",
            "Train Epoch: 10 [400/450 (87%)]\tLoss: 35708.039062\n",
            "\n",
            "10 531526.8916015625\n",
            "\n",
            "Test Epoch: 10 [0/200 (0%)]\tLoss: 16516.765625\n",
            "\n",
            "10 218993.37109375\n",
            "\n",
            "Train Epoch: 11 [0/450 (0%)]\tLoss: 13766.911133\n",
            "Train Epoch: 11 [200/450 (43%)]\tLoss: 19374.648438\n",
            "Train Epoch: 11 [400/450 (87%)]\tLoss: 16716.183594\n",
            "\n",
            "11 460960.0927734375\n",
            "\n",
            "Test Epoch: 11 [0/200 (0%)]\tLoss: 27833.355469\n",
            "\n",
            "11 219905.19140625\n",
            "\n",
            "Train Epoch: 12 [0/450 (0%)]\tLoss: 22700.996094\n",
            "Train Epoch: 12 [200/450 (43%)]\tLoss: 17867.660156\n",
            "Train Epoch: 12 [400/450 (87%)]\tLoss: 12296.270508\n",
            "\n",
            "12 451387.5908203125\n",
            "\n",
            "Test Epoch: 12 [0/200 (0%)]\tLoss: 30991.019531\n",
            "\n",
            "12 235707.130859375\n",
            "\n",
            "Train Epoch: 13 [0/450 (0%)]\tLoss: 18154.410156\n",
            "Train Epoch: 13 [200/450 (43%)]\tLoss: 20768.277344\n",
            "Train Epoch: 13 [400/450 (87%)]\tLoss: 22012.162109\n",
            "\n",
            "13 422199.2880859375\n",
            "\n",
            "Test Epoch: 13 [0/200 (0%)]\tLoss: 12255.400391\n",
            "\n",
            "13 202272.2685546875\n",
            "\n",
            "Train Epoch: 14 [0/450 (0%)]\tLoss: 22425.656250\n",
            "Train Epoch: 14 [200/450 (43%)]\tLoss: 24742.414062\n",
            "Train Epoch: 14 [400/450 (87%)]\tLoss: 13925.391602\n",
            "\n",
            "14 434440.072265625\n",
            "\n",
            "Test Epoch: 14 [0/200 (0%)]\tLoss: 23980.687500\n",
            "\n",
            "14 238981.453125\n",
            "\n",
            "Train Epoch: 15 [0/450 (0%)]\tLoss: 29915.031250\n",
            "Train Epoch: 15 [200/450 (43%)]\tLoss: 15203.998047\n",
            "Train Epoch: 15 [400/450 (87%)]\tLoss: 12492.365234\n",
            "\n",
            "15 398938.68212890625\n",
            "\n",
            "Test Epoch: 15 [0/200 (0%)]\tLoss: 17926.371094\n",
            "\n",
            "15 192588.8056640625\n",
            "\n",
            "Train Epoch: 16 [0/450 (0%)]\tLoss: 14209.959961\n",
            "Train Epoch: 16 [200/450 (43%)]\tLoss: 21103.732422\n",
            "Train Epoch: 16 [400/450 (87%)]\tLoss: 19282.062500\n",
            "\n",
            "16 388117.1328125\n",
            "\n",
            "Test Epoch: 16 [0/200 (0%)]\tLoss: 18728.216797\n",
            "\n",
            "16 194363.451171875\n",
            "\n",
            "Train Epoch: 17 [0/450 (0%)]\tLoss: 13114.853516\n",
            "Train Epoch: 17 [200/450 (43%)]\tLoss: 12545.371094\n"
          ],
          "name": "stdout"
        },
        {
          "output_type": "stream",
          "text": [
            "Train Epoch: 17 [400/450 (87%)]\tLoss: 24550.101562\n",
            "\n",
            "17 379061.68505859375\n",
            "\n",
            "Test Epoch: 17 [0/200 (0%)]\tLoss: 13723.958984\n",
            "\n",
            "17 203461.603515625\n",
            "\n",
            "Train Epoch: 18 [0/450 (0%)]\tLoss: 22900.271484\n",
            "Train Epoch: 18 [200/450 (43%)]\tLoss: 9813.539062\n",
            "Train Epoch: 18 [400/450 (87%)]\tLoss: 13214.763672\n",
            "\n",
            "18 369069.4130859375\n",
            "\n",
            "Test Epoch: 18 [0/200 (0%)]\tLoss: 20006.175781\n",
            "\n",
            "18 218753.9833984375\n",
            "\n",
            "Train Epoch: 19 [0/450 (0%)]\tLoss: 16805.503906\n",
            "Train Epoch: 19 [200/450 (43%)]\tLoss: 13610.513672\n",
            "Train Epoch: 19 [400/450 (87%)]\tLoss: 19565.945312\n",
            "\n",
            "19 375281.6369628906\n",
            "\n",
            "Test Epoch: 19 [0/200 (0%)]\tLoss: 14815.919922\n",
            "\n",
            "19 183601.8173828125\n",
            "\n",
            "Train Epoch: 20 [0/450 (0%)]\tLoss: 8138.992676\n",
            "Train Epoch: 20 [200/450 (43%)]\tLoss: 19118.023438\n",
            "Train Epoch: 20 [400/450 (87%)]\tLoss: 18854.039062\n",
            "\n",
            "20 337232.4921875\n",
            "\n",
            "Test Epoch: 20 [0/200 (0%)]\tLoss: 14614.505859\n",
            "\n",
            "20 173851.0146484375\n",
            "\n",
            "Train Epoch: 21 [0/450 (0%)]\tLoss: 16443.394531\n",
            "Train Epoch: 21 [200/450 (43%)]\tLoss: 7899.239746\n",
            "Train Epoch: 21 [400/450 (87%)]\tLoss: 10487.583008\n",
            "\n",
            "21 332466.07177734375\n",
            "\n",
            "Test Epoch: 21 [0/200 (0%)]\tLoss: 22727.421875\n",
            "\n",
            "21 175524.30078125\n",
            "\n",
            "Train Epoch: 22 [0/450 (0%)]\tLoss: 10662.886719\n",
            "Train Epoch: 22 [200/450 (43%)]\tLoss: 9686.191406\n",
            "Train Epoch: 22 [400/450 (87%)]\tLoss: 15740.665039\n",
            "\n",
            "22 337255.5908203125\n",
            "\n",
            "Test Epoch: 22 [0/200 (0%)]\tLoss: 15442.966797\n",
            "\n",
            "22 180430.9853515625\n",
            "\n",
            "Train Epoch: 23 [0/450 (0%)]\tLoss: 12381.553711\n",
            "Train Epoch: 23 [200/450 (43%)]\tLoss: 21149.435547\n",
            "Train Epoch: 23 [400/450 (87%)]\tLoss: 10092.309570\n",
            "\n",
            "23 330156.78466796875\n",
            "\n",
            "Test Epoch: 23 [0/200 (0%)]\tLoss: 8426.594727\n",
            "\n",
            "23 172942.21875\n",
            "\n",
            "Train Epoch: 24 [0/450 (0%)]\tLoss: 27462.851562\n",
            "Train Epoch: 24 [200/450 (43%)]\tLoss: 7741.798828\n",
            "Train Epoch: 24 [400/450 (87%)]\tLoss: 11266.187500\n",
            "\n",
            "24 342354.2724609375\n",
            "\n",
            "Test Epoch: 24 [0/200 (0%)]\tLoss: 22065.531250\n",
            "\n",
            "24 186383.6806640625\n",
            "\n",
            "Train Epoch: 25 [0/450 (0%)]\tLoss: 14357.324219\n",
            "Train Epoch: 25 [200/450 (43%)]\tLoss: 13136.247070\n",
            "Train Epoch: 25 [400/450 (87%)]\tLoss: 19007.488281\n",
            "\n",
            "25 326291.91064453125\n",
            "\n",
            "Test Epoch: 25 [0/200 (0%)]\tLoss: 15332.041016\n",
            "\n",
            "25 183059.3935546875\n",
            "\n",
            "Train Epoch: 26 [0/450 (0%)]\tLoss: 11096.220703\n",
            "Train Epoch: 26 [200/450 (43%)]\tLoss: 13720.933594\n",
            "Train Epoch: 26 [400/450 (87%)]\tLoss: 11180.093750\n",
            "\n",
            "26 314205.01123046875\n",
            "\n",
            "Test Epoch: 26 [0/200 (0%)]\tLoss: 16315.781250\n",
            "\n",
            "26 198647.9150390625\n",
            "\n",
            "Train Epoch: 27 [0/450 (0%)]\tLoss: 17425.542969\n",
            "Train Epoch: 27 [200/450 (43%)]\tLoss: 18203.732422\n",
            "Train Epoch: 27 [400/450 (87%)]\tLoss: 12382.646484\n",
            "\n",
            "27 316247.916015625\n",
            "\n",
            "Test Epoch: 27 [0/200 (0%)]\tLoss: 32780.429688\n",
            "\n",
            "27 203263.587890625\n",
            "\n",
            "Train Epoch: 28 [0/450 (0%)]\tLoss: 19348.886719\n",
            "Train Epoch: 28 [200/450 (43%)]\tLoss: 12301.702148\n",
            "Train Epoch: 28 [400/450 (87%)]\tLoss: 16127.993164\n",
            "\n",
            "28 303476.49658203125\n",
            "\n",
            "Test Epoch: 28 [0/200 (0%)]\tLoss: 21291.566406\n",
            "\n",
            "28 162949.291015625\n",
            "\n",
            "Train Epoch: 29 [0/450 (0%)]\tLoss: 13733.709961\n",
            "Train Epoch: 29 [200/450 (43%)]\tLoss: 12048.874023\n",
            "Train Epoch: 29 [400/450 (87%)]\tLoss: 19101.832031\n",
            "\n",
            "29 273588.7653808594\n",
            "\n",
            "Test Epoch: 29 [0/200 (0%)]\tLoss: 14670.943359\n",
            "\n",
            "29 182832.203125\n",
            "\n",
            "Train Epoch: 30 [0/450 (0%)]\tLoss: 11735.052734\n",
            "Train Epoch: 30 [200/450 (43%)]\tLoss: 12699.117188\n",
            "Train Epoch: 30 [400/450 (87%)]\tLoss: 7360.529785\n",
            "\n",
            "30 274389.31591796875\n",
            "\n",
            "Test Epoch: 30 [0/200 (0%)]\tLoss: 26571.402344\n",
            "\n",
            "30 184796.244140625\n",
            "\n",
            "Train Epoch: 31 [0/450 (0%)]\tLoss: 10966.925781\n",
            "Train Epoch: 31 [200/450 (43%)]\tLoss: 12293.564453\n",
            "Train Epoch: 31 [400/450 (87%)]\tLoss: 12026.005859\n",
            "\n",
            "31 279473.1494140625\n",
            "\n",
            "Test Epoch: 31 [0/200 (0%)]\tLoss: 17680.226562\n",
            "\n",
            "31 160426.7333984375\n",
            "\n",
            "Train Epoch: 32 [0/450 (0%)]\tLoss: 16557.324219\n",
            "Train Epoch: 32 [200/450 (43%)]\tLoss: 15785.401367\n",
            "Train Epoch: 32 [400/450 (87%)]\tLoss: 13483.452148\n",
            "\n",
            "32 252719.26196289062\n",
            "\n",
            "Test Epoch: 32 [0/200 (0%)]\tLoss: 43727.292969\n",
            "\n",
            "32 157603.646484375\n",
            "\n",
            "Train Epoch: 33 [0/450 (0%)]\tLoss: 11148.646484\n",
            "Train Epoch: 33 [200/450 (43%)]\tLoss: 9617.948242\n",
            "Train Epoch: 33 [400/450 (87%)]\tLoss: 10329.380859\n",
            "\n",
            "33 251099.931640625\n",
            "\n",
            "Test Epoch: 33 [0/200 (0%)]\tLoss: 14850.768555\n"
          ],
          "name": "stdout"
        },
        {
          "output_type": "stream",
          "text": [
            "\n",
            "33 171799.865234375\n",
            "\n",
            "Train Epoch: 34 [0/450 (0%)]\tLoss: 9168.285156\n",
            "Train Epoch: 34 [200/450 (43%)]\tLoss: 12777.067383\n",
            "Train Epoch: 34 [400/450 (87%)]\tLoss: 11566.517578\n",
            "\n",
            "34 255356.72119140625\n",
            "\n",
            "Test Epoch: 34 [0/200 (0%)]\tLoss: 17047.964844\n",
            "\n",
            "34 176860.87109375\n",
            "\n",
            "Train Epoch: 35 [0/450 (0%)]\tLoss: 8297.445312\n",
            "Train Epoch: 35 [200/450 (43%)]\tLoss: 8582.642578\n",
            "Train Epoch: 35 [400/450 (87%)]\tLoss: 12811.152344\n",
            "\n",
            "35 264212.7529296875\n",
            "\n",
            "Test Epoch: 35 [0/200 (0%)]\tLoss: 29344.167969\n",
            "\n",
            "35 173507.2861328125\n",
            "\n",
            "Train Epoch: 36 [0/450 (0%)]\tLoss: 5860.757812\n",
            "Train Epoch: 36 [200/450 (43%)]\tLoss: 11766.102539\n",
            "Train Epoch: 36 [400/450 (87%)]\tLoss: 13055.001953\n",
            "\n",
            "36 253205.6396484375\n",
            "\n",
            "Test Epoch: 36 [0/200 (0%)]\tLoss: 35316.218750\n",
            "\n",
            "36 158580.61328125\n",
            "\n",
            "Train Epoch: 37 [0/450 (0%)]\tLoss: 9179.353516\n",
            "Train Epoch: 37 [200/450 (43%)]\tLoss: 14152.362305\n",
            "Train Epoch: 37 [400/450 (87%)]\tLoss: 12049.681641\n",
            "\n",
            "37 225723.94677734375\n",
            "\n",
            "Test Epoch: 37 [0/200 (0%)]\tLoss: 9802.380859\n",
            "\n",
            "37 154625.826171875\n",
            "\n",
            "Train Epoch: 38 [0/450 (0%)]\tLoss: 7239.765625\n",
            "Train Epoch: 38 [200/450 (43%)]\tLoss: 6224.852051\n",
            "Train Epoch: 38 [400/450 (87%)]\tLoss: 8928.313477\n",
            "\n",
            "38 221533.39599609375\n",
            "\n",
            "Test Epoch: 38 [0/200 (0%)]\tLoss: 28026.167969\n",
            "\n",
            "38 152969.4814453125\n",
            "\n",
            "Train Epoch: 39 [0/450 (0%)]\tLoss: 5275.653809\n",
            "Train Epoch: 39 [200/450 (43%)]\tLoss: 14013.970703\n",
            "Train Epoch: 39 [400/450 (87%)]\tLoss: 8639.410156\n",
            "\n",
            "39 209739.087890625\n",
            "\n",
            "Test Epoch: 39 [0/200 (0%)]\tLoss: 18543.964844\n",
            "\n",
            "39 163937.767578125\n",
            "\n",
            "Train Epoch: 40 [0/450 (0%)]\tLoss: 10606.696289\n",
            "Train Epoch: 40 [200/450 (43%)]\tLoss: 9714.365234\n",
            "Train Epoch: 40 [400/450 (87%)]\tLoss: 9081.338867\n",
            "\n",
            "40 222015.85278320312\n",
            "\n",
            "Test Epoch: 40 [0/200 (0%)]\tLoss: 18544.343750\n",
            "\n",
            "40 192572.587890625\n",
            "\n",
            "Train Epoch: 41 [0/450 (0%)]\tLoss: 12861.744141\n",
            "Train Epoch: 41 [200/450 (43%)]\tLoss: 7152.512695\n",
            "Train Epoch: 41 [400/450 (87%)]\tLoss: 8289.686523\n",
            "\n",
            "41 225713.46948242188\n",
            "\n",
            "Test Epoch: 41 [0/200 (0%)]\tLoss: 10129.605469\n",
            "\n",
            "41 167632.716796875\n",
            "\n",
            "Train Epoch: 42 [0/450 (0%)]\tLoss: 7008.363770\n",
            "Train Epoch: 42 [200/450 (43%)]\tLoss: 9467.087891\n",
            "Train Epoch: 42 [400/450 (87%)]\tLoss: 4600.609375\n",
            "\n",
            "42 211809.45947265625\n",
            "\n",
            "Test Epoch: 42 [0/200 (0%)]\tLoss: 12233.798828\n",
            "\n",
            "42 153037.896484375\n",
            "\n",
            "Train Epoch: 43 [0/450 (0%)]\tLoss: 6600.865723\n",
            "Train Epoch: 43 [200/450 (43%)]\tLoss: 15254.789062\n",
            "Train Epoch: 43 [400/450 (87%)]\tLoss: 8261.287109\n",
            "\n",
            "43 184890.5185546875\n",
            "\n",
            "Test Epoch: 43 [0/200 (0%)]\tLoss: 19414.361328\n",
            "\n",
            "43 156057.61474609375\n",
            "\n",
            "Train Epoch: 44 [0/450 (0%)]\tLoss: 4926.700195\n",
            "Train Epoch: 44 [200/450 (43%)]\tLoss: 3918.762695\n",
            "Train Epoch: 44 [400/450 (87%)]\tLoss: 11451.837891\n",
            "\n",
            "44 176612.95947265625\n",
            "\n",
            "Test Epoch: 44 [0/200 (0%)]\tLoss: 13894.666016\n",
            "\n",
            "44 162269.109375\n",
            "\n",
            "Train Epoch: 45 [0/450 (0%)]\tLoss: 8692.018555\n",
            "Train Epoch: 45 [200/450 (43%)]\tLoss: 13160.739258\n",
            "Train Epoch: 45 [400/450 (87%)]\tLoss: 5909.541992\n",
            "\n",
            "45 175687.40625\n",
            "\n",
            "Test Epoch: 45 [0/200 (0%)]\tLoss: 11825.271484\n",
            "\n",
            "45 185049.7666015625\n",
            "\n",
            "Train Epoch: 46 [0/450 (0%)]\tLoss: 5520.673828\n",
            "Train Epoch: 46 [200/450 (43%)]\tLoss: 6039.864746\n",
            "Train Epoch: 46 [400/450 (87%)]\tLoss: 5237.361328\n",
            "\n",
            "46 182532.19018554688\n",
            "\n",
            "Test Epoch: 46 [0/200 (0%)]\tLoss: 8873.574219\n",
            "\n",
            "46 169459.0673828125\n",
            "\n",
            "Train Epoch: 47 [0/450 (0%)]\tLoss: 14244.404297\n",
            "Train Epoch: 47 [200/450 (43%)]\tLoss: 9246.532227\n",
            "Train Epoch: 47 [400/450 (87%)]\tLoss: 5213.187988\n",
            "\n",
            "47 172318.34716796875\n",
            "\n",
            "Test Epoch: 47 [0/200 (0%)]\tLoss: 14756.467773\n",
            "\n",
            "47 171493.17578125\n",
            "\n",
            "Train Epoch: 48 [0/450 (0%)]\tLoss: 3357.000977\n",
            "Train Epoch: 48 [200/450 (43%)]\tLoss: 5666.861816\n",
            "Train Epoch: 48 [400/450 (87%)]\tLoss: 12611.396484\n",
            "\n",
            "48 163756.1689453125\n",
            "\n",
            "Test Epoch: 48 [0/200 (0%)]\tLoss: 13690.165039\n",
            "\n",
            "48 167873.5693359375\n",
            "\n",
            "Train Epoch: 49 [0/450 (0%)]\tLoss: 5057.849609\n",
            "Train Epoch: 49 [200/450 (43%)]\tLoss: 6853.071777\n",
            "Train Epoch: 49 [400/450 (87%)]\tLoss: 7426.096191\n",
            "\n",
            "49 173956.96435546875\n",
            "\n",
            "Test Epoch: 49 [0/200 (0%)]\tLoss: 21381.966797\n",
            "\n",
            "49 198240.2578125\n",
            "\n",
            "Train Epoch: 50 [0/450 (0%)]\tLoss: 12503.789062\n"
          ],
          "name": "stdout"
        },
        {
          "output_type": "stream",
          "text": [
            "Train Epoch: 50 [200/450 (43%)]\tLoss: 7814.578125\n",
            "Train Epoch: 50 [400/450 (87%)]\tLoss: 12399.402344\n",
            "\n",
            "50 192077.6884765625\n",
            "\n",
            "Test Epoch: 50 [0/200 (0%)]\tLoss: 27745.382812\n",
            "\n",
            "50 203142.7412109375\n",
            "\n",
            "Train Epoch: 51 [0/450 (0%)]\tLoss: 11319.281250\n",
            "Train Epoch: 51 [200/450 (43%)]\tLoss: 5602.177246\n",
            "Train Epoch: 51 [400/450 (87%)]\tLoss: 5143.494141\n",
            "\n",
            "51 171723.7392578125\n",
            "\n",
            "Test Epoch: 51 [0/200 (0%)]\tLoss: 17182.906250\n",
            "\n",
            "51 179327.9013671875\n",
            "\n",
            "Train Epoch: 52 [0/450 (0%)]\tLoss: 4386.115234\n",
            "Train Epoch: 52 [200/450 (43%)]\tLoss: 8864.501953\n",
            "Train Epoch: 52 [400/450 (87%)]\tLoss: 8990.304688\n",
            "\n",
            "52 149706.20361328125\n",
            "\n",
            "Test Epoch: 52 [0/200 (0%)]\tLoss: 24594.886719\n",
            "\n",
            "52 172412.8134765625\n",
            "\n",
            "Train Epoch: 53 [0/450 (0%)]\tLoss: 6169.636719\n",
            "Train Epoch: 53 [200/450 (43%)]\tLoss: 7563.662109\n",
            "Train Epoch: 53 [400/450 (87%)]\tLoss: 5761.446289\n",
            "\n",
            "53 134323.30395507812\n",
            "\n",
            "Test Epoch: 53 [0/200 (0%)]\tLoss: 9542.538086\n",
            "\n",
            "53 173520.1552734375\n",
            "\n",
            "Train Epoch: 54 [0/450 (0%)]\tLoss: 3259.998535\n",
            "Train Epoch: 54 [200/450 (43%)]\tLoss: 3859.573486\n",
            "Train Epoch: 54 [400/450 (87%)]\tLoss: 4081.517334\n",
            "\n",
            "54 127850.45703125\n",
            "\n",
            "Test Epoch: 54 [0/200 (0%)]\tLoss: 12367.098633\n",
            "\n",
            "54 176778.4560546875\n",
            "\n",
            "Train Epoch: 55 [0/450 (0%)]\tLoss: 4255.437500\n",
            "Train Epoch: 55 [200/450 (43%)]\tLoss: 3991.530762\n",
            "Train Epoch: 55 [400/450 (87%)]\tLoss: 6609.677734\n",
            "\n",
            "55 117801.4052734375\n",
            "\n",
            "Test Epoch: 55 [0/200 (0%)]\tLoss: 10084.336914\n",
            "\n",
            "55 173951.76171875\n",
            "\n",
            "Train Epoch: 56 [0/450 (0%)]\tLoss: 4599.719238\n",
            "Train Epoch: 56 [200/450 (43%)]\tLoss: 5351.423828\n",
            "Train Epoch: 56 [400/450 (87%)]\tLoss: 4652.275391\n",
            "\n",
            "56 110543.189453125\n",
            "\n",
            "Test Epoch: 56 [0/200 (0%)]\tLoss: 17803.804688\n",
            "\n",
            "56 179690.3056640625\n",
            "\n",
            "Train Epoch: 57 [0/450 (0%)]\tLoss: 4065.894531\n",
            "Train Epoch: 57 [200/450 (43%)]\tLoss: 3788.321289\n",
            "Train Epoch: 57 [400/450 (87%)]\tLoss: 4497.929688\n",
            "\n",
            "57 100213.91479492188\n",
            "\n",
            "Test Epoch: 57 [0/200 (0%)]\tLoss: 28156.023438\n",
            "\n",
            "57 189540.724609375\n",
            "\n",
            "Train Epoch: 58 [0/450 (0%)]\tLoss: 3987.033203\n",
            "Train Epoch: 58 [200/450 (43%)]\tLoss: 5602.517578\n",
            "Train Epoch: 58 [400/450 (87%)]\tLoss: 4069.429199\n",
            "\n",
            "58 100827.07641601562\n",
            "\n",
            "Test Epoch: 58 [0/200 (0%)]\tLoss: 14434.188477\n",
            "\n",
            "58 196826.2041015625\n",
            "\n",
            "Train Epoch: 59 [0/450 (0%)]\tLoss: 6963.681641\n",
            "Train Epoch: 59 [200/450 (43%)]\tLoss: 5076.610352\n",
            "Train Epoch: 59 [400/450 (87%)]\tLoss: 3885.285156\n",
            "\n",
            "59 101266.23828125\n",
            "\n",
            "Test Epoch: 59 [0/200 (0%)]\tLoss: 22325.378906\n",
            "\n",
            "59 191040.8017578125\n",
            "\n",
            "Train Epoch: 60 [0/450 (0%)]\tLoss: 4712.668457\n",
            "Train Epoch: 60 [200/450 (43%)]\tLoss: 3560.192871\n",
            "Train Epoch: 60 [400/450 (87%)]\tLoss: 4003.455566\n",
            "\n",
            "60 100121.0302734375\n",
            "\n",
            "Test Epoch: 60 [0/200 (0%)]\tLoss: 9478.621094\n",
            "\n",
            "60 204336.5068359375\n",
            "\n",
            "Train Epoch: 61 [0/450 (0%)]\tLoss: 3358.159180\n",
            "Train Epoch: 61 [200/450 (43%)]\tLoss: 3262.274902\n",
            "Train Epoch: 61 [400/450 (87%)]\tLoss: 6124.376953\n",
            "\n",
            "61 95991.09387207031\n",
            "\n",
            "Test Epoch: 61 [0/200 (0%)]\tLoss: 14456.791016\n",
            "\n",
            "61 205094.46875\n",
            "\n",
            "Train Epoch: 62 [0/450 (0%)]\tLoss: 3824.358887\n",
            "Train Epoch: 62 [200/450 (43%)]\tLoss: 5313.932617\n",
            "Train Epoch: 62 [400/450 (87%)]\tLoss: 2585.924805\n",
            "\n",
            "62 87281.41162109375\n",
            "\n",
            "Test Epoch: 62 [0/200 (0%)]\tLoss: 26956.367188\n",
            "\n",
            "62 211458.263671875\n",
            "\n",
            "Train Epoch: 63 [0/450 (0%)]\tLoss: 3328.538574\n",
            "Train Epoch: 63 [200/450 (43%)]\tLoss: 2075.617188\n",
            "Train Epoch: 63 [400/450 (87%)]\tLoss: 5159.804688\n",
            "\n",
            "63 76850.19714355469\n",
            "\n",
            "Test Epoch: 63 [0/200 (0%)]\tLoss: 13570.895508\n",
            "\n",
            "63 220718.8310546875\n",
            "\n",
            "Train Epoch: 64 [0/450 (0%)]\tLoss: 2873.924561\n",
            "Train Epoch: 64 [200/450 (43%)]\tLoss: 1843.504883\n",
            "Train Epoch: 64 [400/450 (87%)]\tLoss: 2676.777832\n",
            "\n",
            "64 77113.54260253906\n",
            "\n",
            "Test Epoch: 64 [0/200 (0%)]\tLoss: 37813.382812\n",
            "\n",
            "64 229479.5517578125\n",
            "\n",
            "Train Epoch: 65 [0/450 (0%)]\tLoss: 3730.083984\n",
            "Train Epoch: 65 [200/450 (43%)]\tLoss: 3952.645508\n",
            "Train Epoch: 65 [400/450 (87%)]\tLoss: 3732.701660\n",
            "\n",
            "65 75799.88134765625\n",
            "\n",
            "Test Epoch: 65 [0/200 (0%)]\tLoss: 28488.058594\n",
            "\n",
            "65 216361.591796875\n",
            "\n",
            "Train Epoch: 66 [0/450 (0%)]\tLoss: 4029.525391\n",
            "Train Epoch: 66 [200/450 (43%)]\tLoss: 4022.637207\n"
          ],
          "name": "stdout"
        },
        {
          "output_type": "stream",
          "text": [
            "Train Epoch: 66 [400/450 (87%)]\tLoss: 2902.905273\n",
            "\n",
            "66 68856.25732421875\n",
            "\n",
            "Test Epoch: 66 [0/200 (0%)]\tLoss: 29320.308594\n",
            "\n",
            "66 230464.2109375\n",
            "\n",
            "Train Epoch: 67 [0/450 (0%)]\tLoss: 2999.439453\n",
            "Train Epoch: 67 [200/450 (43%)]\tLoss: 2475.023193\n",
            "Train Epoch: 67 [400/450 (87%)]\tLoss: 3093.896484\n",
            "\n",
            "67 63006.642333984375\n",
            "\n",
            "Test Epoch: 67 [0/200 (0%)]\tLoss: 17657.800781\n",
            "\n",
            "67 221472.7265625\n",
            "\n",
            "Train Epoch: 68 [0/450 (0%)]\tLoss: 1485.489380\n",
            "Train Epoch: 68 [200/450 (43%)]\tLoss: 2608.856445\n",
            "Train Epoch: 68 [400/450 (87%)]\tLoss: 2976.546143\n",
            "\n",
            "68 65852.00354003906\n",
            "\n",
            "Test Epoch: 68 [0/200 (0%)]\tLoss: 31559.607422\n",
            "\n",
            "68 228279.125\n",
            "\n",
            "Train Epoch: 69 [0/450 (0%)]\tLoss: 1724.690796\n",
            "Train Epoch: 69 [200/450 (43%)]\tLoss: 2655.506836\n",
            "Train Epoch: 69 [400/450 (87%)]\tLoss: 2463.739990\n",
            "\n",
            "69 62439.79443359375\n",
            "\n",
            "Test Epoch: 69 [0/200 (0%)]\tLoss: 26337.292969\n",
            "\n",
            "69 235817.71484375\n",
            "\n",
            "Train Epoch: 70 [0/450 (0%)]\tLoss: 1601.108398\n",
            "Train Epoch: 70 [200/450 (43%)]\tLoss: 1839.048706\n",
            "Train Epoch: 70 [400/450 (87%)]\tLoss: 2696.299561\n",
            "\n",
            "70 60796.98388671875\n",
            "\n",
            "Test Epoch: 70 [0/200 (0%)]\tLoss: 20001.925781\n",
            "\n",
            "70 236455.611328125\n",
            "\n",
            "Train Epoch: 71 [0/450 (0%)]\tLoss: 3480.247070\n",
            "Train Epoch: 71 [200/450 (43%)]\tLoss: 2606.846191\n",
            "Train Epoch: 71 [400/450 (87%)]\tLoss: 4730.358398\n",
            "\n",
            "71 56874.457275390625\n",
            "\n",
            "Test Epoch: 71 [0/200 (0%)]\tLoss: 14461.316406\n",
            "\n",
            "71 234909.515625\n",
            "\n",
            "Train Epoch: 72 [0/450 (0%)]\tLoss: 2140.920654\n",
            "Train Epoch: 72 [200/450 (43%)]\tLoss: 2303.358643\n",
            "Train Epoch: 72 [400/450 (87%)]\tLoss: 3256.785400\n",
            "\n",
            "72 50490.007080078125\n",
            "\n",
            "Test Epoch: 72 [0/200 (0%)]\tLoss: 29780.744141\n",
            "\n",
            "72 245064.7421875\n",
            "\n",
            "Train Epoch: 73 [0/450 (0%)]\tLoss: 1787.210938\n",
            "Train Epoch: 73 [200/450 (43%)]\tLoss: 2436.032227\n",
            "Train Epoch: 73 [400/450 (87%)]\tLoss: 2170.304932\n",
            "\n",
            "73 53450.17321777344\n",
            "\n",
            "Test Epoch: 73 [0/200 (0%)]\tLoss: 38568.496094\n",
            "\n",
            "73 240060.111328125\n",
            "\n",
            "Train Epoch: 74 [0/450 (0%)]\tLoss: 1338.584473\n",
            "Train Epoch: 74 [200/450 (43%)]\tLoss: 2120.804932\n",
            "Train Epoch: 74 [400/450 (87%)]\tLoss: 3463.628418\n",
            "\n",
            "74 47271.53430175781\n",
            "\n",
            "Test Epoch: 74 [0/200 (0%)]\tLoss: 19855.265625\n",
            "\n",
            "74 253068.9228515625\n",
            "\n",
            "Train Epoch: 75 [0/450 (0%)]\tLoss: 1983.083984\n",
            "Train Epoch: 75 [200/450 (43%)]\tLoss: 1990.018433\n",
            "Train Epoch: 75 [400/450 (87%)]\tLoss: 1565.534424\n",
            "\n",
            "75 41486.5380859375\n",
            "\n",
            "Test Epoch: 75 [0/200 (0%)]\tLoss: 35044.687500\n",
            "\n",
            "75 249937.181640625\n",
            "\n",
            "Train Epoch: 76 [0/450 (0%)]\tLoss: 1213.025879\n",
            "Train Epoch: 76 [200/450 (43%)]\tLoss: 1410.625000\n",
            "Train Epoch: 76 [400/450 (87%)]\tLoss: 1749.656494\n",
            "\n",
            "76 37146.41223144531\n",
            "\n",
            "Test Epoch: 76 [0/200 (0%)]\tLoss: 28120.945312\n",
            "\n",
            "76 253961.7490234375\n",
            "\n",
            "Train Epoch: 77 [0/450 (0%)]\tLoss: 2043.660156\n",
            "Train Epoch: 77 [200/450 (43%)]\tLoss: 1481.045044\n",
            "Train Epoch: 77 [400/450 (87%)]\tLoss: 1570.764160\n",
            "\n",
            "77 37446.46173095703\n",
            "\n",
            "Test Epoch: 77 [0/200 (0%)]\tLoss: 25992.261719\n",
            "\n",
            "77 253847.4765625\n",
            "\n",
            "Train Epoch: 78 [0/450 (0%)]\tLoss: 1371.167480\n",
            "Train Epoch: 78 [200/450 (43%)]\tLoss: 2037.260620\n",
            "Train Epoch: 78 [400/450 (87%)]\tLoss: 1829.585693\n",
            "\n",
            "78 38312.53582763672\n",
            "\n",
            "Test Epoch: 78 [0/200 (0%)]\tLoss: 31098.226562\n",
            "\n",
            "78 266581.302734375\n",
            "\n",
            "Train Epoch: 79 [0/450 (0%)]\tLoss: 1234.436523\n",
            "Train Epoch: 79 [200/450 (43%)]\tLoss: 1844.568848\n",
            "Train Epoch: 79 [400/450 (87%)]\tLoss: 2004.745605\n",
            "\n",
            "79 39306.668701171875\n",
            "\n",
            "Test Epoch: 79 [0/200 (0%)]\tLoss: 21333.578125\n",
            "\n",
            "79 254493.142578125\n",
            "\n",
            "Train Epoch: 80 [0/450 (0%)]\tLoss: 1907.617676\n",
            "Train Epoch: 80 [200/450 (43%)]\tLoss: 1809.649292\n",
            "Train Epoch: 80 [400/450 (87%)]\tLoss: 1615.618164\n",
            "\n",
            "80 39511.39074707031\n",
            "\n",
            "Test Epoch: 80 [0/200 (0%)]\tLoss: 17521.070312\n",
            "\n",
            "80 270460.232421875\n",
            "\n",
            "Train Epoch: 81 [0/450 (0%)]\tLoss: 1800.293213\n",
            "Train Epoch: 81 [200/450 (43%)]\tLoss: 1255.320190\n",
            "Train Epoch: 81 [400/450 (87%)]\tLoss: 2186.273926\n",
            "\n",
            "81 35896.949279785156\n",
            "\n",
            "Test Epoch: 81 [0/200 (0%)]\tLoss: 22898.910156\n",
            "\n",
            "81 268328.20703125\n",
            "\n",
            "Train Epoch: 82 [0/450 (0%)]\tLoss: 2187.104004\n",
            "Train Epoch: 82 [200/450 (43%)]\tLoss: 1122.445679\n",
            "Train Epoch: 82 [400/450 (87%)]\tLoss: 1483.855469\n",
            "\n",
            "82 36353.728515625\n",
            "\n",
            "Test Epoch: 82 [0/200 (0%)]\tLoss: 34170.351562\n"
          ],
          "name": "stdout"
        },
        {
          "output_type": "stream",
          "text": [
            "\n",
            "82 258102.61328125\n",
            "\n",
            "Train Epoch: 83 [0/450 (0%)]\tLoss: 1493.237549\n",
            "Train Epoch: 83 [200/450 (43%)]\tLoss: 1542.195679\n",
            "Train Epoch: 83 [400/450 (87%)]\tLoss: 1235.620728\n",
            "\n",
            "83 28761.87420654297\n",
            "\n",
            "Test Epoch: 83 [0/200 (0%)]\tLoss: 24731.460938\n",
            "\n",
            "83 265192.466796875\n",
            "\n",
            "Train Epoch: 84 [0/450 (0%)]\tLoss: 896.750793\n",
            "Train Epoch: 84 [200/450 (43%)]\tLoss: 1847.656738\n",
            "Train Epoch: 84 [400/450 (87%)]\tLoss: 1510.588623\n",
            "\n",
            "84 30128.37713623047\n",
            "\n",
            "Test Epoch: 84 [0/200 (0%)]\tLoss: 24955.380859\n",
            "\n",
            "84 266874.7587890625\n",
            "\n",
            "Train Epoch: 85 [0/450 (0%)]\tLoss: 1298.161865\n",
            "Train Epoch: 85 [200/450 (43%)]\tLoss: 1382.535767\n",
            "Train Epoch: 85 [400/450 (87%)]\tLoss: 1285.223145\n",
            "\n",
            "85 34115.62091064453\n",
            "\n",
            "Test Epoch: 85 [0/200 (0%)]\tLoss: 26583.753906\n",
            "\n",
            "85 272056.13671875\n",
            "\n",
            "Train Epoch: 86 [0/450 (0%)]\tLoss: 1287.348145\n",
            "Train Epoch: 86 [200/450 (43%)]\tLoss: 859.192444\n",
            "Train Epoch: 86 [400/450 (87%)]\tLoss: 1045.263550\n",
            "\n",
            "86 26992.967041015625\n",
            "\n",
            "Test Epoch: 86 [0/200 (0%)]\tLoss: 59208.601562\n",
            "\n",
            "86 273760.384765625\n",
            "\n",
            "Train Epoch: 87 [0/450 (0%)]\tLoss: 779.151978\n",
            "Train Epoch: 87 [200/450 (43%)]\tLoss: 974.371704\n",
            "Train Epoch: 87 [400/450 (87%)]\tLoss: 1066.905151\n",
            "\n",
            "87 22610.301391601562\n",
            "\n",
            "Test Epoch: 87 [0/200 (0%)]\tLoss: 57575.074219\n",
            "\n",
            "87 266916.564453125\n",
            "\n",
            "Train Epoch: 88 [0/450 (0%)]\tLoss: 938.463684\n",
            "Train Epoch: 88 [200/450 (43%)]\tLoss: 1013.247925\n",
            "Train Epoch: 88 [400/450 (87%)]\tLoss: 942.920776\n",
            "\n",
            "88 20558.34619140625\n",
            "\n",
            "Test Epoch: 88 [0/200 (0%)]\tLoss: 50981.683594\n",
            "\n",
            "88 267112.892578125\n",
            "\n",
            "Train Epoch: 89 [0/450 (0%)]\tLoss: 720.996277\n",
            "Train Epoch: 89 [200/450 (43%)]\tLoss: 894.017700\n",
            "Train Epoch: 89 [400/450 (87%)]\tLoss: 1082.303345\n",
            "\n",
            "89 20188.155639648438\n",
            "\n",
            "Test Epoch: 89 [0/200 (0%)]\tLoss: 12714.164062\n",
            "\n",
            "89 273970.228515625\n",
            "\n",
            "Train Epoch: 90 [0/450 (0%)]\tLoss: 847.340759\n",
            "Train Epoch: 90 [200/450 (43%)]\tLoss: 1167.764038\n",
            "Train Epoch: 90 [400/450 (87%)]\tLoss: 991.965698\n",
            "\n",
            "90 20751.855926513672\n",
            "\n",
            "Test Epoch: 90 [0/200 (0%)]\tLoss: 22685.195312\n",
            "\n",
            "90 269763.298828125\n",
            "\n",
            "Train Epoch: 91 [0/450 (0%)]\tLoss: 669.006104\n",
            "Train Epoch: 91 [200/450 (43%)]\tLoss: 892.635803\n",
            "Train Epoch: 91 [400/450 (87%)]\tLoss: 834.778442\n",
            "\n",
            "91 18244.32553100586\n",
            "\n",
            "Test Epoch: 91 [0/200 (0%)]\tLoss: 39710.292969\n",
            "\n",
            "91 268055.044921875\n",
            "\n",
            "Train Epoch: 92 [0/450 (0%)]\tLoss: 547.958008\n",
            "Train Epoch: 92 [200/450 (43%)]\tLoss: 1126.263184\n",
            "Train Epoch: 92 [400/450 (87%)]\tLoss: 535.273315\n",
            "\n",
            "92 18335.117279052734\n",
            "\n",
            "Test Epoch: 92 [0/200 (0%)]\tLoss: 40743.546875\n",
            "\n",
            "92 268239.87109375\n",
            "\n",
            "Train Epoch: 93 [0/450 (0%)]\tLoss: 784.939941\n",
            "Train Epoch: 93 [200/450 (43%)]\tLoss: 734.365967\n",
            "Train Epoch: 93 [400/450 (87%)]\tLoss: 880.271606\n",
            "\n",
            "93 18214.687561035156\n",
            "\n",
            "Test Epoch: 93 [0/200 (0%)]\tLoss: 33034.507812\n",
            "\n",
            "93 280665.70703125\n",
            "\n",
            "Train Epoch: 94 [0/450 (0%)]\tLoss: 759.928955\n",
            "Train Epoch: 94 [200/450 (43%)]\tLoss: 568.873230\n",
            "Train Epoch: 94 [400/450 (87%)]\tLoss: 889.050781\n",
            "\n",
            "94 17107.81381225586\n",
            "\n",
            "Test Epoch: 94 [0/200 (0%)]\tLoss: 30404.941406\n",
            "\n",
            "94 278096.71875\n",
            "\n",
            "Train Epoch: 95 [0/450 (0%)]\tLoss: 634.396851\n",
            "Train Epoch: 95 [200/450 (43%)]\tLoss: 532.006836\n",
            "Train Epoch: 95 [400/450 (87%)]\tLoss: 700.744019\n",
            "\n",
            "95 14036.851531982422\n",
            "\n",
            "Test Epoch: 95 [0/200 (0%)]\tLoss: 16768.238281\n",
            "\n",
            "95 281998.3671875\n",
            "\n",
            "Train Epoch: 96 [0/450 (0%)]\tLoss: 583.987183\n",
            "Train Epoch: 96 [200/450 (43%)]\tLoss: 571.607422\n",
            "Train Epoch: 96 [400/450 (87%)]\tLoss: 662.749817\n",
            "\n",
            "96 16294.072540283203\n",
            "\n",
            "Test Epoch: 96 [0/200 (0%)]\tLoss: 26620.132812\n",
            "\n",
            "96 274735.7265625\n",
            "\n",
            "Train Epoch: 97 [0/450 (0%)]\tLoss: 690.852905\n",
            "Train Epoch: 97 [200/450 (43%)]\tLoss: 794.569092\n",
            "Train Epoch: 97 [400/450 (87%)]\tLoss: 565.467407\n",
            "\n",
            "97 14919.060333251953\n",
            "\n",
            "Test Epoch: 97 [0/200 (0%)]\tLoss: 31265.460938\n",
            "\n",
            "97 282371.482421875\n",
            "\n",
            "Train Epoch: 98 [0/450 (0%)]\tLoss: 689.367432\n",
            "Train Epoch: 98 [200/450 (43%)]\tLoss: 707.159363\n",
            "Train Epoch: 98 [400/450 (87%)]\tLoss: 485.424683\n",
            "\n",
            "98 12626.250274658203\n",
            "\n",
            "Test Epoch: 98 [0/200 (0%)]\tLoss: 27693.566406\n",
            "\n",
            "98 285533.958984375\n",
            "\n",
            "Train Epoch: 99 [0/450 (0%)]\tLoss: 431.828430\n"
          ],
          "name": "stdout"
        },
        {
          "output_type": "stream",
          "text": [
            "Train Epoch: 99 [200/450 (43%)]\tLoss: 448.744141\n",
            "Train Epoch: 99 [400/450 (87%)]\tLoss: 466.503387\n",
            "\n",
            "99 10316.443328857422\n",
            "\n",
            "Test Epoch: 99 [0/200 (0%)]\tLoss: 17203.380859\n",
            "\n",
            "99 287482.435546875\n",
            "\n"
          ],
          "name": "stdout"
        }
      ]
    },
    {
      "metadata": {
        "id": "n8_zpGkSIgQz",
        "colab_type": "text"
      },
      "cell_type": "markdown",
      "source": [
        "## Validation"
      ]
    },
    {
      "metadata": {
        "id": "yDEOM27F8aD7",
        "colab_type": "code",
        "colab": {
          "autoexec": {
            "startup": false,
            "wait_interval": 0
          }
        }
      },
      "cell_type": "code",
      "source": [
        "test_index = 500"
      ],
      "execution_count": 0,
      "outputs": []
    },
    {
      "metadata": {
        "id": "YUWCsmFyIibr",
        "colab_type": "code",
        "colab": {
          "autoexec": {
            "startup": false,
            "wait_interval": 0
          },
          "base_uri": "https://localhost:8080/",
          "height": 172
        },
        "outputId": "e5cfd14a-efcd-41ae-d7d1-34a7f6a797c3",
        "executionInfo": {
          "status": "error",
          "timestamp": 1531792018320,
          "user_tz": -540,
          "elapsed": 865,
          "user": {
            "displayName": "김민욱",
            "photoUrl": "https://lh3.googleusercontent.com/a/default-user=s128",
            "userId": "108006258518439830382"
          }
        }
      },
      "cell_type": "code",
      "source": [
        "image = default_loader(data_root+data['filename'][test_index])"
      ],
      "execution_count": 33,
      "outputs": [
        {
          "output_type": "error",
          "ename": "NameError",
          "evalue": "ignored",
          "traceback": [
            "\u001b[0;31m---------------------------------------------------------------------------\u001b[0m",
            "\u001b[0;31mNameError\u001b[0m                                 Traceback (most recent call last)",
            "\u001b[0;32m<ipython-input-33-0f55522b100b>\u001b[0m in \u001b[0;36m<module>\u001b[0;34m()\u001b[0m\n\u001b[0;32m----> 1\u001b[0;31m \u001b[0mimage\u001b[0m \u001b[0;34m=\u001b[0m \u001b[0mdefault_loader\u001b[0m\u001b[0;34m(\u001b[0m\u001b[0mdata_root\u001b[0m\u001b[0;34m+\u001b[0m\u001b[0mdata\u001b[0m\u001b[0;34m[\u001b[0m\u001b[0;34m'filename'\u001b[0m\u001b[0;34m]\u001b[0m\u001b[0;34m[\u001b[0m\u001b[0mtest_index\u001b[0m\u001b[0;34m]\u001b[0m\u001b[0;34m)\u001b[0m\u001b[0;34m\u001b[0m\u001b[0m\n\u001b[0m",
            "\u001b[0;31mNameError\u001b[0m: name 'data' is not defined"
          ]
        }
      ]
    },
    {
      "metadata": {
        "id": "DZp1mkcaIj8D",
        "colab_type": "code",
        "colab": {
          "autoexec": {
            "startup": false,
            "wait_interval": 0
          },
          "base_uri": "https://localhost:8080/",
          "height": 134
        },
        "outputId": "28fcfafd-0d0b-40e8-f183-fd6c44c3417a",
        "executionInfo": {
          "status": "ok",
          "timestamp": 1531212112769,
          "user_tz": -540,
          "elapsed": 765,
          "user": {
            "displayName": "김민욱",
            "photoUrl": "https://lh3.googleusercontent.com/a/default-user=s128",
            "userId": "108006258518439830382"
          }
        }
      },
      "cell_type": "code",
      "source": [
        "image"
      ],
      "execution_count": 0,
      "outputs": [
        {
          "output_type": "execute_result",
          "data": {
            "image/png": "[encoded data removed]",
            "text/plain": [
              "<PIL.Image.Image image mode=RGB size=208x117 at 0x7F33616BB588>"
            ]
          },
          "metadata": {
            "tags": []
          },
          "execution_count": 76
        }
      ]
    },
    {
      "metadata": {
        "id": "SnQQg-hJIlNj",
        "colab_type": "code",
        "colab": {
          "autoexec": {
            "startup": false,
            "wait_interval": 0
          }
        }
      },
      "cell_type": "code",
      "source": [
        "image_tensor = to_tensor(image)"
      ],
      "execution_count": 0,
      "outputs": []
    },
    {
      "metadata": {
        "id": "MEhMH5K9InQr",
        "colab_type": "code",
        "colab": {
          "autoexec": {
            "startup": false,
            "wait_interval": 0
          }
        }
      },
      "cell_type": "code",
      "source": [
        "image_tensors = image_tensor.unsqueeze(0).to(device)"
      ],
      "execution_count": 0,
      "outputs": []
    },
    {
      "metadata": {
        "id": "JXupPdLdIpEj",
        "colab_type": "code",
        "colab": {
          "autoexec": {
            "startup": false,
            "wait_interval": 0
          }
        }
      },
      "cell_type": "code",
      "source": [
        "from PIL import ImageDraw"
      ],
      "execution_count": 0,
      "outputs": []
    },
    {
      "metadata": {
        "id": "vmzThdEDIqfT",
        "colab_type": "code",
        "colab": {
          "autoexec": {
            "startup": false,
            "wait_interval": 0
          }
        }
      },
      "cell_type": "code",
      "source": [
        "draw_line = ImageDraw.Draw(image)"
      ],
      "execution_count": 0,
      "outputs": []
    },
    {
      "metadata": {
        "id": "6uskoUiMIr1L",
        "colab_type": "code",
        "colab": {
          "autoexec": {
            "startup": false,
            "wait_interval": 0
          }
        }
      },
      "cell_type": "code",
      "source": [
        "ANS_LT = [data['LTx'][test_index]*resize_ratio, data['LTy'][test_index]*resize_ratio]\n",
        "ANS_RT = [data['RTx'][test_index]*resize_ratio, data['RTy'][test_index]*resize_ratio]\n",
        "ANS_RB = [data['RBx'][test_index]*resize_ratio, data['RBy'][test_index]*resize_ratio]\n",
        "ANS_LB = [data['LBx'][test_index]*resize_ratio, data['LBy'][test_index]*resize_ratio]"
      ],
      "execution_count": 0,
      "outputs": []
    },
    {
      "metadata": {
        "id": "97kcdcu3JVsC",
        "colab_type": "code",
        "colab": {
          "autoexec": {
            "startup": false,
            "wait_interval": 0
          },
          "base_uri": "https://localhost:8080/",
          "height": 35
        },
        "outputId": "31488f53-04a2-4c12-cac6-8c84f2b7f941",
        "executionInfo": {
          "status": "ok",
          "timestamp": 1531212117448,
          "user_tz": -540,
          "elapsed": 720,
          "user": {
            "displayName": "김민욱",
            "photoUrl": "https://lh3.googleusercontent.com/a/default-user=s128",
            "userId": "108006258518439830382"
          }
        }
      },
      "cell_type": "code",
      "source": [
        "print(ANS_LT, ANS_RT, ANS_RB, ANS_LB)"
      ],
      "execution_count": 0,
      "outputs": [
        {
          "output_type": "stream",
          "text": [
            "[38.900000000000006, 18.05] [169.10000000000002, 17.1] [204.20000000000002, 93.05000000000001] [9.0, 94.7]\n"
          ],
          "name": "stdout"
        }
      ]
    },
    {
      "metadata": {
        "id": "7tZYw3F_I6jb",
        "colab_type": "code",
        "colab": {
          "autoexec": {
            "startup": false,
            "wait_interval": 0
          }
        }
      },
      "cell_type": "code",
      "source": [
        "draw_line.point(ANS_LT, fill=\"Red\" )\n",
        "draw_line.point(ANS_RT, fill=\"Red\" )\n",
        "draw_line.point(ANS_RB, fill=\"Red\" )\n",
        "draw_line.point(ANS_LB, fill=\"Red\" )"
      ],
      "execution_count": 0,
      "outputs": []
    },
    {
      "metadata": {
        "id": "VoIKRJCyI7_a",
        "colab_type": "code",
        "colab": {
          "autoexec": {
            "startup": false,
            "wait_interval": 0
          },
          "base_uri": "https://localhost:8080/",
          "height": 134
        },
        "outputId": "bf3598fc-1c77-4a02-9fc1-9ba2c1e3f7b8",
        "executionInfo": {
          "status": "ok",
          "timestamp": 1531212119158,
          "user_tz": -540,
          "elapsed": 899,
          "user": {
            "displayName": "김민욱",
            "photoUrl": "https://lh3.googleusercontent.com/a/default-user=s128",
            "userId": "108006258518439830382"
          }
        }
      },
      "cell_type": "code",
      "source": [
        "image"
      ],
      "execution_count": 0,
      "outputs": [
        {
          "output_type": "execute_result",
          "data": {
            "image/png": "[encoded data removed]",
            "text/plain": [
              "<PIL.Image.Image image mode=RGB size=208x117 at 0x7F33616BB588>"
            ]
          },
          "metadata": {
            "tags": []
          },
          "execution_count": 84
        }
      ]
    },
    {
      "metadata": {
        "id": "7QvDljv3I9Ez",
        "colab_type": "code",
        "colab": {
          "autoexec": {
            "startup": false,
            "wait_interval": 0
          }
        }
      },
      "cell_type": "code",
      "source": [
        "# do forward\n",
        "result = model(image_tensors)"
      ],
      "execution_count": 0,
      "outputs": []
    },
    {
      "metadata": {
        "id": "Jf2k2AHnJY7L",
        "colab_type": "code",
        "colab": {
          "autoexec": {
            "startup": false,
            "wait_interval": 0
          }
        }
      },
      "cell_type": "code",
      "source": [
        "result = result.reshape(8)"
      ],
      "execution_count": 0,
      "outputs": []
    },
    {
      "metadata": {
        "id": "UpBGzzzGJcE7",
        "colab_type": "code",
        "colab": {
          "autoexec": {
            "startup": false,
            "wait_interval": 0
          }
        }
      },
      "cell_type": "code",
      "source": [
        "PRE_LT = [result[0].item(), result[1].item()]\n",
        "PRE_RT = [result[2].item(), result[3].item()]\n",
        "PRE_RB = [result[4].item(), result[5].item()]\n",
        "PRE_LB = [result[6].item(), result[7].item()]"
      ],
      "execution_count": 0,
      "outputs": []
    },
    {
      "metadata": {
        "id": "3z-16UqYJdbC",
        "colab_type": "code",
        "colab": {
          "autoexec": {
            "startup": false,
            "wait_interval": 0
          },
          "base_uri": "https://localhost:8080/",
          "height": 35
        },
        "outputId": "ed85c4d5-f8f2-4603-bc37-3cfacebd7382",
        "executionInfo": {
          "status": "ok",
          "timestamp": 1531212122236,
          "user_tz": -540,
          "elapsed": 711,
          "user": {
            "displayName": "김민욱",
            "photoUrl": "https://lh3.googleusercontent.com/a/default-user=s128",
            "userId": "108006258518439830382"
          }
        }
      },
      "cell_type": "code",
      "source": [
        "print(PRE_LT, PRE_RT, PRE_RB, PRE_LB)"
      ],
      "execution_count": 0,
      "outputs": [
        {
          "output_type": "stream",
          "text": [
            "[38.780616760253906, 18.108171463012695] [169.02627563476562, 17.134565353393555] [204.00282287597656, 92.91919708251953] [8.994504928588867, 94.64319610595703]\n"
          ],
          "name": "stdout"
        }
      ]
    },
    {
      "metadata": {
        "id": "zBrs4YAoJepi",
        "colab_type": "code",
        "colab": {
          "autoexec": {
            "startup": false,
            "wait_interval": 0
          }
        }
      },
      "cell_type": "code",
      "source": [
        "draw_line.point(PRE_LT, fill=\"Yellow\" )\n",
        "draw_line.point(PRE_RT, fill=\"Yellow\" )\n",
        "draw_line.point(PRE_RB, fill=\"Yellow\" )\n",
        "draw_line.point(PRE_LB, fill=\"Yellow\" )"
      ],
      "execution_count": 0,
      "outputs": []
    },
    {
      "metadata": {
        "id": "bBsZDZXHJgd6",
        "colab_type": "code",
        "colab": {
          "autoexec": {
            "startup": false,
            "wait_interval": 0
          },
          "base_uri": "https://localhost:8080/",
          "height": 134
        },
        "outputId": "563dc46f-61cc-49d7-81e6-7b84253897d4",
        "executionInfo": {
          "status": "ok",
          "timestamp": 1531212123773,
          "user_tz": -540,
          "elapsed": 734,
          "user": {
            "displayName": "김민욱",
            "photoUrl": "https://lh3.googleusercontent.com/a/default-user=s128",
            "userId": "108006258518439830382"
          }
        }
      },
      "cell_type": "code",
      "source": [
        "image"
      ],
      "execution_count": 0,
      "outputs": [
        {
          "output_type": "execute_result",
          "data": {
            "image/png": "[encoded data removed]",
            "text/plain": [
              "<PIL.Image.Image image mode=RGB size=208x117 at 0x7F33616BB588>"
            ]
          },
          "metadata": {
            "tags": []
          },
          "execution_count": 90
        }
      ]
    },
    {
      "metadata": {
        "id": "CJC4tjOVJmFq",
        "colab_type": "text"
      },
      "cell_type": "markdown",
      "source": [
        "## Other Image"
      ]
    },
    {
      "metadata": {
        "id": "i7ikT0tWJhny",
        "colab_type": "code",
        "colab": {
          "autoexec": {
            "startup": false,
            "wait_interval": 0
          }
        }
      },
      "cell_type": "code",
      "source": [
        "# image = default_loader(data_root+\"07_RandomShoot/20150429_161538.jpg\")\n",
        "image = default_loader(data_root+\"07_RandomShoot/20150429_161434.jpg\")"
      ],
      "execution_count": 0,
      "outputs": []
    },
    {
      "metadata": {
        "id": "eV3RfvSuJ4SL",
        "colab_type": "code",
        "colab": {
          "autoexec": {
            "startup": false,
            "wait_interval": 0
          },
          "base_uri": "https://localhost:8080/",
          "height": 134
        },
        "outputId": "e7719490-d890-40fd-a4cf-e9c43d1fef41",
        "executionInfo": {
          "status": "ok",
          "timestamp": 1531212168868,
          "user_tz": -540,
          "elapsed": 749,
          "user": {
            "displayName": "김민욱",
            "photoUrl": "https://lh3.googleusercontent.com/a/default-user=s128",
            "userId": "108006258518439830382"
          }
        }
      },
      "cell_type": "code",
      "source": [
        "image"
      ],
      "execution_count": 0,
      "outputs": [
        {
          "output_type": "execute_result",
          "data": {
            "image/png": "[encoded data removed]",
            "text/plain": [
              "<PIL.Image.Image image mode=RGB size=208x117 at 0x7F3361C96CC0>"
            ]
          },
          "metadata": {
            "tags": []
          },
          "execution_count": 107
        }
      ]
    },
    {
      "metadata": {
        "id": "c5b6RQBAJ7tT",
        "colab_type": "code",
        "colab": {
          "autoexec": {
            "startup": false,
            "wait_interval": 0
          }
        }
      },
      "cell_type": "code",
      "source": [
        "draw_line = ImageDraw.Draw(image)"
      ],
      "execution_count": 0,
      "outputs": []
    },
    {
      "metadata": {
        "id": "Qv9jIFMYKA7b",
        "colab_type": "code",
        "colab": {
          "autoexec": {
            "startup": false,
            "wait_interval": 0
          }
        }
      },
      "cell_type": "code",
      "source": [
        "# data_root+\"07_RandomShoot/20150429_161434.jpg\"\n",
        "Answer = [754,\t456, 3135,\t413,\t3458,\t1846,\t474,\t1913]\n",
        "\n",
        "# data_root+\"07_RandomShoot/20150429_161538.jpg\n",
        "# Answer = [934,\t598,\t3026,\t569,\t3273,\t1609,\t721,\t1656]\n",
        "\n",
        "\n",
        "ANS_LT = [ Answer[0]*resize_ratio, Answer[1]*resize_ratio ]\n",
        "ANS_RT = [ Answer[2]*resize_ratio, Answer[3]*resize_ratio ]\n",
        "ANS_RB = [ Answer[4]*resize_ratio, Answer[5]*resize_ratio ]\n",
        "ANS_LB = [ Answer[6]*resize_ratio, Answer[7]*resize_ratio ]"
      ],
      "execution_count": 0,
      "outputs": []
    },
    {
      "metadata": {
        "id": "tvUDoBELK4br",
        "colab_type": "code",
        "colab": {
          "autoexec": {
            "startup": false,
            "wait_interval": 0
          },
          "base_uri": "https://localhost:8080/",
          "height": 35
        },
        "outputId": "a520042e-f140-4d26-aca9-2752a1902916",
        "executionInfo": {
          "status": "ok",
          "timestamp": 1531212171312,
          "user_tz": -540,
          "elapsed": 729,
          "user": {
            "displayName": "김민욱",
            "photoUrl": "https://lh3.googleusercontent.com/a/default-user=s128",
            "userId": "108006258518439830382"
          }
        }
      },
      "cell_type": "code",
      "source": [
        "print(ANS_LT, ANS_RT, ANS_RB, ANS_LB)"
      ],
      "execution_count": 0,
      "outputs": [
        {
          "output_type": "stream",
          "text": [
            "[37.7, 22.8] [156.75, 20.650000000000002] [172.9, 92.30000000000001] [23.700000000000003, 95.65]\n"
          ],
          "name": "stdout"
        }
      ]
    },
    {
      "metadata": {
        "id": "AcUAugroK9hz",
        "colab_type": "code",
        "colab": {
          "autoexec": {
            "startup": false,
            "wait_interval": 0
          }
        }
      },
      "cell_type": "code",
      "source": [
        "draw_line.point(ANS_LT, fill=\"Red\" )\n",
        "draw_line.point(ANS_RT, fill=\"Red\" )\n",
        "draw_line.point(ANS_RB, fill=\"Red\" )\n",
        "draw_line.point(ANS_LB, fill=\"Red\" )"
      ],
      "execution_count": 0,
      "outputs": []
    },
    {
      "metadata": {
        "id": "5iUXeUd7LAZj",
        "colab_type": "code",
        "colab": {
          "autoexec": {
            "startup": false,
            "wait_interval": 0
          },
          "base_uri": "https://localhost:8080/",
          "height": 134
        },
        "outputId": "f47482af-2eef-4f26-8662-2325ec919f30",
        "executionInfo": {
          "status": "ok",
          "timestamp": 1531212173189,
          "user_tz": -540,
          "elapsed": 892,
          "user": {
            "displayName": "김민욱",
            "photoUrl": "https://lh3.googleusercontent.com/a/default-user=s128",
            "userId": "108006258518439830382"
          }
        }
      },
      "cell_type": "code",
      "source": [
        "image"
      ],
      "execution_count": 0,
      "outputs": [
        {
          "output_type": "execute_result",
          "data": {
            "image/png": "[encoded data removed]",
            "text/plain": [
              "<PIL.Image.Image image mode=RGB size=208x117 at 0x7F3361C96CC0>"
            ]
          },
          "metadata": {
            "tags": []
          },
          "execution_count": 112
        }
      ]
    },
    {
      "metadata": {
        "id": "F3ufC9SuLBvk",
        "colab_type": "code",
        "colab": {
          "autoexec": {
            "startup": false,
            "wait_interval": 0
          }
        }
      },
      "cell_type": "code",
      "source": [
        "image_tensor = to_tensor(image)"
      ],
      "execution_count": 0,
      "outputs": []
    },
    {
      "metadata": {
        "id": "_7FKZ06tLMxr",
        "colab_type": "code",
        "colab": {
          "autoexec": {
            "startup": false,
            "wait_interval": 0
          }
        }
      },
      "cell_type": "code",
      "source": [
        "image_tensors = image_tensor.unsqueeze(0).to(device)"
      ],
      "execution_count": 0,
      "outputs": []
    },
    {
      "metadata": {
        "id": "V9G3h67zLN3U",
        "colab_type": "code",
        "colab": {
          "autoexec": {
            "startup": false,
            "wait_interval": 0
          }
        }
      },
      "cell_type": "code",
      "source": [
        "# do forward\n",
        "result = model(image_tensors)"
      ],
      "execution_count": 0,
      "outputs": []
    },
    {
      "metadata": {
        "id": "zBQenKDsLO6T",
        "colab_type": "code",
        "colab": {
          "autoexec": {
            "startup": false,
            "wait_interval": 0
          }
        }
      },
      "cell_type": "code",
      "source": [
        "result = result.reshape(8)"
      ],
      "execution_count": 0,
      "outputs": []
    },
    {
      "metadata": {
        "id": "5rKg9LNJLRok",
        "colab_type": "code",
        "colab": {
          "autoexec": {
            "startup": false,
            "wait_interval": 0
          }
        }
      },
      "cell_type": "code",
      "source": [
        "PRE_LT = [result[0].item(), result[1].item()]\n",
        "PRE_RT = [result[2].item(), result[3].item()]\n",
        "PRE_RB = [result[4].item(), result[5].item()]\n",
        "PRE_LB = [result[6].item(), result[7].item()]"
      ],
      "execution_count": 0,
      "outputs": []
    },
    {
      "metadata": {
        "id": "mBJjLswYLUB7",
        "colab_type": "code",
        "colab": {
          "autoexec": {
            "startup": false,
            "wait_interval": 0
          },
          "base_uri": "https://localhost:8080/",
          "height": 35
        },
        "outputId": "39a5cfd5-1f24-41b8-d66c-1db326e296cb",
        "executionInfo": {
          "status": "ok",
          "timestamp": 1531212177711,
          "user_tz": -540,
          "elapsed": 740,
          "user": {
            "displayName": "김민욱",
            "photoUrl": "https://lh3.googleusercontent.com/a/default-user=s128",
            "userId": "108006258518439830382"
          }
        }
      },
      "cell_type": "code",
      "source": [
        "print(PRE_LT, PRE_RT, PRE_RB, PRE_LB)"
      ],
      "execution_count": 0,
      "outputs": [
        {
          "output_type": "stream",
          "text": [
            "[37.79604721069336, 13.183886528015137] [164.35345458984375, 20.255821228027344] [166.84228515625, 97.67449951171875] [25.857091903686523, 92.73535919189453]\n"
          ],
          "name": "stdout"
        }
      ]
    },
    {
      "metadata": {
        "id": "v8f8tpxlLV4b",
        "colab_type": "code",
        "colab": {
          "autoexec": {
            "startup": false,
            "wait_interval": 0
          }
        }
      },
      "cell_type": "code",
      "source": [
        "draw_line.point(PRE_LT, fill=\"Yellow\" )\n",
        "draw_line.point(PRE_RT, fill=\"Yellow\" )\n",
        "draw_line.point(PRE_RB, fill=\"Yellow\" )\n",
        "draw_line.point(PRE_LB, fill=\"Yellow\" )"
      ],
      "execution_count": 0,
      "outputs": []
    },
    {
      "metadata": {
        "id": "LEAuMdpYLbiU",
        "colab_type": "code",
        "colab": {
          "autoexec": {
            "startup": false,
            "wait_interval": 0
          },
          "base_uri": "https://localhost:8080/",
          "height": 134
        },
        "outputId": "e1e2eb05-8b50-4195-91db-32bc546382d3",
        "executionInfo": {
          "status": "ok",
          "timestamp": 1531212179244,
          "user_tz": -540,
          "elapsed": 745,
          "user": {
            "displayName": "김민욱",
            "photoUrl": "https://lh3.googleusercontent.com/a/default-user=s128",
            "userId": "108006258518439830382"
          }
        }
      },
      "cell_type": "code",
      "source": [
        "image"
      ],
      "execution_count": 0,
      "outputs": [
        {
          "output_type": "execute_result",
          "data": {
            "image/png": "[encoded data removed]",
            "text/plain": [
              "<PIL.Image.Image image mode=RGB size=208x117 at 0x7F3361C96CC0>"
            ]
          },
          "metadata": {
            "tags": []
          },
          "execution_count": 120
        }
      ]
    },
    {
      "metadata": {
        "id": "-6J9S0ZCZNl2",
        "colab_type": "text"
      },
      "cell_type": "markdown",
      "source": [
        "## 계획 관련"
      ]
    },
    {
      "metadata": {
        "id": "G8RBCy8NZWW6",
        "colab_type": "text"
      },
      "cell_type": "markdown",
      "source": [
        "- 선정한 주제 :  운전면허증 인식\n",
        "- 목표 : 나무색 배경의 [김민욱] 운전면허증 인식\n",
        "- 중간발표일 : 2018-08-09\n",
        "- 최종발표일 : 2018-08-30"
      ]
    },
    {
      "metadata": {
        "id": "Q3zD76hYLc-U",
        "colab_type": "code",
        "colab": {
          "autoexec": {
            "startup": false,
            "wait_interval": 0
          }
        }
      },
      "cell_type": "code",
      "source": [
        ""
      ],
      "execution_count": 0,
      "outputs": []
    }
  ]
}