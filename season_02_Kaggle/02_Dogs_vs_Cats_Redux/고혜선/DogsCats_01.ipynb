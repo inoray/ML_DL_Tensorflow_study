{
  "nbformat": 4,
  "nbformat_minor": 0,
  "metadata": {
    "colab": {
      "name": "DogsCats_01.ipynb",
      "version": "0.3.2",
      "views": {},
      "default_view": {},
      "provenance": [],
      "collapsed_sections": []
    },
    "kernelspec": {
      "name": "python3",
      "display_name": "Python 3"
    },
    "accelerator": "GPU"
  },
  "cells": [
    {
      "metadata": {
        "id": "vfKIZWoyNNAT",
        "colab_type": "text"
      },
      "cell_type": "markdown",
      "source": [
        "#** [Dogs vs. Cats Redux: Kernels Edition](https://www.kaggle.com/c/dogs-vs-cats-redux-kernels-edition)**\n",
        "* 개와 고양이 이미지에 대해 학습한 뒤, 입력 이미지가 개일 확률을 구하는 문제\n",
        "* Data 설명\n",
        "  - Color depth: RGB color image (jpg)\n",
        "  - image size: 다양\n",
        "  - 이미지 유형\n",
        "    + 얼굴만 존재 / 몸통 일부도 포함 / 몸통 전체 포함\n",
        "    + 정면뿐만이 아니라, 다양한 방향과 각도에서 촬영된 이미지 존재\n",
        "    + 이미지에 꽉차게 존재 vs. 일부 영역에 존재\n",
        "    + occlusion 존재하는 경우도 있음\n",
        "    + focus out 이미지 존재\n",
        "    + 그래픽이 가미된 편집 이미지 존재\n",
        "  - 개수\n",
        "    + train: 25,000 장\n",
        "    + test: 12,500 장\n",
        "    \n",
        "* Reference\n",
        "  - Kaggle kernel\n",
        "    + [CatdogNet - Keras Convnet Starter](https://www.kaggle.com/jeffd23/catdognet-keras-convnet-starter)\n",
        "    + [Full Classification Example with ConvNet](https://www.kaggle.com/sentdex/full-classification-example-with-convnet/code)"
      ]
    },
    {
      "metadata": {
        "id": "rIFm6i7OJFOy",
        "colab_type": "text"
      },
      "cell_type": "markdown",
      "source": [
        "##**Colab: Google Drive File Access**"
      ]
    },
    {
      "metadata": {
        "id": "gNuWA_VmI9aM",
        "colab_type": "code",
        "colab": {
          "autoexec": {
            "startup": false,
            "wait_interval": 0
          }
        }
      },
      "cell_type": "code",
      "source": [
        "!pip install -U -q PyDrive\n",
        "\n",
        "from pydrive.auth import GoogleAuth\n",
        "from pydrive.drive import GoogleDrive\n",
        "from google.colab import auth\n",
        "from oauth2client.client import GoogleCredentials\n",
        "from google.colab import files\n",
        "import zipfile\n",
        "import os, os.path"
      ],
      "execution_count": 0,
      "outputs": []
    },
    {
      "metadata": {
        "id": "qkpLQM6CJBNi",
        "colab_type": "code",
        "colab": {
          "autoexec": {
            "startup": false,
            "wait_interval": 0
          }
        }
      },
      "cell_type": "code",
      "source": [
        "# 1. Authenticate and create the PyDrive client.\n",
        "auth.authenticate_user()\n",
        "gauth = GoogleAuth()\n",
        "gauth.credentials = GoogleCredentials.get_application_default()\n",
        "drive = GoogleDrive(gauth)"
      ],
      "execution_count": 0,
      "outputs": []
    },
    {
      "metadata": {
        "id": "YvErzDB8I-Cb",
        "colab_type": "code",
        "colab": {
          "autoexec": {
            "startup": false,
            "wait_interval": 0
          }
        }
      },
      "cell_type": "code",
      "source": [
        "#2. Get the file\n",
        "downloaded = drive.CreateFile({'id':'1dleRLnwKzvPmyGF4Dq2P05qT2cZY9Xw2'}) # replace the id with id of file you want to access\n",
        "downloaded.GetContentFile('train.zip')\n",
        "downloaded = drive.CreateFile({'id':'1rWdtrmlANzYnGTaWSP_fAmOXDg0BEmFx'}) # replace the id with id of file you want to access\n",
        "downloaded.GetContentFile('test.zip')"
      ],
      "execution_count": 0,
      "outputs": []
    },
    {
      "metadata": {
        "id": "YLMw9nMZrnAy",
        "colab_type": "code",
        "colab": {
          "autoexec": {
            "startup": false,
            "wait_interval": 0
          },
          "base_uri": "https://localhost:8080/",
          "height": 107
        },
        "outputId": "c365152b-7cbe-4bb7-e0fe-f89fb80f7b59",
        "executionInfo": {
          "status": "ok",
          "timestamp": 1526536766963,
          "user_tz": -540,
          "elapsed": 2059,
          "user": {
            "displayName": "고혜선",
            "photoUrl": "https://lh3.googleusercontent.com/a/default-user=s128",
            "userId": "115394781953334488310"
          }
        }
      },
      "cell_type": "code",
      "source": [
        "!ls -l"
      ],
      "execution_count": 4,
      "outputs": [
        {
          "output_type": "stream",
          "text": [
            "total 834388\r\n",
            "drwxr-xr-x 4 root root      4096 May 17 02:54 data\r\n",
            "drwxr-xr-x 1 root root      4096 May 17 02:53 datalab\r\n",
            "-rw-r--r-- 1 root root 284478493 May 17 05:59 test.zip\r\n",
            "-rw-r--r-- 1 root root 569918665 May 17 05:59 train.zip\r\n"
          ],
          "name": "stdout"
        }
      ]
    },
    {
      "metadata": {
        "id": "Eqh7wvXyImrS",
        "colab_type": "code",
        "colab": {
          "autoexec": {
            "startup": false,
            "wait_interval": 0
          }
        }
      },
      "cell_type": "code",
      "source": [
        "def ExtractZip(zipPath, dataPath, dataType, dataNum):\n",
        "  \n",
        "    # 해당 폴더가 존재하는지 확인\n",
        "    doExtract = True\n",
        "    targetPath = dataPath + \"/\" + dataType\n",
        "    if os.path.isdir(targetPath):\n",
        "        numFile = len(os.listdir(targetPath))\n",
        "        if numFile == dataNum:\n",
        "            doExtract = False\n",
        "    \n",
        "    if doExtract == True:\n",
        "        objZip = zipfile.ZipFile(zipPath)\n",
        "        objZip.extractall(dataPath)\n",
        "        print(\"[%s] is extracted to [%s](%d).\" %(zipPath, targetPath, len(os.listdir(targetPath))))\n",
        "    else:\n",
        "        print(\"[%s] is already extracted to [%s](%d).\" %(zipPath, targetPath, len(os.listdir(targetPath))))"
      ],
      "execution_count": 0,
      "outputs": []
    },
    {
      "metadata": {
        "id": "CznRieVLIlRK",
        "colab_type": "code",
        "colab": {
          "autoexec": {
            "startup": false,
            "wait_interval": 0
          }
        }
      },
      "cell_type": "code",
      "source": [
        "DataPath = './data'"
      ],
      "execution_count": 0,
      "outputs": []
    },
    {
      "metadata": {
        "id": "ZnrKX0DEIzjk",
        "colab_type": "code",
        "colab": {
          "autoexec": {
            "startup": false,
            "wait_interval": 0
          },
          "base_uri": "https://localhost:8080/",
          "height": 35
        },
        "outputId": "3a93cd45-5ca5-4f68-f54b-1aa8e16b9e5e",
        "executionInfo": {
          "status": "ok",
          "timestamp": 1526536780472,
          "user_tz": -540,
          "elapsed": 813,
          "user": {
            "displayName": "고혜선",
            "photoUrl": "https://lh3.googleusercontent.com/a/default-user=s128",
            "userId": "115394781953334488310"
          }
        }
      },
      "cell_type": "code",
      "source": [
        "ExtractZip('./train.zip', DataPath, \"train\", 25000)"
      ],
      "execution_count": 7,
      "outputs": [
        {
          "output_type": "stream",
          "text": [
            "[./train.zip] is already extracted to [./data/train](25000).\n"
          ],
          "name": "stdout"
        }
      ]
    },
    {
      "metadata": {
        "id": "gJykmyVZI1Nj",
        "colab_type": "code",
        "colab": {
          "autoexec": {
            "startup": false,
            "wait_interval": 0
          },
          "base_uri": "https://localhost:8080/",
          "height": 35
        },
        "outputId": "334d2742-502d-4ebc-e22d-f49072a46d41",
        "executionInfo": {
          "status": "ok",
          "timestamp": 1526536782362,
          "user_tz": -540,
          "elapsed": 826,
          "user": {
            "displayName": "고혜선",
            "photoUrl": "https://lh3.googleusercontent.com/a/default-user=s128",
            "userId": "115394781953334488310"
          }
        }
      },
      "cell_type": "code",
      "source": [
        "ExtractZip('./test.zip', DataPath, \"test\", 12500)"
      ],
      "execution_count": 8,
      "outputs": [
        {
          "output_type": "stream",
          "text": [
            "[./test.zip] is already extracted to [./data/test](12500).\n"
          ],
          "name": "stdout"
        }
      ]
    },
    {
      "metadata": {
        "id": "GyOZb9ccLOMB",
        "colab_type": "code",
        "colab": {
          "autoexec": {
            "startup": false,
            "wait_interval": 0
          }
        }
      },
      "cell_type": "code",
      "source": [
        "from IPython.display import Image"
      ],
      "execution_count": 0,
      "outputs": []
    },
    {
      "metadata": {
        "id": "5pU33ODgL5a9",
        "colab_type": "code",
        "colab": {
          "autoexec": {
            "startup": false,
            "wait_interval": 0
          },
          "base_uri": "https://localhost:8080/",
          "height": 305
        },
        "outputId": "d1c38e58-4029-4c5e-bc92-8764e3d49690",
        "executionInfo": {
          "status": "ok",
          "timestamp": 1526536787238,
          "user_tz": -540,
          "elapsed": 1009,
          "user": {
            "displayName": "고혜선",
            "photoUrl": "https://lh3.googleusercontent.com/a/default-user=s128",
            "userId": "115394781953334488310"
          }
        }
      },
      "cell_type": "code",
      "source": [
        "Image('/content/data/test/4.jpg')"
      ],
      "execution_count": 10,
      "outputs": [
        {
          "output_type": "execute_result",
          "data": {
            "image/jpeg": "[encoded data removed]",
            "text/plain": [
              "<IPython.core.display.Image object>"
            ]
          },
          "metadata": {
            "tags": []
          },
          "execution_count": 10
        }
      ]
    },
    {
      "metadata": {
        "id": "DFNI7f2YNzq_",
        "colab_type": "text"
      },
      "cell_type": "markdown",
      "source": [
        "##**Train/Test data preparation**"
      ]
    },
    {
      "metadata": {
        "id": "eazGOIU-OZZe",
        "colab_type": "code",
        "colab": {
          "autoexec": {
            "startup": false,
            "wait_interval": 0
          },
          "base_uri": "https://localhost:8080/",
          "height": 647
        },
        "outputId": "43a3b27f-fdb1-440f-822f-7d899e1e86ce",
        "executionInfo": {
          "status": "ok",
          "timestamp": 1526536799386,
          "user_tz": -540,
          "elapsed": 5895,
          "user": {
            "displayName": "고혜선",
            "photoUrl": "https://lh3.googleusercontent.com/a/default-user=s128",
            "userId": "115394781953334488310"
          }
        }
      },
      "cell_type": "code",
      "source": [
        "!pip install -U tqdm\n",
        "!pip install -U ipywidgets\n",
        "\n",
        "import os, cv2, random\n",
        "import numpy as np\n",
        "from tqdm import tqdm\n",
        "from tqdm import trange, tnrange, tqdm_notebook\n",
        "from ipywidgets import IntProgress\n",
        "from time import sleep\n",
        "import pandas as pd\n",
        "\n",
        "import matplotlib.pyplot as plt\n",
        "from matplotlib import ticker\n",
        "import seaborn as sns\n",
        "%matplotlib inline "
      ],
      "execution_count": 11,
      "outputs": [
        {
          "output_type": "stream",
          "text": [
            "Requirement already up-to-date: tqdm in /usr/local/lib/python3.6/dist-packages (4.23.3)\n",
            "Requirement already up-to-date: ipywidgets in /usr/local/lib/python3.6/dist-packages (7.2.1)\n",
            "Requirement not upgraded as not directly required: ipykernel>=4.5.1 in /usr/local/lib/python3.6/dist-packages (from ipywidgets) (4.6.1)\n",
            "Requirement not upgraded as not directly required: ipython>=4.0.0; python_version >= \"3.3\" in /usr/local/lib/python3.6/dist-packages (from ipywidgets) (5.5.0)\n",
            "Requirement not upgraded as not directly required: widgetsnbextension~=3.2.0 in /usr/local/lib/python3.6/dist-packages (from ipywidgets) (3.2.1)\n",
            "Requirement not upgraded as not directly required: traitlets>=4.3.1 in /usr/local/lib/python3.6/dist-packages (from ipywidgets) (4.3.2)\n",
            "Requirement not upgraded as not directly required: nbformat>=4.2.0 in /usr/local/lib/python3.6/dist-packages (from ipywidgets) (4.4.0)\n",
            "Requirement not upgraded as not directly required: tornado>=4.0 in /usr/local/lib/python3.6/dist-packages (from ipykernel>=4.5.1->ipywidgets) (4.5.3)\n",
            "Requirement not upgraded as not directly required: jupyter-client in /usr/local/lib/python3.6/dist-packages (from ipykernel>=4.5.1->ipywidgets) (5.2.3)\n",
            "Requirement not upgraded as not directly required: pygments in /usr/local/lib/python3.6/dist-packages (from ipython>=4.0.0; python_version >= \"3.3\"->ipywidgets) (2.1.3)\n",
            "Requirement not upgraded as not directly required: setuptools>=18.5 in /usr/local/lib/python3.6/dist-packages (from ipython>=4.0.0; python_version >= \"3.3\"->ipywidgets) (39.1.0)\n",
            "Requirement not upgraded as not directly required: pickleshare in /usr/local/lib/python3.6/dist-packages (from ipython>=4.0.0; python_version >= \"3.3\"->ipywidgets) (0.7.4)\n",
            "Requirement not upgraded as not directly required: pexpect; sys_platform != \"win32\" in /usr/local/lib/python3.6/dist-packages (from ipython>=4.0.0; python_version >= \"3.3\"->ipywidgets) (4.5.0)\n",
            "Requirement not upgraded as not directly required: simplegeneric>0.8 in /usr/local/lib/python3.6/dist-packages (from ipython>=4.0.0; python_version >= \"3.3\"->ipywidgets) (0.8.1)\n",
            "Requirement not upgraded as not directly required: prompt-toolkit<2.0.0,>=1.0.4 in /usr/local/lib/python3.6/dist-packages (from ipython>=4.0.0; python_version >= \"3.3\"->ipywidgets) (1.0.15)\n",
            "Requirement not upgraded as not directly required: decorator in /usr/local/lib/python3.6/dist-packages (from ipython>=4.0.0; python_version >= \"3.3\"->ipywidgets) (4.3.0)\n",
            "Requirement not upgraded as not directly required: notebook>=4.4.1 in /usr/local/lib/python3.6/dist-packages (from widgetsnbextension~=3.2.0->ipywidgets) (5.2.2)\n",
            "Requirement not upgraded as not directly required: ipython-genutils in /usr/local/lib/python3.6/dist-packages (from traitlets>=4.3.1->ipywidgets) (0.2.0)\n",
            "Requirement not upgraded as not directly required: six in /usr/local/lib/python3.6/dist-packages (from traitlets>=4.3.1->ipywidgets) (1.11.0)\n",
            "Requirement not upgraded as not directly required: jupyter-core in /usr/local/lib/python3.6/dist-packages (from nbformat>=4.2.0->ipywidgets) (4.4.0)\n",
            "Requirement not upgraded as not directly required: jsonschema!=2.5.0,>=2.4 in /usr/local/lib/python3.6/dist-packages (from nbformat>=4.2.0->ipywidgets) (2.6.0)\n",
            "Requirement not upgraded as not directly required: python-dateutil>=2.1 in /usr/local/lib/python3.6/dist-packages (from jupyter-client->ipykernel>=4.5.1->ipywidgets) (2.5.3)\n",
            "Requirement not upgraded as not directly required: pyzmq>=13 in /usr/local/lib/python3.6/dist-packages (from jupyter-client->ipykernel>=4.5.1->ipywidgets) (16.0.4)\n",
            "Requirement not upgraded as not directly required: ptyprocess>=0.5 in /usr/local/lib/python3.6/dist-packages (from pexpect; sys_platform != \"win32\"->ipython>=4.0.0; python_version >= \"3.3\"->ipywidgets) (0.5.2)\n",
            "Requirement not upgraded as not directly required: wcwidth in /usr/local/lib/python3.6/dist-packages (from prompt-toolkit<2.0.0,>=1.0.4->ipython>=4.0.0; python_version >= \"3.3\"->ipywidgets) (0.1.7)\n",
            "Requirement not upgraded as not directly required: jinja2 in /usr/local/lib/python3.6/dist-packages (from notebook>=4.4.1->widgetsnbextension~=3.2.0->ipywidgets) (2.10)\n",
            "Requirement not upgraded as not directly required: nbconvert in /usr/local/lib/python3.6/dist-packages (from notebook>=4.4.1->widgetsnbextension~=3.2.0->ipywidgets) (5.3.1)\n",
            "Requirement not upgraded as not directly required: terminado>=0.3.3; sys_platform != \"win32\" in /usr/local/lib/python3.6/dist-packages (from notebook>=4.4.1->widgetsnbextension~=3.2.0->ipywidgets) (0.8.1)\n",
            "Requirement not upgraded as not directly required: MarkupSafe>=0.23 in /usr/local/lib/python3.6/dist-packages (from jinja2->notebook>=4.4.1->widgetsnbextension~=3.2.0->ipywidgets) (1.0)\n",
            "Requirement not upgraded as not directly required: entrypoints>=0.2.2 in /usr/local/lib/python3.6/dist-packages (from nbconvert->notebook>=4.4.1->widgetsnbextension~=3.2.0->ipywidgets) (0.2.3)\n",
            "Requirement not upgraded as not directly required: pandocfilters>=1.4.1 in /usr/local/lib/python3.6/dist-packages (from nbconvert->notebook>=4.4.1->widgetsnbextension~=3.2.0->ipywidgets) (1.4.2)\n",
            "Requirement not upgraded as not directly required: testpath in /usr/local/lib/python3.6/dist-packages (from nbconvert->notebook>=4.4.1->widgetsnbextension~=3.2.0->ipywidgets) (0.3.1)\n",
            "Requirement not upgraded as not directly required: bleach in /usr/local/lib/python3.6/dist-packages (from nbconvert->notebook>=4.4.1->widgetsnbextension~=3.2.0->ipywidgets) (1.5.0)\n",
            "Requirement not upgraded as not directly required: mistune>=0.7.4 in /usr/local/lib/python3.6/dist-packages (from nbconvert->notebook>=4.4.1->widgetsnbextension~=3.2.0->ipywidgets) (0.8.3)\n",
            "Requirement not upgraded as not directly required: html5lib!=0.9999,!=0.99999,<0.99999999,>=0.999 in /usr/local/lib/python3.6/dist-packages (from bleach->nbconvert->notebook>=4.4.1->widgetsnbextension~=3.2.0->ipywidgets) (0.9999999)\n"
          ],
          "name": "stdout"
        }
      ]
    },
    {
      "metadata": {
        "id": "6EfWOXgrSe7M",
        "colab_type": "code",
        "colab": {
          "autoexec": {
            "startup": false,
            "wait_interval": 0
          }
        }
      },
      "cell_type": "code",
      "source": [
        "TRAIN_DIR = '/content/data/train/'\n",
        "TEST_DIR = '/content/data/test/'\n",
        "\n",
        "ROWS = 64\n",
        "COLS = 64\n",
        "CHANNELS = 3\n",
        "\n",
        "\n",
        "def read_image(file_path):\n",
        "  \n",
        "    img = cv2.imread(file_path, cv2.IMREAD_COLOR) #cv2.IMREAD_GRAYSCALE\n",
        "    return cv2.resize(img, (ROWS, COLS), interpolation=cv2.INTER_CUBIC)\n",
        "\n",
        "\n",
        "def prep_data(images):\n",
        "  \n",
        "    count = len(images)\n",
        "    #data = np.ndarray((count, CHANNELS, ROWS, COLS), dtype=np.uint8)\n",
        "    data = np.ndarray((count, ROWS, COLS, CHANNELS), dtype=np.uint8)\n",
        "\n",
        "    for i, image_file in enumerate(tqdm(images)):\n",
        "        image = read_image(image_file)\n",
        "        # data[i] = image.T\n",
        "        data[i] = image\n",
        "    \n",
        "    return data\n",
        "\n",
        "  \n",
        "def labeling(images):\n",
        "  \n",
        "  labels = np.ndarray((len(images), 1), dtype=np.uint8)\n",
        "\n",
        "  for i, image_file in enumerate(images):\n",
        "      if 'dog' in image_file:\n",
        "          labels[i] = 1\n",
        "      else:\n",
        "          labels[i] = 0\n",
        "  return labels"
      ],
      "execution_count": 0,
      "outputs": []
    },
    {
      "metadata": {
        "id": "KBJ0Vi8xl11S",
        "colab_type": "code",
        "colab": {
          "autoexec": {
            "startup": false,
            "wait_interval": 0
          },
          "base_uri": "https://localhost:8080/",
          "height": 395
        },
        "outputId": "e04c08ce-d8bc-4c93-f622-c4019add6722",
        "executionInfo": {
          "status": "ok",
          "timestamp": 1526536813499,
          "user_tz": -540,
          "elapsed": 6455,
          "user": {
            "displayName": "고혜선",
            "photoUrl": "https://lh3.googleusercontent.com/a/default-user=s128",
            "userId": "115394781953334488310"
          }
        }
      },
      "cell_type": "code",
      "source": [
        "print(\"[Load image filename list]\")\n",
        "sleep(0.5)\n",
        "\n",
        "train_images = [TRAIN_DIR+i for i in tqdm(os.listdir(TRAIN_DIR))] # use this for full dataset\n",
        "train_dogs =   [TRAIN_DIR+i for i in tqdm(os.listdir(TRAIN_DIR)) if 'dog' in i]\n",
        "train_cats =   [TRAIN_DIR+i for i in tqdm(os.listdir(TRAIN_DIR)) if 'cat' in i]\n",
        "test_images =  [TEST_DIR+i for i in tqdm(os.listdir(TEST_DIR))]\n",
        "\n",
        "random.shuffle(train_dogs)\n",
        "random.shuffle(train_cats)\n",
        "\n",
        "\n",
        "# data reduction for model build-up efficiency\n",
        "DataCoverage = 0.1\n",
        "\n",
        "noTrainDogs = int(len(train_dogs) * DataCoverage)\n",
        "noTrainCats = int(len(train_cats) * DataCoverage)\n",
        "\n",
        "train_dogs =  train_dogs[:noTrainDogs]\n",
        "train_cats =  train_cats[:noTrainCats]\n",
        "\n",
        "test_images =  test_images[:25]\n",
        "\n",
        "\n",
        "# split train data into real train data and validation data\n",
        "TrainDataRatio = 0.7\n",
        "\n",
        "noTrainDogs = int(len(train_dogs) * TrainDataRatio)\n",
        "noTrainCats = int(len(train_cats) * TrainDataRatio)\n",
        "\n",
        "train_images = train_dogs[:noTrainDogs] + train_cats[:noTrainCats]\n",
        "random.shuffle(train_images)\n",
        "\n",
        "valid_images = train_dogs[noTrainDogs:] + train_cats[noTrainCats:]\n",
        "random.shuffle(valid_images)\n",
        "\n",
        "print(\"\")\n",
        "print(\"- Train image count: \", len(train_images))\n",
        "print(\"- Validation image count: \", len(valid_images))\n",
        "\n",
        "\n",
        "print(\"\")\n",
        "print(\"[Image loading..]\")\n",
        "train = prep_data(train_images)\n",
        "valid = prep_data(valid_images)\n",
        "test = prep_data(test_images)\n",
        "\n",
        "print(\"\")\n",
        "print(\"Train shape: {}\".format(train.shape))\n",
        "print(\"Vadli shape: {}\".format(valid.shape))\n",
        "print(\"Test shape: {}\".format(test.shape))\n",
        "\n",
        "print(\"\")\n",
        "print(\"[Label loading..]\")\n",
        "train_labels = labeling(train_images)\n",
        "valid_labels = labeling(valid_images)\n",
        "\n",
        "print(\"Train image label shape: {}\".format(train_labels.shape))\n",
        "print(\"Validation image label shape: {}\".format(valid_labels.shape))"
      ],
      "execution_count": 13,
      "outputs": [
        {
          "output_type": "stream",
          "text": [
            "[Load image filename list]\n"
          ],
          "name": "stdout"
        },
        {
          "output_type": "stream",
          "text": [
            "100%|██████████| 25000/25000 [00:00<00:00, 1796214.26it/s]\n",
            "100%|██████████| 25000/25000 [00:00<00:00, 1916152.26it/s]\n",
            "100%|██████████| 25000/25000 [00:00<00:00, 1968084.99it/s]\n",
            "100%|██████████| 12500/12500 [00:00<00:00, 1706111.29it/s]\n",
            "  3%|▎         | 50/1750 [00:00<00:03, 498.62it/s]"
          ],
          "name": "stderr"
        },
        {
          "output_type": "stream",
          "text": [
            "\n",
            "- Train image count:  1750\n",
            "- Validation image count:  750\n",
            "\n",
            "[Image loading..]\n"
          ],
          "name": "stdout"
        },
        {
          "output_type": "stream",
          "text": [
            "100%|██████████| 1750/1750 [00:03<00:00, 517.92it/s]\n",
            "100%|██████████| 750/750 [00:01<00:00, 513.91it/s]\n",
            "100%|██████████| 25/25 [00:00<00:00, 477.71it/s]"
          ],
          "name": "stderr"
        },
        {
          "output_type": "stream",
          "text": [
            "\n",
            "Train shape: (1750, 64, 64, 3)\n",
            "Vadli shape: (750, 64, 64, 3)\n",
            "Test shape: (25, 64, 64, 3)\n",
            "\n",
            "[Label loading..]\n",
            "Train image label shape: (1750, 1)\n",
            "Validation image label shape: (750, 1)\n"
          ],
          "name": "stdout"
        },
        {
          "output_type": "stream",
          "text": [
            "\n"
          ],
          "name": "stderr"
        }
      ]
    },
    {
      "metadata": {
        "id": "z-fWyj-mRsW8",
        "colab_type": "text"
      },
      "cell_type": "markdown",
      "source": [
        "##**Build Model: CNN**\n",
        "* Reference\n",
        "  - [hunkim: DeepLearningZeroToAll] [lab-11-4-mnist_cnn_layers.py](https://github.com/hunkim/DeepLearningZeroToAll/blob/master/lab-11-4-mnist_cnn_layers.py)"
      ]
    },
    {
      "metadata": {
        "id": "KYBuvgVmSyyO",
        "colab_type": "code",
        "colab": {
          "autoexec": {
            "startup": false,
            "wait_interval": 0
          }
        },
        "cellView": "both"
      },
      "cell_type": "code",
      "source": [
        "import tensorflow as tf\n",
        "# import matplotlib.pyplot as plt\n",
        "\n",
        "tf.set_random_seed(777)  # reproducibility\n",
        "\n",
        "class Model:\n",
        "\n",
        "    def __init__(self, sess, name):\n",
        "        self.sess = sess\n",
        "        self.name = name\n",
        "        self._build_net()\n",
        "\n",
        "    def _build_net(self):\n",
        "      \n",
        "        with tf.variable_scope(self.name):\n",
        "        \n",
        "            # dropout (keep_prob) rate  0.7~0.5 on training, but should be 1\n",
        "            # for testing\n",
        "            self.training = tf.placeholder(tf.bool)\n",
        "\n",
        "            # input place holders\n",
        "            self.X = tf.placeholder(tf.float32, [None, ROWS, COLS, CHANNELS])\n",
        "\n",
        "            # img 28x28x1 (black/white), Input Layer\n",
        "            # X_img = tf.reshape(self.X, [-1, ROWS, COLS, CHANNELS])\n",
        "            self.Y = tf.placeholder(tf.int32, [None, 1])\n",
        "            \n",
        "            Y_one_hot = tf.one_hot(self.Y, 2)\n",
        "            Y_one_hot = tf.reshape(Y_one_hot, [-1, 2])\n",
        "\n",
        "            # Convolutional and Polling Layer #1\n",
        "            conv1 = tf.layers.conv2d(inputs=self.X, filters=32, kernel_size=[3, 3], padding=\"SAME\", activation=tf.nn.relu)\n",
        "            pool1 = tf.layers.max_pooling2d(inputs=conv1, pool_size=[2, 2], padding=\"SAME\", strides=2)\n",
        "            dropout1 = tf.layers.dropout(inputs=pool1, rate=0.3, training=self.training)\n",
        "            \n",
        "            # Convolutional and Pooling Layer #2\n",
        "            conv2 = tf.layers.conv2d(inputs=dropout1, filters=64, kernel_size=[3, 3], padding=\"SAME\", activation=tf.nn.relu)\n",
        "            pool2 = tf.layers.max_pooling2d(inputs=conv2, pool_size=[2, 2], padding=\"SAME\", strides=2)\n",
        "            dropout2 = tf.layers.dropout(inputs=pool2, rate=0.3, training=self.training)\n",
        "\n",
        "            # Convolutional and Pooling Layer #3\n",
        "            conv3 = tf.layers.conv2d(inputs=dropout2, filters=128, kernel_size=[3, 3], padding=\"same\", activation=tf.nn.relu)\n",
        "            pool3 = tf.layers.max_pooling2d(inputs=conv3, pool_size=[2, 2], padding=\"same\", strides=2)\n",
        "            dropout3 = tf.layers.dropout(inputs=pool3, rate=0.3, training=self.training)\n",
        "\n",
        "            # Convolutional and Pooling Layer #4\n",
        "            conv4 = tf.layers.conv2d(inputs=dropout3, filters=256, kernel_size=[3, 3], padding=\"same\", activation=tf.nn.relu)\n",
        "            pool4 = tf.layers.max_pooling2d(inputs=conv4, pool_size=[2, 2], padding=\"same\", strides=2)\n",
        "            dropout4 = tf.layers.dropout(inputs=pool4, rate=0.3, training=self.training)\n",
        "            \n",
        "            # Dense Layer with Relu\n",
        "            flat = tf.reshape(dropout4, [-1, 256 * 4 * 4])\n",
        "            dense5 = tf.layers.dense(inputs=flat, units=625, activation=tf.nn.relu)\n",
        "            dropout5 = tf.layers.dropout(inputs=dense5, rate=0.5, training=self.training)\n",
        "            \n",
        "            # Logits (no activation) Layer: L5 Final FC 625 inputs -> 10 outputs\n",
        "            self.logits = tf.layers.dense(inputs=dropout5, units=2)\n",
        "            \n",
        "            \n",
        "        # define cost/loss & optimizer\n",
        "        self.cost = tf.reduce_mean(tf.nn.softmax_cross_entropy_with_logits(logits=self.logits, labels=Y_one_hot))\n",
        "        self.optimizer = tf.train.AdamOptimizer(learning_rate=learning_rate).minimize(self.cost)\n",
        "\n",
        "        correct_prediction = tf.equal(tf.argmax(self.logits, 1), tf.argmax(self.Y, 1))\n",
        "        self.accuracy = tf.reduce_mean(tf.cast(correct_prediction, tf.float32))\n",
        "\n",
        "    def predict(self, x_test, training=False):\n",
        "      return self.sess.run(self.logits, feed_dict={self.X: x_test, self.training: training})\n",
        "\n",
        "    def get_accuracy(self, x_test, y_test, training=False):\n",
        "      return self.sess.run(self.accuracy, feed_dict={self.X: x_test, self.Y: y_test, self.training: training})\n",
        "\n",
        "    def train(self, x_data, y_data, training=True):\n",
        "      return self.sess.run([self.cost, self.optimizer], feed_dict={self.X: x_data, self.Y: y_data, self.training: training})\n"
      ],
      "execution_count": 0,
      "outputs": []
    },
    {
      "metadata": {
        "id": "r9gxMmAQtcJk",
        "colab_type": "text"
      },
      "cell_type": "markdown",
      "source": [
        "##**Train**"
      ]
    },
    {
      "metadata": {
        "id": "-nar_Z3ZRr73",
        "colab_type": "code",
        "colab": {
          "autoexec": {
            "startup": false,
            "wait_interval": 0
          },
          "base_uri": "https://localhost:8080/",
          "height": 5881
        },
        "outputId": "1cfc7bb2-1237-470c-bc81-84b432bc381e",
        "executionInfo": {
          "status": "ok",
          "timestamp": 1526536918037,
          "user_tz": -540,
          "elapsed": 92840,
          "user": {
            "displayName": "고혜선",
            "photoUrl": "https://lh3.googleusercontent.com/a/default-user=s128",
            "userId": "115394781953334488310"
          }
        }
      },
      "cell_type": "code",
      "source": [
        "#@title Hyper-parameter Settings for Training { form-width: \"20%\" }\n",
        "learning_rate = 0.001 #@param {type:\"number\"}\n",
        "training_epochs = 100 #@param {type:\"integer\"}\n",
        "batch_size = 100 #@param {type:\"integer\"}\n",
        "\n",
        "\n",
        "tf.reset_default_graph();\n",
        "        \n",
        "# initialize\n",
        "sess = tf.Session()\n",
        "m1 = Model(sess, \"m1\")\n",
        "\n",
        "sess.run(tf.global_variables_initializer())\n",
        "\n",
        "print(\"Train data count: \", len(train), len(train_labels))\n",
        "print(\"Validation data count: \", len(valid), len(valid_labels))\n",
        "\n",
        "print('Learning Started!')\n",
        "\n",
        "cost, accuracy = [], []\n",
        "\n",
        "# train my model\n",
        "for epoch in range(training_epochs):\n",
        "    avg_cost = 0\n",
        "    total_batch = int(len(train) / batch_size)\n",
        "\n",
        "    for i in trange(total_batch, desc='Batch loop'):\n",
        "        start_idx = i       * batch_size;\n",
        "        end_idx   = (i + 1) * batch_size;\n",
        "        \n",
        "        batch_xs  = train       [start_idx:end_idx,:,:,:]\n",
        "        batch_ys  = train_labels[start_idx:end_idx,:]\n",
        "        \n",
        "        c, _ = m1.train(batch_xs, batch_ys)\n",
        "        \n",
        "        avg_cost += c / total_batch\n",
        "\n",
        "    a = m1.get_accuracy(valid, valid_labels)\n",
        "    \n",
        "    print('\\nEpoch:', '%04d' % (epoch + 1), 'cost =', '{:.9f}'.format(avg_cost), 'accuracy=', '{:.9f}'.format(a))\n",
        "    \n",
        "    cost.append(c)\n",
        "    accuracy.append(a)\n",
        "    \n",
        "\n",
        "print('Learning Finished!')\n",
        "\n",
        "plt.plot(cost, label=\"cost\")\n",
        "plt.plot(accuracy, label=\"accuracy\")\n",
        "plt.legend()\n",
        "plt.show()\n"
      ],
      "execution_count": 15,
      "outputs": [
        {
          "output_type": "stream",
          "text": [
            "WARNING:tensorflow:From <ipython-input-14-6591fb0262cd>:61: softmax_cross_entropy_with_logits (from tensorflow.python.ops.nn_ops) is deprecated and will be removed in a future version.\n",
            "Instructions for updating:\n",
            "\n",
            "Future major versions of TensorFlow will allow gradients to flow\n",
            "into the labels input on backprop by default.\n",
            "\n",
            "See tf.nn.softmax_cross_entropy_with_logits_v2.\n",
            "\n"
          ],
          "name": "stdout"
        },
        {
          "output_type": "stream",
          "text": [
            "\rBatch loop:   0%|          | 0/17 [00:00<?, ?it/s]"
          ],
          "name": "stderr"
        },
        {
          "output_type": "stream",
          "text": [
            "Train data count:  1750 1750\n",
            "Validation data count:  750 750\n",
            "Learning Started!\n"
          ],
          "name": "stdout"
        },
        {
          "output_type": "stream",
          "text": [
            "Batch loop: 100%|██████████| 17/17 [00:01<00:00,  8.76it/s]\n",
            "Batch loop:  18%|█▊        | 3/17 [00:00<00:00, 21.30it/s]"
          ],
          "name": "stderr"
        },
        {
          "output_type": "stream",
          "text": [
            "\n",
            "Epoch: 0001 cost = 74.032445739 accuracy= 0.035999998\n"
          ],
          "name": "stdout"
        },
        {
          "output_type": "stream",
          "text": [
            "Batch loop: 100%|██████████| 17/17 [00:00<00:00, 21.55it/s]\n",
            "Batch loop:  18%|█▊        | 3/17 [00:00<00:00, 22.20it/s]"
          ],
          "name": "stderr"
        },
        {
          "output_type": "stream",
          "text": [
            "\n",
            "Epoch: 0002 cost = 0.768649859 accuracy= 0.001333333\n"
          ],
          "name": "stdout"
        },
        {
          "output_type": "stream",
          "text": [
            "Batch loop: 100%|██████████| 17/17 [00:00<00:00, 21.54it/s]\n",
            "Batch loop:  18%|█▊        | 3/17 [00:00<00:00, 22.01it/s]"
          ],
          "name": "stderr"
        },
        {
          "output_type": "stream",
          "text": [
            "\n",
            "Epoch: 0003 cost = 0.710694562 accuracy= 0.071999997\n"
          ],
          "name": "stdout"
        },
        {
          "output_type": "stream",
          "text": [
            "Batch loop: 100%|██████████| 17/17 [00:00<00:00, 21.79it/s]\n",
            "Batch loop:  18%|█▊        | 3/17 [00:00<00:00, 22.32it/s]"
          ],
          "name": "stderr"
        },
        {
          "output_type": "stream",
          "text": [
            "\n",
            "Epoch: 0004 cost = 0.701114416 accuracy= 0.002666667\n"
          ],
          "name": "stdout"
        },
        {
          "output_type": "stream",
          "text": [
            "Batch loop: 100%|██████████| 17/17 [00:00<00:00, 21.61it/s]\n",
            "Batch loop:  18%|█▊        | 3/17 [00:00<00:00, 21.19it/s]"
          ],
          "name": "stderr"
        },
        {
          "output_type": "stream",
          "text": [
            "\n",
            "Epoch: 0005 cost = 0.703133075 accuracy= 0.013333334\n"
          ],
          "name": "stdout"
        },
        {
          "output_type": "stream",
          "text": [
            "Batch loop: 100%|██████████| 17/17 [00:00<00:00, 21.64it/s]\n",
            "Batch loop:  18%|█▊        | 3/17 [00:00<00:00, 21.47it/s]"
          ],
          "name": "stderr"
        },
        {
          "output_type": "stream",
          "text": [
            "\n",
            "Epoch: 0006 cost = 0.698816257 accuracy= 0.008000000\n"
          ],
          "name": "stdout"
        },
        {
          "output_type": "stream",
          "text": [
            "Batch loop: 100%|██████████| 17/17 [00:00<00:00, 21.71it/s]\n",
            "Batch loop:  18%|█▊        | 3/17 [00:00<00:00, 21.37it/s]"
          ],
          "name": "stderr"
        },
        {
          "output_type": "stream",
          "text": [
            "\n",
            "Epoch: 0007 cost = 0.691943011 accuracy= 0.010666667\n"
          ],
          "name": "stdout"
        },
        {
          "output_type": "stream",
          "text": [
            "Batch loop: 100%|██████████| 17/17 [00:00<00:00, 21.73it/s]\n",
            "Batch loop:  18%|█▊        | 3/17 [00:00<00:00, 21.81it/s]"
          ],
          "name": "stderr"
        },
        {
          "output_type": "stream",
          "text": [
            "\n",
            "Epoch: 0008 cost = 0.698410711 accuracy= 0.004000000\n"
          ],
          "name": "stdout"
        },
        {
          "output_type": "stream",
          "text": [
            "Batch loop: 100%|██████████| 17/17 [00:00<00:00, 21.51it/s]\n",
            "Batch loop:  18%|█▊        | 3/17 [00:00<00:00, 21.85it/s]"
          ],
          "name": "stderr"
        },
        {
          "output_type": "stream",
          "text": [
            "\n",
            "Epoch: 0009 cost = 0.697798904 accuracy= 0.345333338\n"
          ],
          "name": "stdout"
        },
        {
          "output_type": "stream",
          "text": [
            "Batch loop: 100%|██████████| 17/17 [00:00<00:00, 21.54it/s]\n",
            "Batch loop:  18%|█▊        | 3/17 [00:00<00:00, 21.32it/s]"
          ],
          "name": "stderr"
        },
        {
          "output_type": "stream",
          "text": [
            "\n",
            "Epoch: 0010 cost = 0.695540397 accuracy= 0.000000000\n"
          ],
          "name": "stdout"
        },
        {
          "output_type": "stream",
          "text": [
            "Batch loop: 100%|██████████| 17/17 [00:00<00:00, 21.57it/s]\n",
            "Batch loop:  18%|█▊        | 3/17 [00:00<00:00, 21.98it/s]"
          ],
          "name": "stderr"
        },
        {
          "output_type": "stream",
          "text": [
            "\n",
            "Epoch: 0011 cost = 0.692920296 accuracy= 0.494666666\n"
          ],
          "name": "stdout"
        },
        {
          "output_type": "stream",
          "text": [
            "Batch loop: 100%|██████████| 17/17 [00:00<00:00, 21.41it/s]\n",
            "Batch loop:  18%|█▊        | 3/17 [00:00<00:00, 21.86it/s]"
          ],
          "name": "stderr"
        },
        {
          "output_type": "stream",
          "text": [
            "\n",
            "Epoch: 0012 cost = 0.691246145 accuracy= 0.282666653\n"
          ],
          "name": "stdout"
        },
        {
          "output_type": "stream",
          "text": [
            "Batch loop: 100%|██████████| 17/17 [00:00<00:00, 21.81it/s]\n",
            "Batch loop:  18%|█▊        | 3/17 [00:00<00:00, 20.94it/s]"
          ],
          "name": "stderr"
        },
        {
          "output_type": "stream",
          "text": [
            "\n",
            "Epoch: 0013 cost = 0.688108570 accuracy= 0.001333333\n"
          ],
          "name": "stdout"
        },
        {
          "output_type": "stream",
          "text": [
            "Batch loop: 100%|██████████| 17/17 [00:00<00:00, 21.29it/s]\n",
            "Batch loop:  18%|█▊        | 3/17 [00:00<00:00, 21.70it/s]"
          ],
          "name": "stderr"
        },
        {
          "output_type": "stream",
          "text": [
            "\n",
            "Epoch: 0014 cost = 0.686248846 accuracy= 0.151999995\n"
          ],
          "name": "stdout"
        },
        {
          "output_type": "stream",
          "text": [
            "Batch loop: 100%|██████████| 17/17 [00:00<00:00, 21.52it/s]\n",
            "Batch loop:  18%|█▊        | 3/17 [00:00<00:00, 21.34it/s]"
          ],
          "name": "stderr"
        },
        {
          "output_type": "stream",
          "text": [
            "\n",
            "Epoch: 0015 cost = 0.686542111 accuracy= 0.000000000\n"
          ],
          "name": "stdout"
        },
        {
          "output_type": "stream",
          "text": [
            "Batch loop: 100%|██████████| 17/17 [00:00<00:00, 21.51it/s]\n",
            "Batch loop:  18%|█▊        | 3/17 [00:00<00:00, 22.01it/s]"
          ],
          "name": "stderr"
        },
        {
          "output_type": "stream",
          "text": [
            "\n",
            "Epoch: 0016 cost = 0.695587663 accuracy= 0.033333335\n"
          ],
          "name": "stdout"
        },
        {
          "output_type": "stream",
          "text": [
            "Batch loop: 100%|██████████| 17/17 [00:00<00:00, 21.91it/s]\n",
            "Batch loop:  18%|█▊        | 3/17 [00:00<00:00, 22.17it/s]"
          ],
          "name": "stderr"
        },
        {
          "output_type": "stream",
          "text": [
            "\n",
            "Epoch: 0017 cost = 0.675265540 accuracy= 0.002666667\n"
          ],
          "name": "stdout"
        },
        {
          "output_type": "stream",
          "text": [
            "Batch loop: 100%|██████████| 17/17 [00:00<00:00, 21.75it/s]\n",
            "Batch loop:  18%|█▊        | 3/17 [00:00<00:00, 22.13it/s]"
          ],
          "name": "stderr"
        },
        {
          "output_type": "stream",
          "text": [
            "\n",
            "Epoch: 0018 cost = 0.686485634 accuracy= 0.182666659\n"
          ],
          "name": "stdout"
        },
        {
          "output_type": "stream",
          "text": [
            "Batch loop: 100%|██████████| 17/17 [00:00<00:00, 21.51it/s]\n",
            "Batch loop:  18%|█▊        | 3/17 [00:00<00:00, 22.55it/s]"
          ],
          "name": "stderr"
        },
        {
          "output_type": "stream",
          "text": [
            "\n",
            "Epoch: 0019 cost = 0.677627581 accuracy= 0.094666667\n"
          ],
          "name": "stdout"
        },
        {
          "output_type": "stream",
          "text": [
            "Batch loop: 100%|██████████| 17/17 [00:00<00:00, 21.96it/s]\n",
            "Batch loop:  18%|█▊        | 3/17 [00:00<00:00, 21.56it/s]"
          ],
          "name": "stderr"
        },
        {
          "output_type": "stream",
          "text": [
            "\n",
            "Epoch: 0020 cost = 0.672792070 accuracy= 0.057333332\n"
          ],
          "name": "stdout"
        },
        {
          "output_type": "stream",
          "text": [
            "Batch loop: 100%|██████████| 17/17 [00:00<00:00, 21.53it/s]\n",
            "Batch loop:  18%|█▊        | 3/17 [00:00<00:00, 21.89it/s]"
          ],
          "name": "stderr"
        },
        {
          "output_type": "stream",
          "text": [
            "\n",
            "Epoch: 0021 cost = 0.669787147 accuracy= 0.159999996\n"
          ],
          "name": "stdout"
        },
        {
          "output_type": "stream",
          "text": [
            "Batch loop: 100%|██████████| 17/17 [00:00<00:00, 21.77it/s]\n",
            "Batch loop:  18%|█▊        | 3/17 [00:00<00:00, 21.62it/s]"
          ],
          "name": "stderr"
        },
        {
          "output_type": "stream",
          "text": [
            "\n",
            "Epoch: 0022 cost = 0.671310232 accuracy= 0.112000003\n"
          ],
          "name": "stdout"
        },
        {
          "output_type": "stream",
          "text": [
            "Batch loop: 100%|██████████| 17/17 [00:00<00:00, 21.86it/s]\n",
            "Batch loop:  18%|█▊        | 3/17 [00:00<00:00, 22.26it/s]"
          ],
          "name": "stderr"
        },
        {
          "output_type": "stream",
          "text": [
            "\n",
            "Epoch: 0023 cost = 0.661442564 accuracy= 0.104000002\n"
          ],
          "name": "stdout"
        },
        {
          "output_type": "stream",
          "text": [
            "Batch loop: 100%|██████████| 17/17 [00:00<00:00, 21.55it/s]\n",
            "Batch loop:  18%|█▊        | 3/17 [00:00<00:00, 21.88it/s]"
          ],
          "name": "stderr"
        },
        {
          "output_type": "stream",
          "text": [
            "\n",
            "Epoch: 0024 cost = 0.663897791 accuracy= 0.125333339\n"
          ],
          "name": "stdout"
        },
        {
          "output_type": "stream",
          "text": [
            "Batch loop: 100%|██████████| 17/17 [00:00<00:00, 21.78it/s]\n",
            "Batch loop:  18%|█▊        | 3/17 [00:00<00:00, 22.22it/s]"
          ],
          "name": "stderr"
        },
        {
          "output_type": "stream",
          "text": [
            "\n",
            "Epoch: 0025 cost = 0.665791000 accuracy= 0.129333332\n"
          ],
          "name": "stdout"
        },
        {
          "output_type": "stream",
          "text": [
            "Batch loop: 100%|██████████| 17/17 [00:00<00:00, 21.80it/s]\n",
            "Batch loop:  18%|█▊        | 3/17 [00:00<00:00, 21.88it/s]"
          ],
          "name": "stderr"
        },
        {
          "output_type": "stream",
          "text": [
            "\n",
            "Epoch: 0026 cost = 0.652827098 accuracy= 0.256000012\n"
          ],
          "name": "stdout"
        },
        {
          "output_type": "stream",
          "text": [
            "Batch loop: 100%|██████████| 17/17 [00:00<00:00, 21.92it/s]\n",
            "Batch loop:  18%|█▊        | 3/17 [00:00<00:00, 22.34it/s]"
          ],
          "name": "stderr"
        },
        {
          "output_type": "stream",
          "text": [
            "\n",
            "Epoch: 0027 cost = 0.657635980 accuracy= 0.085333332\n"
          ],
          "name": "stdout"
        },
        {
          "output_type": "stream",
          "text": [
            "Batch loop: 100%|██████████| 17/17 [00:00<00:00, 22.03it/s]\n",
            "Batch loop:  18%|█▊        | 3/17 [00:00<00:00, 21.70it/s]"
          ],
          "name": "stderr"
        },
        {
          "output_type": "stream",
          "text": [
            "\n",
            "Epoch: 0028 cost = 0.644346581 accuracy= 0.075999998\n"
          ],
          "name": "stdout"
        },
        {
          "output_type": "stream",
          "text": [
            "Batch loop: 100%|██████████| 17/17 [00:00<00:00, 21.83it/s]\n",
            "Batch loop:  18%|█▊        | 3/17 [00:00<00:00, 21.01it/s]"
          ],
          "name": "stderr"
        },
        {
          "output_type": "stream",
          "text": [
            "\n",
            "Epoch: 0029 cost = 0.645222762 accuracy= 0.113333337\n"
          ],
          "name": "stdout"
        },
        {
          "output_type": "stream",
          "text": [
            "Batch loop: 100%|██████████| 17/17 [00:00<00:00, 21.80it/s]\n",
            "Batch loop:  18%|█▊        | 3/17 [00:00<00:00, 21.61it/s]"
          ],
          "name": "stderr"
        },
        {
          "output_type": "stream",
          "text": [
            "\n",
            "Epoch: 0030 cost = 0.647489499 accuracy= 0.101333335\n"
          ],
          "name": "stdout"
        },
        {
          "output_type": "stream",
          "text": [
            "Batch loop: 100%|██████████| 17/17 [00:00<00:00, 21.77it/s]\n",
            "Batch loop:  12%|█▏        | 2/17 [00:00<00:00, 19.89it/s]"
          ],
          "name": "stderr"
        },
        {
          "output_type": "stream",
          "text": [
            "\n",
            "Epoch: 0031 cost = 0.644493878 accuracy= 0.166666672\n"
          ],
          "name": "stdout"
        },
        {
          "output_type": "stream",
          "text": [
            "Batch loop: 100%|██████████| 17/17 [00:00<00:00, 21.57it/s]\n",
            "Batch loop:  18%|█▊        | 3/17 [00:00<00:00, 21.56it/s]"
          ],
          "name": "stderr"
        },
        {
          "output_type": "stream",
          "text": [
            "\n",
            "Epoch: 0032 cost = 0.656165105 accuracy= 0.148000002\n"
          ],
          "name": "stdout"
        },
        {
          "output_type": "stream",
          "text": [
            "Batch loop: 100%|██████████| 17/17 [00:00<00:00, 21.70it/s]\n",
            "Batch loop:  18%|█▊        | 3/17 [00:00<00:00, 21.51it/s]"
          ],
          "name": "stderr"
        },
        {
          "output_type": "stream",
          "text": [
            "\n",
            "Epoch: 0033 cost = 0.640418961 accuracy= 0.244000003\n"
          ],
          "name": "stdout"
        },
        {
          "output_type": "stream",
          "text": [
            "Batch loop: 100%|██████████| 17/17 [00:00<00:00, 21.79it/s]\n",
            "Batch loop:  18%|█▊        | 3/17 [00:00<00:00, 21.51it/s]"
          ],
          "name": "stderr"
        },
        {
          "output_type": "stream",
          "text": [
            "\n",
            "Epoch: 0034 cost = 0.637674809 accuracy= 0.145333335\n"
          ],
          "name": "stdout"
        },
        {
          "output_type": "stream",
          "text": [
            "Batch loop: 100%|██████████| 17/17 [00:00<00:00, 21.82it/s]\n",
            "Batch loop:  18%|█▊        | 3/17 [00:00<00:00, 21.92it/s]"
          ],
          "name": "stderr"
        },
        {
          "output_type": "stream",
          "text": [
            "\n",
            "Epoch: 0035 cost = 0.634265262 accuracy= 0.193333328\n"
          ],
          "name": "stdout"
        },
        {
          "output_type": "stream",
          "text": [
            "Batch loop: 100%|██████████| 17/17 [00:00<00:00, 21.80it/s]\n",
            "Batch loop:  18%|█▊        | 3/17 [00:00<00:00, 21.57it/s]"
          ],
          "name": "stderr"
        },
        {
          "output_type": "stream",
          "text": [
            "\n",
            "Epoch: 0036 cost = 0.638047345 accuracy= 0.078666665\n"
          ],
          "name": "stdout"
        },
        {
          "output_type": "stream",
          "text": [
            "Batch loop: 100%|██████████| 17/17 [00:00<00:00, 21.44it/s]\n",
            "Batch loop:  18%|█▊        | 3/17 [00:00<00:00, 21.32it/s]"
          ],
          "name": "stderr"
        },
        {
          "output_type": "stream",
          "text": [
            "\n",
            "Epoch: 0037 cost = 0.636540374 accuracy= 0.090666667\n"
          ],
          "name": "stdout"
        },
        {
          "output_type": "stream",
          "text": [
            "Batch loop: 100%|██████████| 17/17 [00:00<00:00, 21.82it/s]\n",
            "Batch loop:  18%|█▊        | 3/17 [00:00<00:00, 21.50it/s]"
          ],
          "name": "stderr"
        },
        {
          "output_type": "stream",
          "text": [
            "\n",
            "Epoch: 0038 cost = 0.635047317 accuracy= 0.314666659\n"
          ],
          "name": "stdout"
        },
        {
          "output_type": "stream",
          "text": [
            "Batch loop: 100%|██████████| 17/17 [00:00<00:00, 21.75it/s]\n",
            "Batch loop:  18%|█▊        | 3/17 [00:00<00:00, 21.67it/s]"
          ],
          "name": "stderr"
        },
        {
          "output_type": "stream",
          "text": [
            "\n",
            "Epoch: 0039 cost = 0.627687465 accuracy= 0.344000012\n"
          ],
          "name": "stdout"
        },
        {
          "output_type": "stream",
          "text": [
            "Batch loop: 100%|██████████| 17/17 [00:00<00:00, 21.55it/s]\n",
            "Batch loop:  12%|█▏        | 2/17 [00:00<00:00, 19.75it/s]"
          ],
          "name": "stderr"
        },
        {
          "output_type": "stream",
          "text": [
            "\n",
            "Epoch: 0040 cost = 0.626860699 accuracy= 0.441333324\n"
          ],
          "name": "stdout"
        },
        {
          "output_type": "stream",
          "text": [
            "Batch loop: 100%|██████████| 17/17 [00:00<00:00, 20.89it/s]\n",
            "Batch loop:  18%|█▊        | 3/17 [00:00<00:00, 22.05it/s]"
          ],
          "name": "stderr"
        },
        {
          "output_type": "stream",
          "text": [
            "\n",
            "Epoch: 0041 cost = 0.629683859 accuracy= 0.268000007\n"
          ],
          "name": "stdout"
        },
        {
          "output_type": "stream",
          "text": [
            "Batch loop: 100%|██████████| 17/17 [00:00<00:00, 21.72it/s]\n",
            "Batch loop:  18%|█▊        | 3/17 [00:00<00:00, 21.51it/s]"
          ],
          "name": "stderr"
        },
        {
          "output_type": "stream",
          "text": [
            "\n",
            "Epoch: 0042 cost = 0.626079994 accuracy= 0.391999990\n"
          ],
          "name": "stdout"
        },
        {
          "output_type": "stream",
          "text": [
            "Batch loop: 100%|██████████| 17/17 [00:00<00:00, 21.75it/s]\n",
            "Batch loop:  18%|█▊        | 3/17 [00:00<00:00, 21.62it/s]"
          ],
          "name": "stderr"
        },
        {
          "output_type": "stream",
          "text": [
            "\n",
            "Epoch: 0043 cost = 0.614256929 accuracy= 0.441333324\n"
          ],
          "name": "stdout"
        },
        {
          "output_type": "stream",
          "text": [
            "Batch loop: 100%|██████████| 17/17 [00:00<00:00, 21.80it/s]\n",
            "Batch loop:  18%|█▊        | 3/17 [00:00<00:00, 21.96it/s]"
          ],
          "name": "stderr"
        },
        {
          "output_type": "stream",
          "text": [
            "\n",
            "Epoch: 0044 cost = 0.633411975 accuracy= 0.151999995\n"
          ],
          "name": "stdout"
        },
        {
          "output_type": "stream",
          "text": [
            "Batch loop: 100%|██████████| 17/17 [00:00<00:00, 21.28it/s]\n",
            "Batch loop:  18%|█▊        | 3/17 [00:00<00:00, 21.34it/s]"
          ],
          "name": "stderr"
        },
        {
          "output_type": "stream",
          "text": [
            "\n",
            "Epoch: 0045 cost = 0.625785470 accuracy= 0.280000001\n"
          ],
          "name": "stdout"
        },
        {
          "output_type": "stream",
          "text": [
            "Batch loop: 100%|██████████| 17/17 [00:00<00:00, 21.26it/s]\n",
            "Batch loop:  18%|█▊        | 3/17 [00:00<00:00, 21.61it/s]"
          ],
          "name": "stderr"
        },
        {
          "output_type": "stream",
          "text": [
            "\n",
            "Epoch: 0046 cost = 0.631847757 accuracy= 0.274666667\n"
          ],
          "name": "stdout"
        },
        {
          "output_type": "stream",
          "text": [
            "Batch loop: 100%|██████████| 17/17 [00:00<00:00, 21.76it/s]\n",
            "Batch loop:  18%|█▊        | 3/17 [00:00<00:00, 21.86it/s]"
          ],
          "name": "stderr"
        },
        {
          "output_type": "stream",
          "text": [
            "\n",
            "Epoch: 0047 cost = 0.661650738 accuracy= 0.206666663\n"
          ],
          "name": "stdout"
        },
        {
          "output_type": "stream",
          "text": [
            "Batch loop: 100%|██████████| 17/17 [00:00<00:00, 21.67it/s]\n",
            "Batch loop:  12%|█▏        | 2/17 [00:00<00:00, 19.75it/s]"
          ],
          "name": "stderr"
        },
        {
          "output_type": "stream",
          "text": [
            "\n",
            "Epoch: 0048 cost = 0.635930345 accuracy= 0.358666658\n"
          ],
          "name": "stdout"
        },
        {
          "output_type": "stream",
          "text": [
            "Batch loop: 100%|██████████| 17/17 [00:00<00:00, 21.89it/s]\n",
            "Batch loop:  18%|█▊        | 3/17 [00:00<00:00, 21.21it/s]"
          ],
          "name": "stderr"
        },
        {
          "output_type": "stream",
          "text": [
            "\n",
            "Epoch: 0049 cost = 0.624255061 accuracy= 0.401333332\n"
          ],
          "name": "stdout"
        },
        {
          "output_type": "stream",
          "text": [
            "Batch loop: 100%|██████████| 17/17 [00:00<00:00, 21.62it/s]\n",
            "Batch loop:  18%|█▊        | 3/17 [00:00<00:00, 22.22it/s]"
          ],
          "name": "stderr"
        },
        {
          "output_type": "stream",
          "text": [
            "\n",
            "Epoch: 0050 cost = 0.612069270 accuracy= 0.234666660\n"
          ],
          "name": "stdout"
        },
        {
          "output_type": "stream",
          "text": [
            "Batch loop: 100%|██████████| 17/17 [00:00<00:00, 21.61it/s]\n",
            "Batch loop:  18%|█▊        | 3/17 [00:00<00:00, 20.88it/s]"
          ],
          "name": "stderr"
        },
        {
          "output_type": "stream",
          "text": [
            "\n",
            "Epoch: 0051 cost = 0.584146624 accuracy= 0.266666681\n"
          ],
          "name": "stdout"
        },
        {
          "output_type": "stream",
          "text": [
            "Batch loop: 100%|██████████| 17/17 [00:00<00:00, 21.53it/s]\n",
            "Batch loop:  18%|█▊        | 3/17 [00:00<00:00, 22.24it/s]"
          ],
          "name": "stderr"
        },
        {
          "output_type": "stream",
          "text": [
            "\n",
            "Epoch: 0052 cost = 0.620622439 accuracy= 0.553333342\n"
          ],
          "name": "stdout"
        },
        {
          "output_type": "stream",
          "text": [
            "Batch loop: 100%|██████████| 17/17 [00:00<00:00, 21.69it/s]\n",
            "Batch loop:  18%|█▊        | 3/17 [00:00<00:00, 21.67it/s]"
          ],
          "name": "stderr"
        },
        {
          "output_type": "stream",
          "text": [
            "\n",
            "Epoch: 0053 cost = 0.632749252 accuracy= 0.430666655\n"
          ],
          "name": "stdout"
        },
        {
          "output_type": "stream",
          "text": [
            "Batch loop: 100%|██████████| 17/17 [00:00<00:00, 21.58it/s]\n",
            "Batch loop:  18%|█▊        | 3/17 [00:00<00:00, 22.01it/s]"
          ],
          "name": "stderr"
        },
        {
          "output_type": "stream",
          "text": [
            "\n",
            "Epoch: 0054 cost = 0.632318514 accuracy= 0.439999998\n"
          ],
          "name": "stdout"
        },
        {
          "output_type": "stream",
          "text": [
            "Batch loop: 100%|██████████| 17/17 [00:00<00:00, 21.59it/s]\n",
            "Batch loop:  18%|█▊        | 3/17 [00:00<00:00, 22.14it/s]"
          ],
          "name": "stderr"
        },
        {
          "output_type": "stream",
          "text": [
            "\n",
            "Epoch: 0055 cost = 0.591594927 accuracy= 0.422666669\n"
          ],
          "name": "stdout"
        },
        {
          "output_type": "stream",
          "text": [
            "Batch loop: 100%|██████████| 17/17 [00:00<00:00, 21.88it/s]\n",
            "Batch loop:  18%|█▊        | 3/17 [00:00<00:00, 21.90it/s]"
          ],
          "name": "stderr"
        },
        {
          "output_type": "stream",
          "text": [
            "\n",
            "Epoch: 0056 cost = 0.607228879 accuracy= 0.530666649\n"
          ],
          "name": "stdout"
        },
        {
          "output_type": "stream",
          "text": [
            "Batch loop: 100%|██████████| 17/17 [00:00<00:00, 21.79it/s]\n",
            "Batch loop:  18%|█▊        | 3/17 [00:00<00:00, 22.11it/s]"
          ],
          "name": "stderr"
        },
        {
          "output_type": "stream",
          "text": [
            "\n",
            "Epoch: 0057 cost = 0.604781540 accuracy= 0.469333321\n"
          ],
          "name": "stdout"
        },
        {
          "output_type": "stream",
          "text": [
            "Batch loop: 100%|██████████| 17/17 [00:00<00:00, 21.70it/s]\n",
            "Batch loop:  18%|█▊        | 3/17 [00:00<00:00, 20.84it/s]"
          ],
          "name": "stderr"
        },
        {
          "output_type": "stream",
          "text": [
            "\n",
            "Epoch: 0058 cost = 0.600507621 accuracy= 0.398666680\n"
          ],
          "name": "stdout"
        },
        {
          "output_type": "stream",
          "text": [
            "Batch loop: 100%|██████████| 17/17 [00:00<00:00, 21.60it/s]\n",
            "Batch loop:  18%|█▊        | 3/17 [00:00<00:00, 21.93it/s]"
          ],
          "name": "stderr"
        },
        {
          "output_type": "stream",
          "text": [
            "\n",
            "Epoch: 0059 cost = 0.598195560 accuracy= 0.478666663\n"
          ],
          "name": "stdout"
        },
        {
          "output_type": "stream",
          "text": [
            "Batch loop: 100%|██████████| 17/17 [00:00<00:00, 21.89it/s]\n",
            "Batch loop:  18%|█▊        | 3/17 [00:00<00:00, 21.09it/s]"
          ],
          "name": "stderr"
        },
        {
          "output_type": "stream",
          "text": [
            "\n",
            "Epoch: 0060 cost = 0.601664319 accuracy= 0.410666674\n"
          ],
          "name": "stdout"
        },
        {
          "output_type": "stream",
          "text": [
            "Batch loop: 100%|██████████| 17/17 [00:00<00:00, 21.75it/s]\n",
            "Batch loop:  18%|█▊        | 3/17 [00:00<00:00, 21.81it/s]"
          ],
          "name": "stderr"
        },
        {
          "output_type": "stream",
          "text": [
            "\n",
            "Epoch: 0061 cost = 0.638634773 accuracy= 0.274666667\n"
          ],
          "name": "stdout"
        },
        {
          "output_type": "stream",
          "text": [
            "Batch loop: 100%|██████████| 17/17 [00:00<00:00, 21.61it/s]\n",
            "Batch loop:  18%|█▊        | 3/17 [00:00<00:00, 20.87it/s]"
          ],
          "name": "stderr"
        },
        {
          "output_type": "stream",
          "text": [
            "\n",
            "Epoch: 0062 cost = 0.596664327 accuracy= 0.388000011\n"
          ],
          "name": "stdout"
        },
        {
          "output_type": "stream",
          "text": [
            "Batch loop: 100%|██████████| 17/17 [00:00<00:00, 21.69it/s]\n",
            "Batch loop:  18%|█▊        | 3/17 [00:00<00:00, 22.47it/s]"
          ],
          "name": "stderr"
        },
        {
          "output_type": "stream",
          "text": [
            "\n",
            "Epoch: 0063 cost = 0.601433389 accuracy= 0.363999993\n"
          ],
          "name": "stdout"
        },
        {
          "output_type": "stream",
          "text": [
            "Batch loop: 100%|██████████| 17/17 [00:00<00:00, 21.82it/s]\n",
            "Batch loop:  18%|█▊        | 3/17 [00:00<00:00, 21.49it/s]"
          ],
          "name": "stderr"
        },
        {
          "output_type": "stream",
          "text": [
            "\n",
            "Epoch: 0064 cost = 0.600790367 accuracy= 0.433333337\n"
          ],
          "name": "stdout"
        },
        {
          "output_type": "stream",
          "text": [
            "Batch loop: 100%|██████████| 17/17 [00:00<00:00, 21.60it/s]\n",
            "Batch loop:  18%|█▊        | 3/17 [00:00<00:00, 22.03it/s]"
          ],
          "name": "stderr"
        },
        {
          "output_type": "stream",
          "text": [
            "\n",
            "Epoch: 0065 cost = 0.598380296 accuracy= 0.541333318\n"
          ],
          "name": "stdout"
        },
        {
          "output_type": "stream",
          "text": [
            "Batch loop: 100%|██████████| 17/17 [00:00<00:00, 21.80it/s]\n",
            "Batch loop:  18%|█▊        | 3/17 [00:00<00:00, 20.98it/s]"
          ],
          "name": "stderr"
        },
        {
          "output_type": "stream",
          "text": [
            "\n",
            "Epoch: 0066 cost = 0.579920625 accuracy= 0.318666667\n"
          ],
          "name": "stdout"
        },
        {
          "output_type": "stream",
          "text": [
            "Batch loop: 100%|██████████| 17/17 [00:00<00:00, 21.82it/s]\n",
            "Batch loop:  18%|█▊        | 3/17 [00:00<00:00, 22.02it/s]"
          ],
          "name": "stderr"
        },
        {
          "output_type": "stream",
          "text": [
            "\n",
            "Epoch: 0067 cost = 0.549156462 accuracy= 0.435999990\n"
          ],
          "name": "stdout"
        },
        {
          "output_type": "stream",
          "text": [
            "Batch loop: 100%|██████████| 17/17 [00:00<00:00, 22.15it/s]\n",
            "Batch loop:  18%|█▊        | 3/17 [00:00<00:00, 21.75it/s]"
          ],
          "name": "stderr"
        },
        {
          "output_type": "stream",
          "text": [
            "\n",
            "Epoch: 0068 cost = 0.562460244 accuracy= 0.340000004\n"
          ],
          "name": "stdout"
        },
        {
          "output_type": "stream",
          "text": [
            "Batch loop: 100%|██████████| 17/17 [00:00<00:00, 21.74it/s]\n",
            "Batch loop:  18%|█▊        | 3/17 [00:00<00:00, 22.61it/s]"
          ],
          "name": "stderr"
        },
        {
          "output_type": "stream",
          "text": [
            "\n",
            "Epoch: 0069 cost = 0.583121202 accuracy= 0.457333326\n"
          ],
          "name": "stdout"
        },
        {
          "output_type": "stream",
          "text": [
            "Batch loop: 100%|██████████| 17/17 [00:00<00:00, 21.94it/s]\n",
            "Batch loop:  18%|█▊        | 3/17 [00:00<00:00, 22.35it/s]"
          ],
          "name": "stderr"
        },
        {
          "output_type": "stream",
          "text": [
            "\n",
            "Epoch: 0070 cost = 0.620643213 accuracy= 0.561333358\n"
          ],
          "name": "stdout"
        },
        {
          "output_type": "stream",
          "text": [
            "Batch loop: 100%|██████████| 17/17 [00:00<00:00, 21.67it/s]\n",
            "Batch loop:  18%|█▊        | 3/17 [00:00<00:00, 22.28it/s]"
          ],
          "name": "stderr"
        },
        {
          "output_type": "stream",
          "text": [
            "\n",
            "Epoch: 0071 cost = 0.601804088 accuracy= 0.286666662\n"
          ],
          "name": "stdout"
        },
        {
          "output_type": "stream",
          "text": [
            "Batch loop: 100%|██████████| 17/17 [00:00<00:00, 21.80it/s]\n",
            "Batch loop:  18%|█▊        | 3/17 [00:00<00:00, 22.48it/s]"
          ],
          "name": "stderr"
        },
        {
          "output_type": "stream",
          "text": [
            "\n",
            "Epoch: 0072 cost = 0.583064607 accuracy= 0.322666675\n"
          ],
          "name": "stdout"
        },
        {
          "output_type": "stream",
          "text": [
            "Batch loop: 100%|██████████| 17/17 [00:00<00:00, 21.59it/s]\n",
            "Batch loop:  18%|█▊        | 3/17 [00:00<00:00, 21.06it/s]"
          ],
          "name": "stderr"
        },
        {
          "output_type": "stream",
          "text": [
            "\n",
            "Epoch: 0073 cost = 0.568366059 accuracy= 0.337333322\n"
          ],
          "name": "stdout"
        },
        {
          "output_type": "stream",
          "text": [
            "Batch loop: 100%|██████████| 17/17 [00:00<00:00, 21.74it/s]\n",
            "Batch loop:  18%|█▊        | 3/17 [00:00<00:00, 21.60it/s]"
          ],
          "name": "stderr"
        },
        {
          "output_type": "stream",
          "text": [
            "\n",
            "Epoch: 0074 cost = 0.543131646 accuracy= 0.370666653\n"
          ],
          "name": "stdout"
        },
        {
          "output_type": "stream",
          "text": [
            "Batch loop: 100%|██████████| 17/17 [00:00<00:00, 21.84it/s]\n",
            "Batch loop:  18%|█▊        | 3/17 [00:00<00:00, 21.10it/s]"
          ],
          "name": "stderr"
        },
        {
          "output_type": "stream",
          "text": [
            "\n",
            "Epoch: 0075 cost = 0.536430953 accuracy= 0.397333324\n"
          ],
          "name": "stdout"
        },
        {
          "output_type": "stream",
          "text": [
            "Batch loop: 100%|██████████| 17/17 [00:00<00:00, 21.55it/s]\n",
            "Batch loop:  18%|█▊        | 3/17 [00:00<00:00, 22.13it/s]"
          ],
          "name": "stderr"
        },
        {
          "output_type": "stream",
          "text": [
            "\n",
            "Epoch: 0076 cost = 0.523939283 accuracy= 0.335999995\n"
          ],
          "name": "stdout"
        },
        {
          "output_type": "stream",
          "text": [
            "Batch loop: 100%|██████████| 17/17 [00:00<00:00, 21.59it/s]\n",
            "Batch loop:  18%|█▊        | 3/17 [00:00<00:00, 21.74it/s]"
          ],
          "name": "stderr"
        },
        {
          "output_type": "stream",
          "text": [
            "\n",
            "Epoch: 0077 cost = 0.533541327 accuracy= 0.290666670\n"
          ],
          "name": "stdout"
        },
        {
          "output_type": "stream",
          "text": [
            "Batch loop: 100%|██████████| 17/17 [00:00<00:00, 21.81it/s]\n",
            "Batch loop:  18%|█▊        | 3/17 [00:00<00:00, 21.14it/s]"
          ],
          "name": "stderr"
        },
        {
          "output_type": "stream",
          "text": [
            "\n",
            "Epoch: 0078 cost = 0.552365734 accuracy= 0.289333344\n"
          ],
          "name": "stdout"
        },
        {
          "output_type": "stream",
          "text": [
            "Batch loop: 100%|██████████| 17/17 [00:00<00:00, 21.68it/s]\n",
            "Batch loop:  18%|█▊        | 3/17 [00:00<00:00, 21.64it/s]"
          ],
          "name": "stderr"
        },
        {
          "output_type": "stream",
          "text": [
            "\n",
            "Epoch: 0079 cost = 0.538770462 accuracy= 0.397333324\n"
          ],
          "name": "stdout"
        },
        {
          "output_type": "stream",
          "text": [
            "Batch loop: 100%|██████████| 17/17 [00:00<00:00, 21.68it/s]\n",
            "Batch loop:  18%|█▊        | 3/17 [00:00<00:00, 21.79it/s]"
          ],
          "name": "stderr"
        },
        {
          "output_type": "stream",
          "text": [
            "\n",
            "Epoch: 0080 cost = 0.525251622 accuracy= 0.331999987\n"
          ],
          "name": "stdout"
        },
        {
          "output_type": "stream",
          "text": [
            "Batch loop: 100%|██████████| 17/17 [00:00<00:00, 21.90it/s]\n",
            "Batch loop:  18%|█▊        | 3/17 [00:00<00:00, 21.52it/s]"
          ],
          "name": "stderr"
        },
        {
          "output_type": "stream",
          "text": [
            "\n",
            "Epoch: 0081 cost = 0.512360897 accuracy= 0.375999987\n"
          ],
          "name": "stdout"
        },
        {
          "output_type": "stream",
          "text": [
            "Batch loop: 100%|██████████| 17/17 [00:00<00:00, 21.72it/s]\n",
            "Batch loop:  18%|█▊        | 3/17 [00:00<00:00, 22.55it/s]"
          ],
          "name": "stderr"
        },
        {
          "output_type": "stream",
          "text": [
            "\n",
            "Epoch: 0082 cost = 0.549468349 accuracy= 0.402666658\n"
          ],
          "name": "stdout"
        },
        {
          "output_type": "stream",
          "text": [
            "Batch loop: 100%|██████████| 17/17 [00:00<00:00, 21.70it/s]\n",
            "Batch loop:  18%|█▊        | 3/17 [00:00<00:00, 21.96it/s]"
          ],
          "name": "stderr"
        },
        {
          "output_type": "stream",
          "text": [
            "\n",
            "Epoch: 0083 cost = 0.521362271 accuracy= 0.353333324\n"
          ],
          "name": "stdout"
        },
        {
          "output_type": "stream",
          "text": [
            "Batch loop: 100%|██████████| 17/17 [00:00<00:00, 21.82it/s]\n",
            "Batch loop:  18%|█▊        | 3/17 [00:00<00:00, 21.08it/s]"
          ],
          "name": "stderr"
        },
        {
          "output_type": "stream",
          "text": [
            "\n",
            "Epoch: 0084 cost = 0.500187399 accuracy= 0.386666656\n"
          ],
          "name": "stdout"
        },
        {
          "output_type": "stream",
          "text": [
            "Batch loop: 100%|██████████| 17/17 [00:00<00:00, 21.86it/s]\n",
            "Batch loop:  18%|█▊        | 3/17 [00:00<00:00, 21.88it/s]"
          ],
          "name": "stderr"
        },
        {
          "output_type": "stream",
          "text": [
            "\n",
            "Epoch: 0085 cost = 0.505799336 accuracy= 0.432000011\n"
          ],
          "name": "stdout"
        },
        {
          "output_type": "stream",
          "text": [
            "Batch loop: 100%|██████████| 17/17 [00:00<00:00, 21.81it/s]\n",
            "Batch loop:  18%|█▊        | 3/17 [00:00<00:00, 22.32it/s]"
          ],
          "name": "stderr"
        },
        {
          "output_type": "stream",
          "text": [
            "\n",
            "Epoch: 0086 cost = 0.489594775 accuracy= 0.430666655\n"
          ],
          "name": "stdout"
        },
        {
          "output_type": "stream",
          "text": [
            "Batch loop: 100%|██████████| 17/17 [00:00<00:00, 21.90it/s]\n",
            "Batch loop:  18%|█▊        | 3/17 [00:00<00:00, 21.96it/s]"
          ],
          "name": "stderr"
        },
        {
          "output_type": "stream",
          "text": [
            "\n",
            "Epoch: 0087 cost = 0.508787360 accuracy= 0.456000000\n"
          ],
          "name": "stdout"
        },
        {
          "output_type": "stream",
          "text": [
            "Batch loop: 100%|██████████| 17/17 [00:00<00:00, 21.80it/s]\n",
            "Batch loop:  18%|█▊        | 3/17 [00:00<00:00, 21.62it/s]"
          ],
          "name": "stderr"
        },
        {
          "output_type": "stream",
          "text": [
            "\n",
            "Epoch: 0088 cost = 0.494901643 accuracy= 0.401333332\n"
          ],
          "name": "stdout"
        },
        {
          "output_type": "stream",
          "text": [
            "Batch loop: 100%|██████████| 17/17 [00:00<00:00, 21.63it/s]\n",
            "Batch loop:  18%|█▊        | 3/17 [00:00<00:00, 21.20it/s]"
          ],
          "name": "stderr"
        },
        {
          "output_type": "stream",
          "text": [
            "\n",
            "Epoch: 0089 cost = 0.483447143 accuracy= 0.347999990\n"
          ],
          "name": "stdout"
        },
        {
          "output_type": "stream",
          "text": [
            "Batch loop: 100%|██████████| 17/17 [00:00<00:00, 21.76it/s]\n",
            "Batch loop:  18%|█▊        | 3/17 [00:00<00:00, 21.87it/s]"
          ],
          "name": "stderr"
        },
        {
          "output_type": "stream",
          "text": [
            "\n",
            "Epoch: 0090 cost = 0.482762842 accuracy= 0.488000005\n"
          ],
          "name": "stdout"
        },
        {
          "output_type": "stream",
          "text": [
            "Batch loop: 100%|██████████| 17/17 [00:00<00:00, 21.60it/s]\n",
            "Batch loop:  18%|█▊        | 3/17 [00:00<00:00, 21.38it/s]"
          ],
          "name": "stderr"
        },
        {
          "output_type": "stream",
          "text": [
            "\n",
            "Epoch: 0091 cost = 0.490002106 accuracy= 0.369333327\n"
          ],
          "name": "stdout"
        },
        {
          "output_type": "stream",
          "text": [
            "Batch loop: 100%|██████████| 17/17 [00:00<00:00, 21.77it/s]\n",
            "Batch loop:  18%|█▊        | 3/17 [00:00<00:00, 22.06it/s]"
          ],
          "name": "stderr"
        },
        {
          "output_type": "stream",
          "text": [
            "\n",
            "Epoch: 0092 cost = 0.486924149 accuracy= 0.394666672\n"
          ],
          "name": "stdout"
        },
        {
          "output_type": "stream",
          "text": [
            "Batch loop: 100%|██████████| 17/17 [00:00<00:00, 21.64it/s]\n",
            "Batch loop:  18%|█▊        | 3/17 [00:00<00:00, 21.95it/s]"
          ],
          "name": "stderr"
        },
        {
          "output_type": "stream",
          "text": [
            "\n",
            "Epoch: 0093 cost = 0.475472808 accuracy= 0.395999998\n"
          ],
          "name": "stdout"
        },
        {
          "output_type": "stream",
          "text": [
            "Batch loop: 100%|██████████| 17/17 [00:00<00:00, 22.12it/s]\n",
            "Batch loop:  18%|█▊        | 3/17 [00:00<00:00, 22.79it/s]"
          ],
          "name": "stderr"
        },
        {
          "output_type": "stream",
          "text": [
            "\n",
            "Epoch: 0094 cost = 0.455070510 accuracy= 0.361333340\n"
          ],
          "name": "stdout"
        },
        {
          "output_type": "stream",
          "text": [
            "Batch loop: 100%|██████████| 17/17 [00:00<00:00, 22.10it/s]\n",
            "Batch loop:  18%|█▊        | 3/17 [00:00<00:00, 21.20it/s]"
          ],
          "name": "stderr"
        },
        {
          "output_type": "stream",
          "text": [
            "\n",
            "Epoch: 0095 cost = 0.442620630 accuracy= 0.362666667\n"
          ],
          "name": "stdout"
        },
        {
          "output_type": "stream",
          "text": [
            "Batch loop: 100%|██████████| 17/17 [00:00<00:00, 21.52it/s]\n",
            "Batch loop:  18%|█▊        | 3/17 [00:00<00:00, 21.52it/s]"
          ],
          "name": "stderr"
        },
        {
          "output_type": "stream",
          "text": [
            "\n",
            "Epoch: 0096 cost = 0.457372734 accuracy= 0.425333321\n"
          ],
          "name": "stdout"
        },
        {
          "output_type": "stream",
          "text": [
            "Batch loop: 100%|██████████| 17/17 [00:00<00:00, 21.46it/s]\n",
            "Batch loop:  18%|█▊        | 3/17 [00:00<00:00, 21.40it/s]"
          ],
          "name": "stderr"
        },
        {
          "output_type": "stream",
          "text": [
            "\n",
            "Epoch: 0097 cost = 0.431528840 accuracy= 0.536000013\n"
          ],
          "name": "stdout"
        },
        {
          "output_type": "stream",
          "text": [
            "Batch loop: 100%|██████████| 17/17 [00:00<00:00, 21.57it/s]\n",
            "Batch loop:  18%|█▊        | 3/17 [00:00<00:00, 21.64it/s]"
          ],
          "name": "stderr"
        },
        {
          "output_type": "stream",
          "text": [
            "\n",
            "Epoch: 0098 cost = 0.447400051 accuracy= 0.441333324\n"
          ],
          "name": "stdout"
        },
        {
          "output_type": "stream",
          "text": [
            "Batch loop: 100%|██████████| 17/17 [00:00<00:00, 21.66it/s]\n",
            "Batch loop:  18%|█▊        | 3/17 [00:00<00:00, 21.28it/s]"
          ],
          "name": "stderr"
        },
        {
          "output_type": "stream",
          "text": [
            "\n",
            "Epoch: 0099 cost = 0.438924516 accuracy= 0.414666653\n"
          ],
          "name": "stdout"
        },
        {
          "output_type": "stream",
          "text": [
            "Batch loop: 100%|██████████| 17/17 [00:00<00:00, 21.48it/s]\n"
          ],
          "name": "stderr"
        },
        {
          "output_type": "stream",
          "text": [
            "\n",
            "Epoch: 0100 cost = 0.453536560 accuracy= 0.527999997\n",
            "Learning Finished!\n"
          ],
          "name": "stdout"
        },
        {
          "output_type": "display_data",
          "data": {
            "image/png": "[encoded data removed]",
            "text/plain": [
              "<matplotlib.figure.Figure at 0x7f8f7efbfe48>"
            ]
          },
          "metadata": {
            "tags": []
          }
        }
      ]
    },
    {
      "metadata": {
        "id": "mZV-Yqc2Sood",
        "colab_type": "text"
      },
      "cell_type": "markdown",
      "source": [
        "##**Prediction**"
      ]
    },
    {
      "metadata": {
        "id": "PKjeX5OQsf3K",
        "colab_type": "code",
        "colab": {
          "autoexec": {
            "startup": false,
            "wait_interval": 0
          }
        }
      },
      "cell_type": "code",
      "source": [
        ""
      ],
      "execution_count": 0,
      "outputs": []
    },
    {
      "metadata": {
        "id": "HQDpowlhtk3y",
        "colab_type": "code",
        "colab": {
          "autoexec": {
            "startup": false,
            "wait_interval": 0
          }
        }
      },
      "cell_type": "code",
      "source": [
        ""
      ],
      "execution_count": 0,
      "outputs": []
    }
  ]
}