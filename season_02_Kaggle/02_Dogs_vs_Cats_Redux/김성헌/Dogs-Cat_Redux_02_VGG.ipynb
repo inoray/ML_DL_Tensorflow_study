{
 "cells": [
  {
   "cell_type": "markdown",
   "metadata": {},
   "source": [
    "# Dogs vs. Cats Redux: Kernels Edition\n",
    "\n",
    "## 2. 모델구성 및 학습"
   ]
  },
  {
   "cell_type": "code",
   "execution_count": 1,
   "metadata": {},
   "outputs": [
    {
     "name": "stderr",
     "output_type": "stream",
     "text": [
      "/home/shkim/anaconda3/lib/python3.6/site-packages/h5py/__init__.py:36: FutureWarning: Conversion of the second argument of issubdtype from `float` to `np.floating` is deprecated. In future, it will be treated as `np.float64 == np.dtype(float).type`.\n",
      "  from ._conv import register_converters as _register_converters\n"
     ]
    }
   ],
   "source": [
    "import os\n",
    "import matplotlib.pyplot as plt\n",
    "import tensorflow as tf\n",
    "import numpy as np\n",
    "from sklearn.model_selection import train_test_split\n",
    "import time\n",
    "import re\n",
    "\n",
    "# 구현모듈\n",
    "import data\n",
    "import model\n",
    "import train"
   ]
  },
  {
   "cell_type": "markdown",
   "metadata": {},
   "source": [
    "### 2.1 학습 데이터 생성 함수"
   ]
  },
  {
   "cell_type": "code",
   "execution_count": 2,
   "metadata": {},
   "outputs": [],
   "source": [
    "def getFiles(dir, word):\n",
    "    files =   [dir+i for i in os.listdir(dir) if word in i]\n",
    "    files.sort(key=lambda var:[int(x) if x.isdigit() else x for x in re.findall(r'[^0-9]|[0-9]+', var)])\n",
    "    return files"
   ]
  },
  {
   "cell_type": "code",
   "execution_count": 3,
   "metadata": {},
   "outputs": [],
   "source": [
    "def getDogCatData(image_dir, test_size=0.3):\n",
    "    dog_files =  getFiles(image_dir, 'dog')\n",
    "    cat_files =  getFiles(image_dir, 'cat')\n",
    "    print(\"dog_files: \", len(dog_files))\n",
    "    print(\"cat_files: \", len(cat_files))\n",
    "    \n",
    "    #dog_files = dog_files[:200]\n",
    "    #cat_files = cat_files[:200]\n",
    "\n",
    "    dog_cat_files = dog_files + cat_files\n",
    "\n",
    "    label_dog = [0 for i in range(len(dog_files))]\n",
    "    label_cat = [1 for i in range(len(cat_files))]\n",
    "    label_one_hot = np.eye(2)[label_dog + label_cat]\n",
    "\n",
    "    return train_test_split (dog_cat_files, label_one_hot, test_size=test_size, random_state=42)"
   ]
  },
  {
   "cell_type": "markdown",
   "metadata": {},
   "source": [
    "### 2.2 학습데이터와 valid 데이터 분리"
   ]
  },
  {
   "cell_type": "code",
   "execution_count": 4,
   "metadata": {},
   "outputs": [
    {
     "name": "stdout",
     "output_type": "stream",
     "text": [
      "dog_files:  12500\n",
      "cat_files:  12500\n",
      "train:  17500\n",
      "valid:  7500\n"
     ]
    }
   ],
   "source": [
    "DATA_DIR = \"../data/\"\n",
    "TRAIN_DIR = DATA_DIR + \"train_resize/\"\n",
    "\n",
    "x_train, x_valid, y_train, y_valid = getDogCatData (TRAIN_DIR)\n",
    "\n",
    "print(\"train: \", len(x_train))\n",
    "print(\"valid: \", len(x_valid))"
   ]
  },
  {
   "cell_type": "code",
   "execution_count": 5,
   "metadata": {},
   "outputs": [],
   "source": [
    "learning_rate = 0.0001\n",
    "epochs = 50\n",
    "batch_size =16"
   ]
  },
  {
   "cell_type": "markdown",
   "metadata": {},
   "source": [
    "### 2.3 dataset 생성"
   ]
  },
  {
   "cell_type": "code",
   "execution_count": 6,
   "metadata": {},
   "outputs": [],
   "source": [
    "# dataset 생성\n",
    "train_dataset = data.Dataset_image([x_train, y_train], batch_size = batch_size)\n",
    "valid_dataset = data.Dataset_image([x_valid, y_valid], batch_size = batch_size)"
   ]
  },
  {
   "cell_type": "code",
   "execution_count": 7,
   "metadata": {},
   "outputs": [
    {
     "name": "stdout",
     "output_type": "stream",
     "text": [
      "WARNING:tensorflow:From /home/shkim/anaconda3/lib/python3.6/site-packages/tensorflow/contrib/learn/python/learn/datasets/base.py:198: retry (from tensorflow.contrib.learn.python.learn.datasets.base) is deprecated and will be removed in a future version.\n",
      "Instructions for updating:\n",
      "Use the retry module or similar alternatives.\n"
     ]
    }
   ],
   "source": [
    "sess = tf.Session(config=tf.ConfigProto(gpu_options=tf.GPUOptions(allow_growth =True)))\n",
    "model = model.Vgg(sess, \"model\")\n",
    "model.build_net(image_shape=[150, 150, 3], class_count=2)"
   ]
  },
  {
   "cell_type": "markdown",
   "metadata": {},
   "source": [
    "### 2.4 학습"
   ]
  },
  {
   "cell_type": "code",
   "execution_count": 8,
   "metadata": {
    "scrolled": false
   },
   "outputs": [
    {
     "name": "stdout",
     "output_type": "stream",
     "text": [
      "train_count:  17500 total_batch_train:  1094\n",
      "valid_count:  7500 total_batch_valid:  469\n",
      "Learning started. It takes sometime.\n",
      "Epoch: 0001 train [cost:  1.304292083 , acc: 0.5146] valid [cost:  0.942297918 , acc: 0.5046]  749.73 seconds\n",
      "Epoch: 0002 train [cost:  1.009880403 , acc: 0.5265] valid [cost:  1.378580610 , acc: 0.5033]  745.77 seconds\n",
      "Epoch: 0003 train [cost:  0.960882443 , acc: 0.5307] valid [cost:  1.583931538 , acc: 0.5040]  745.99 seconds\n",
      "Epoch: 0004 train [cost:  0.916774880 , acc: 0.5534] valid [cost:  1.245467574 , acc: 0.5141]  745.86 seconds\n",
      "Epoch: 0005 train [cost:  0.863995445 , acc: 0.5993] valid [cost:  0.869077190 , acc: 0.5615]  745.85 seconds\n",
      "Epoch: 0006 train [cost:  0.834068348 , acc: 0.6350] valid [cost:  0.681089581 , acc: 0.6525]  745.77 seconds\n",
      "Epoch: 0007 train [cost:  0.783637080 , acc: 0.6680] valid [cost:  1.179714743 , acc: 0.6169]  745.87 seconds\n",
      "Epoch: 0008 train [cost:  0.760678464 , acc: 0.6910] valid [cost:  0.908118124 , acc: 0.6613]  746.19 seconds\n",
      "Epoch: 0009 train [cost:  0.751289696 , acc: 0.7088] valid [cost:  0.866130630 , acc: 0.6616]  745.60 seconds\n",
      "Epoch: 0010 train [cost:  0.681641005 , acc: 0.7272] valid [cost:  0.787237415 , acc: 0.6856]  746.04 seconds\n",
      "Save checkpoint: ./model/model.ckpt\n",
      "Epoch: 0011 train [cost:  0.660680869 , acc: 0.7385] valid [cost:  0.697210335 , acc: 0.7454]  741.81 seconds\n",
      "Epoch: 0012 train [cost:  0.595323792 , acc: 0.7589] valid [cost:  0.668249068 , acc: 0.7320]  741.71 seconds\n",
      "Epoch: 0013 train [cost:  0.556174202 , acc: 0.7723] valid [cost:  0.608560190 , acc: 0.7639]  741.86 seconds\n",
      "Epoch: 0014 train [cost:  0.522293032 , acc: 0.7866] valid [cost:  0.836530419 , acc: 0.7122]  741.84 seconds\n",
      "Epoch: 0015 train [cost:  0.490077533 , acc: 0.8009] valid [cost:  0.597975167 , acc: 0.7717]  741.92 seconds\n",
      "Epoch: 0016 train [cost:  0.458013480 , acc: 0.8144] valid [cost:  0.570637477 , acc: 0.8066]  741.98 seconds\n",
      "Epoch: 0017 train [cost:  0.428841105 , acc: 0.8245] valid [cost:  0.808562823 , acc: 0.7331]  741.90 seconds\n",
      "Epoch: 0018 train [cost:  0.406011236 , acc: 0.8314] valid [cost:  0.562608701 , acc: 0.8066]  741.85 seconds\n",
      "Epoch: 0019 train [cost:  0.384115665 , acc: 0.8438] valid [cost:  0.479819978 , acc: 0.8329]  741.64 seconds\n",
      "Epoch: 0020 train [cost:  0.356009981 , acc: 0.8563] valid [cost:  0.605407725 , acc: 0.7968]  741.80 seconds\n",
      "Save checkpoint: ./model/model.ckpt\n",
      "Epoch: 0021 train [cost:  0.334854800 , acc: 0.8641] valid [cost:  0.434116594 , acc: 0.8503]  741.40 seconds\n",
      "Epoch: 0022 train [cost:  0.305124803 , acc: 0.8760] valid [cost:  0.369242654 , acc: 0.8617]  741.78 seconds\n",
      "Epoch: 0023 train [cost:  0.282223659 , acc: 0.8836] valid [cost:  0.415449578 , acc: 0.8630]  741.81 seconds\n",
      "Epoch: 0024 train [cost:  0.267925141 , acc: 0.8878] valid [cost:  0.377551521 , acc: 0.8709]  742.06 seconds\n",
      "Epoch: 0025 train [cost:  0.254911561 , acc: 0.8946] valid [cost:  0.349399249 , acc: 0.8778]  742.93 seconds\n",
      "Epoch: 0026 train [cost:  0.233936577 , acc: 0.9040] valid [cost:  0.397488691 , acc: 0.8622]  750.36 seconds\n",
      "Epoch: 0027 train [cost:  0.224493727 , acc: 0.9074] valid [cost:  0.364117060 , acc: 0.8771]  741.85 seconds\n",
      "Epoch: 0028 train [cost:  0.204049942 , acc: 0.9167] valid [cost:  0.372878240 , acc: 0.8699]  741.89 seconds\n",
      "Epoch: 0029 train [cost:  0.199888432 , acc: 0.9167] valid [cost:  0.383468184 , acc: 0.8676]  743.26 seconds\n",
      "Epoch: 0030 train [cost:  0.186579071 , acc: 0.9218] valid [cost:  0.339602729 , acc: 0.8873]  745.05 seconds\n",
      "Save checkpoint: ./model/model.ckpt\n",
      "Epoch: 0031 train [cost:  0.174474792 , acc: 0.9269] valid [cost:  0.355158240 , acc: 0.8822]  744.96 seconds\n",
      "Epoch: 0032 train [cost:  0.172165250 , acc: 0.9318] valid [cost:  0.392091527 , acc: 0.8725]  745.39 seconds\n",
      "Epoch: 0033 train [cost:  0.159976477 , acc: 0.9358] valid [cost:  0.326528276 , acc: 0.8963]  744.29 seconds\n",
      "Epoch: 0034 train [cost:  0.154400858 , acc: 0.9385] valid [cost:  0.480046687 , acc: 0.8656]  744.48 seconds\n",
      "Epoch: 0035 train [cost:  0.140129690 , acc: 0.9439] valid [cost:  0.309709300 , acc: 0.9017]  744.41 seconds\n",
      "Epoch: 0036 train [cost:  0.133106843 , acc: 0.9479] valid [cost:  0.307512884 , acc: 0.8999]  744.92 seconds\n",
      "Epoch: 0037 train [cost:  0.130781510 , acc: 0.9484] valid [cost:  0.339600389 , acc: 0.8937]  744.68 seconds\n",
      "Epoch: 0038 train [cost:  0.121296738 , acc: 0.9513] valid [cost:  0.332529413 , acc: 0.8961]  744.62 seconds\n",
      "Epoch: 0039 train [cost:  0.112203287 , acc: 0.9552] valid [cost:  0.705081593 , acc: 0.8453]  744.79 seconds\n",
      "Epoch: 0040 train [cost:  0.110541801 , acc: 0.9564] valid [cost:  0.345696031 , acc: 0.8999]  744.45 seconds\n",
      "Save checkpoint: ./model/model.ckpt\n",
      "Epoch: 0041 train [cost:  0.110185981 , acc: 0.9565] valid [cost:  0.394592981 , acc: 0.8960]  744.62 seconds\n",
      "Epoch: 0042 train [cost:  0.101302399 , acc: 0.9603] valid [cost:  0.344318013 , acc: 0.8991]  744.24 seconds\n",
      "Epoch: 0043 train [cost:  0.100025762 , acc: 0.9618] valid [cost:  0.385947230 , acc: 0.8990]  744.48 seconds\n",
      "Epoch: 0044 train [cost:  0.092609281 , acc: 0.9624] valid [cost:  0.624367603 , acc: 0.8515]  744.58 seconds\n",
      "Epoch: 0045 train [cost:  0.086328973 , acc: 0.9663] valid [cost:  0.673800314 , acc: 0.8566]  744.50 seconds\n",
      "Epoch: 0046 train [cost:  0.085706653 , acc: 0.9665] valid [cost:  0.827012604 , acc: 0.8405]  744.62 seconds\n",
      "Epoch: 0047 train [cost:  0.080803611 , acc: 0.9680] valid [cost:  0.646887159 , acc: 0.8645]  744.41 seconds\n",
      "Epoch: 0048 train [cost:  0.080576376 , acc: 0.9680] valid [cost:  0.425439948 , acc: 0.8939]  744.41 seconds\n",
      "Epoch: 0049 train [cost:  0.071193819 , acc: 0.9733] valid [cost:  0.439820057 , acc: 0.8977]  744.56 seconds\n",
      "Epoch: 0050 train [cost:  0.073833335 , acc: 0.9703] valid [cost:  0.487917748 , acc: 0.8917]  744.48 seconds\n",
      "Save checkpoint: ./model/model.ckpt\n",
      "Learning Finished!\n",
      "--- 37207.62 seconds ---\n"
     ]
    }
   ],
   "source": [
    "train.train (model, train_dataset, valid_dataset, learning_rate, epochs)"
   ]
  },
  {
   "cell_type": "markdown",
   "metadata": {},
   "source": [
    "### 2.5 평가"
   ]
  },
  {
   "cell_type": "code",
   "execution_count": 9,
   "metadata": {},
   "outputs": [
    {
     "name": "stdout",
     "output_type": "stream",
     "text": [
      "eval_count:  17500 , total_batch_eval:  1094\n",
      "Evaluation Finished!\n",
      "cost:  0.153674873 , accuracy: 0.9542\n",
      "--- 151.87 seconds ---\n"
     ]
    },
    {
     "data": {
      "text/plain": [
       "(0.15367487348412653, 0.9541628580315626)"
      ]
     },
     "execution_count": 9,
     "metadata": {},
     "output_type": "execute_result"
    }
   ],
   "source": [
    "train.eval (model, train_dataset)"
   ]
  },
  {
   "cell_type": "code",
   "execution_count": 10,
   "metadata": {},
   "outputs": [
    {
     "name": "stdout",
     "output_type": "stream",
     "text": [
      "eval_count:  7500 , total_batch_eval:  469\n",
      "Evaluation Finished!\n",
      "cost:  0.487917748 , accuracy: 0.8917\n",
      "--- 65.11 seconds ---\n"
     ]
    },
    {
     "data": {
      "text/plain": [
       "(0.48791774778131897, 0.8917466240651077)"
      ]
     },
     "execution_count": 10,
     "metadata": {},
     "output_type": "execute_result"
    }
   ],
   "source": [
    "train.eval (model, valid_dataset)"
   ]
  }
 ],
 "metadata": {
  "anaconda-cloud": {},
  "kernelspec": {
   "display_name": "Python 3",
   "language": "python",
   "name": "python3"
  },
  "language_info": {
   "codemirror_mode": {
    "name": "ipython",
    "version": 3
   },
   "file_extension": ".py",
   "mimetype": "text/x-python",
   "name": "python",
   "nbconvert_exporter": "python",
   "pygments_lexer": "ipython3",
   "version": "3.6.4"
  }
 },
 "nbformat": 4,
 "nbformat_minor": 2
}
