{
 "cells": [
  {
   "cell_type": "markdown",
   "metadata": {},
   "source": [
    "# 5장 Logistic (regression) classfier 실습\n",
    "\n",
    "- logistic hypothesis\n",
    "\n",
    "    - \\\\(H(X) = \\frac{1}{1+{e}^{-W^{T}X}}\\\\)\n",
    "\n",
    "\n",
    "- cost\n",
    "\n",
    "    - \\\\(cost(W) = -\\frac{1}{m}\\sum{y\\log{(H(x))}+(1-y)\\log{(1-H(x))}}\\\\)\n",
    "\n",
    "\n",
    "- Gradient descent algorithm\n",
    "\n",
    "    - \\\\(W <= W - \\alpha\\frac{\\delta}{\\delta W}cost(W)\\\\)\n",
    "\n"
   ]
  },
  {
   "cell_type": "code",
   "execution_count": 1,
   "metadata": {
    "collapsed": true
   },
   "outputs": [],
   "source": [
    "import tensorflow as tf"
   ]
  },
  {
   "cell_type": "code",
   "execution_count": null,
   "metadata": {
    "collapsed": true
   },
   "outputs": [],
   "source": [
    "# 학습데이터\n",
    "x_data = [[1,2], [2,3], [3,1], [4,3], [5,3], [6,2]]\n",
    "y_data = [[0], [0], [0], [1], [1], [1]]\n",
    "\n",
    "# 학습데이터를 위한 placeholder\n",
    "X = tf.placeholder (tf.float32, shape=[None, 2])\n",
    "Y = tf.placeholder (tf.float32, shape=[None, 1])\n",
    "\n",
    "# 학습될 weight와 bias\n",
    "W = tf.Variable (tf.random_normal([2,1]), name='weight')\n",
    "b = tf.Variable (tf.random_normal([1]), name='bias')\n",
    "\n",
    "# 가설\n",
    "hypothesis = tf.sigmoid( tf.matmul(X, W) + b )\n",
    "\n",
    "# cost\n",
    "cost = -tf.reduce_mean (Y * tf.log(hypothesis) + (1 - Y) * tf.log(1 - hypothesis))\n",
    "\n",
    "# Gradient descent\n",
    "train = tf.train.GradientDescentOptimizer(learning_rate=0.01).minimize(cost)\n",
    "\n",
    "predicted = tf.cast(hypothesis > 0.5, dtype=tf.float32)\n",
    "accuracy ="
   ]
  }
 ],
 "metadata": {
  "anaconda-cloud": {},
  "kernelspec": {
   "display_name": "Python [conda root]",
   "language": "python",
   "name": "conda-root-py"
  },
  "language_info": {
   "codemirror_mode": {
    "name": "ipython",
    "version": 3
   },
   "file_extension": ".py",
   "mimetype": "text/x-python",
   "name": "python",
   "nbconvert_exporter": "python",
   "pygments_lexer": "ipython3",
   "version": "3.5.2"
  }
 },
 "nbformat": 4,
 "nbformat_minor": 1
}
